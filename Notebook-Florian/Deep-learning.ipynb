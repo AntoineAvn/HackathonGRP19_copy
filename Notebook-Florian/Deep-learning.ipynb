{
 "cells": [
  {
   "cell_type": "markdown",
   "metadata": {},
   "source": [
    "# Installation"
   ]
  },
  {
   "cell_type": "code",
   "execution_count": 1,
   "metadata": {},
   "outputs": [
    {
     "name": "stdout",
     "output_type": "stream",
     "text": [
      "Collecting mysql-connector-python\n",
      "  Downloading mysql_connector_python-8.4.0-cp310-cp310-win_amd64.whl (14.5 MB)\n",
      "     ---------------------------------------- 14.5/14.5 MB 8.4 MB/s eta 0:00:00\n",
      "Installing collected packages: mysql-connector-python\n",
      "Successfully installed mysql-connector-python-8.4.0\n",
      "Note: you may need to restart the kernel to use updated packages.\n"
     ]
    },
    {
     "name": "stderr",
     "output_type": "stream",
     "text": [
      "WARNING: Ignoring invalid distribution -ip (c:\\python310\\lib\\site-packages)\n",
      "WARNING: Ignoring invalid distribution - (c:\\python310\\lib\\site-packages)\n",
      "WARNING: Ignoring invalid distribution -ip (c:\\python310\\lib\\site-packages)\n",
      "WARNING: Ignoring invalid distribution - (c:\\python310\\lib\\site-packages)\n",
      "WARNING: Ignoring invalid distribution -ip (c:\\python310\\lib\\site-packages)\n",
      "WARNING: Ignoring invalid distribution - (c:\\python310\\lib\\site-packages)\n",
      "WARNING: Ignoring invalid distribution -ip (c:\\python310\\lib\\site-packages)\n",
      "WARNING: Ignoring invalid distribution - (c:\\python310\\lib\\site-packages)\n",
      "WARNING: Ignoring invalid distribution -ip (c:\\python310\\lib\\site-packages)\n",
      "WARNING: Ignoring invalid distribution - (c:\\python310\\lib\\site-packages)\n",
      "WARNING: Ignoring invalid distribution -ip (c:\\python310\\lib\\site-packages)\n",
      "WARNING: Ignoring invalid distribution - (c:\\python310\\lib\\site-packages)\n",
      "WARNING: Ignoring invalid distribution -ip (c:\\python310\\lib\\site-packages)\n",
      "WARNING: Ignoring invalid distribution - (c:\\python310\\lib\\site-packages)\n",
      "\n",
      "[notice] A new release of pip available: 22.3.1 -> 24.0\n",
      "[notice] To update, run: python.exe -m pip install --upgrade pip\n"
     ]
    }
   ],
   "source": [
    "pip install mysql-connector-python"
   ]
  },
  {
   "cell_type": "markdown",
   "metadata": {},
   "source": [
    "# Importation"
   ]
  },
  {
   "cell_type": "code",
   "execution_count": 2,
   "metadata": {},
   "outputs": [],
   "source": [
    "import pymysql\n",
    "import os\n",
    "import pandas as pd\n",
    "from dotenv import load_dotenv\n",
    "\n",
    "import mysql.connector\n",
    "\n",
    "# Charger les variables d'environnement depuis le fichier .env\n",
    "load_dotenv()\n",
    "\n",
    "DB_HOST = os.getenv(\"DB_HOST\")\n",
    "DB_USER = os.getenv(\"DB_USER\")\n",
    "DB_PASSWORD = os.getenv(\"DB_PASSWORD\")\n",
    "DB_DATABASE = os.getenv(\"DB_DATABASE\")\n",
    "\n",
    "\n",
    "# Database connection details\n",
    "db_config = {\n",
    "    'host': DB_HOST,\n",
    "    'user': DB_USER,\n",
    "    'password': DB_PASSWORD,\n",
    "    'database': DB_DATABASE\n",
    "}"
   ]
  },
  {
   "cell_type": "code",
   "execution_count": 3,
   "metadata": {},
   "outputs": [
    {
     "name": "stdout",
     "output_type": "stream",
     "text": [
      "Connected to MySQL database\n"
     ]
    }
   ],
   "source": [
    "# Establish connection\n",
    "conn = mysql.connector.connect(**db_config)\n",
    "\n",
    "# Check if the connection is successful\n",
    "if conn.is_connected():\n",
    "    print(\"Connected to MySQL database\")\n",
    "else:\n",
    "    print(\"Connection failed\")"
   ]
  },
  {
   "cell_type": "code",
   "execution_count": 4,
   "metadata": {},
   "outputs": [
    {
     "name": "stdout",
     "output_type": "stream",
     "text": [
      "(83, 'tokyo-2020', datetime.datetime(2021, 8, 8, 14, 0), datetime.datetime(2021, 7, 23, 11, 0), 'Japan', 'Tokyo 2020', 'Summer', 2020)\n",
      "(84, 'rio-2016', datetime.datetime(2016, 8, 21, 21, 0), datetime.datetime(2016, 8, 5, 12, 0), 'Brazil', 'Rio 2016', 'Summer', 2016)\n",
      "(85, 'london-2012', datetime.datetime(2012, 8, 12, 19, 0), datetime.datetime(2012, 7, 27, 7, 0), 'Great Britain', 'London 2012', 'Summer', 2012)\n",
      "(86, 'beijing-2008', datetime.datetime(2008, 8, 24, 12, 0), datetime.datetime(2008, 8, 8, 0, 0), 'China', 'Beijing 2008', 'Summer', 2008)\n",
      "(87, 'athens-2004', datetime.datetime(2004, 8, 29, 18, 0), datetime.datetime(2004, 8, 13, 6, 0), 'Greece', 'Athens 2004', 'Summer', 2004)\n",
      "(88, 'sydney-2000', datetime.datetime(2000, 10, 1, 9, 0), datetime.datetime(2000, 9, 15, 1, 0), 'Australia', 'Sydney 2000', 'Summer', 2000)\n",
      "(89, 'atlanta-1996', datetime.datetime(1996, 8, 5, 21, 0), datetime.datetime(1996, 7, 19, 12, 0), 'United States', 'Atlanta 1996', 'Summer', 1996)\n",
      "(90, 'barcelona-1992', datetime.datetime(1992, 8, 9, 18, 0), datetime.datetime(1992, 7, 25, 6, 0), 'Spain', 'Barcelona 1992', 'Summer', 1992)\n",
      "(91, 'seoul-1988', datetime.datetime(1988, 10, 2, 10, 0), datetime.datetime(1988, 9, 16, 22, 0), 'Republic of Korea', 'Seoul 1988', 'Summer', 1988)\n",
      "(92, 'los-angeles-1984', datetime.datetime(1984, 8, 12, 19, 0), datetime.datetime(1984, 7, 28, 15, 0), 'United States', 'Los Angeles 1984', 'Summer', 1984)\n",
      "(93, 'moscow-1980', datetime.datetime(1980, 8, 3, 18, 0), datetime.datetime(1980, 7, 19, 5, 0), 'USSR', 'Moscow 1980', 'Summer', 1980)\n",
      "(94, 'montreal-1976', datetime.datetime(1976, 7, 31, 22, 0), datetime.datetime(1976, 7, 17, 12, 0), 'Canada', 'Montreal 1976', 'Summer', 1976)\n",
      "(95, 'munich-1972', datetime.datetime(1972, 9, 11, 19, 0), datetime.datetime(1972, 8, 26, 7, 0), 'Federal Republic of Germany', 'Munich 1972', 'Summer', 1972)\n",
      "(96, 'mexico-city-1968', datetime.datetime(1968, 10, 28, 4, 0), datetime.datetime(1968, 10, 12, 16, 0), 'Mexico', 'Mexico City 1968', 'Summer', 1968)\n",
      "(97, 'tokyo-1964', datetime.datetime(1964, 10, 24, 11, 0), datetime.datetime(1964, 10, 9, 23, 0), 'Japan', 'Tokyo 1964', 'Summer', 1964)\n",
      "(98, 'rome-1960', datetime.datetime(1960, 9, 11, 19, 0), datetime.datetime(1960, 8, 25, 7, 0), 'Italy', 'Rome 1960', 'Summer', 1960)\n",
      "(99, 'melbourne-1956', datetime.datetime(1956, 12, 8, 10, 0), datetime.datetime(1956, 11, 21, 22, 0), 'Australia, Sweden', 'Melbourne 1956', 'Summer', 1956)\n",
      "(100, 'helsinki-1952', datetime.datetime(1952, 8, 3, 7, 0), datetime.datetime(1952, 7, 19, 7, 0), 'Finland', 'Helsinki 1952', 'Summer', 1952)\n",
      "(101, 'london-1948', datetime.datetime(1948, 8, 14, 19, 0), datetime.datetime(1948, 7, 29, 7, 0), 'Great Britain', 'London 1948', 'Summer', 1948)\n",
      "(102, 'berlin-1936', datetime.datetime(1936, 8, 16, 19, 0), datetime.datetime(1936, 8, 1, 7, 0), 'Germany', 'Berlin 1936', 'Summer', 1936)\n",
      "(103, 'los-angeles-1932', datetime.datetime(1932, 8, 14, 19, 0), datetime.datetime(1932, 7, 30, 16, 0), 'United States', 'Los Angeles 1932', 'Summer', 1932)\n",
      "(104, 'amsterdam-1928', datetime.datetime(1928, 8, 12, 19, 0), datetime.datetime(1928, 5, 17, 7, 0), 'Netherlands', 'Amsterdam 1928', 'Summer', 1928)\n",
      "(105, 'paris-1924', datetime.datetime(1924, 7, 27, 19, 0), datetime.datetime(1924, 5, 4, 7, 0), 'France', 'Paris 1924', 'Summer', 1924)\n",
      "(106, 'antwerp-1920', datetime.datetime(1920, 9, 12, 19, 0), datetime.datetime(1920, 4, 20, 7, 0), 'Belgium', 'Antwerp 1920', 'Summer', 1920)\n",
      "(107, 'stockholm-1912', datetime.datetime(1912, 7, 27, 20, 0), datetime.datetime(1912, 5, 5, 8, 0), 'Sweden', 'Stockholm 1912', 'Summer', 1912)\n",
      "(108, 'london-1908', datetime.datetime(1908, 10, 31, 20, 9), datetime.datetime(1908, 4, 27, 8, 0), 'Great Britain', 'London 1908', 'Summer', 1908)\n",
      "(109, 'st-louis-1904', datetime.datetime(1904, 11, 24, 2, 0), datetime.datetime(1904, 7, 1, 14, 0), 'United States', 'St. Louis 1904', 'Summer', 1904)\n",
      "(110, 'paris-1900', datetime.datetime(1900, 10, 28, 19, 50, 39), datetime.datetime(1900, 5, 14, 8, 50, 39), 'France', 'Paris 1900', 'Summer', 0)\n",
      "(111, 'athens-1896', datetime.datetime(1896, 4, 15, 11, 39, 39), datetime.datetime(1896, 4, 6, 11, 38, 39), 'Greece', 'Athens 1896', 'Summer', 0)\n"
     ]
    }
   ],
   "source": [
    "# Create a cursor object\n",
    "cursor = conn.cursor()\n",
    "\n",
    "# Define the SQL query\n",
    "query = \"SELECT * FROM olympic_hosts\"\n",
    "\n",
    "# Execute the query\n",
    "cursor.execute(query)\n",
    "\n",
    "# Fetch all results\n",
    "results = cursor.fetchall()\n",
    "\n",
    "# Get column names\n",
    "column_names = [i[0] for i in cursor.description]\n",
    "\n",
    "# Close the cursor\n",
    "cursor.close()\n",
    "\n",
    "# Print the results\n",
    "for row in results:\n",
    "    print(row)"
   ]
  },
  {
   "cell_type": "code",
   "execution_count": 5,
   "metadata": {},
   "outputs": [],
   "source": [
    "# Close the cursor\n",
    "cursor.close()\n",
    "\n",
    "# Convert to DataFrame\n",
    "df = pd.DataFrame(results, columns=column_names)"
   ]
  },
  {
   "cell_type": "code",
   "execution_count": 6,
   "metadata": {},
   "outputs": [
    {
     "name": "stdout",
     "output_type": "stream",
     "text": [
      "   id     game_slug       game_end_date     game_start_date  game_location  \\\n",
      "0  83    tokyo-2020 2021-08-08 14:00:00 2021-07-23 11:00:00          Japan   \n",
      "1  84      rio-2016 2016-08-21 21:00:00 2016-08-05 12:00:00         Brazil   \n",
      "2  85   london-2012 2012-08-12 19:00:00 2012-07-27 07:00:00  Great Britain   \n",
      "3  86  beijing-2008 2008-08-24 12:00:00 2008-08-08 00:00:00          China   \n",
      "4  87   athens-2004 2004-08-29 18:00:00 2004-08-13 06:00:00         Greece   \n",
      "\n",
      "      game_name game_season  game_year  \n",
      "0    Tokyo 2020      Summer       2020  \n",
      "1      Rio 2016      Summer       2016  \n",
      "2   London 2012      Summer       2012  \n",
      "3  Beijing 2008      Summer       2008  \n",
      "4   Athens 2004      Summer       2004  \n"
     ]
    }
   ],
   "source": [
    "print(df.head())"
   ]
  },
  {
   "cell_type": "code",
   "execution_count": 7,
   "metadata": {},
   "outputs": [
    {
     "data": {
      "text/plain": [
       "0     2020\n",
       "1     2016\n",
       "2     2012\n",
       "3     2008\n",
       "4     2004\n",
       "5     2000\n",
       "6     1996\n",
       "7     1992\n",
       "8     1988\n",
       "9     1984\n",
       "10    1980\n",
       "11    1976\n",
       "12    1972\n",
       "13    1968\n",
       "14    1964\n",
       "15    1960\n",
       "16    1956\n",
       "17    1952\n",
       "18    1948\n",
       "19    1936\n",
       "20    1932\n",
       "21    1928\n",
       "22    1924\n",
       "23    1920\n",
       "24    1912\n",
       "25    1908\n",
       "26    1904\n",
       "27       0\n",
       "28       0\n",
       "Name: game_year, dtype: int64"
      ]
     },
     "execution_count": 7,
     "metadata": {},
     "output_type": "execute_result"
    }
   ],
   "source": [
    "df[\"game_year\"]"
   ]
  },
  {
   "cell_type": "markdown",
   "metadata": {},
   "source": [
    "### Préparation des données"
   ]
  },
  {
   "cell_type": "code",
   "execution_count": 8,
   "metadata": {},
   "outputs": [],
   "source": [
    "import tensorflow as tf\n",
    "from tensorflow.keras.layers import TextVectorization"
   ]
  },
  {
   "cell_type": "code",
   "execution_count": 9,
   "metadata": {},
   "outputs": [],
   "source": [
    "# Create TextVectorization layers for each string column\n",
    "vectorizerDiscipline = TextVectorization(output_mode='int')\n",
    "vectorizerEvent = TextVectorization(output_mode='int')\n",
    "vectorizerPType = TextVectorization(output_mode='int')\n",
    "vectorizerCountry = TextVectorization(output_mode='int')\n"
   ]
  },
  {
   "cell_type": "code",
   "execution_count": 11,
   "metadata": {},
   "outputs": [
    {
     "ename": "KeyError",
     "evalue": "'discipline_title'",
     "output_type": "error",
     "traceback": [
      "\u001b[1;31m---------------------------------------------------------------------------\u001b[0m",
      "\u001b[1;31mKeyError\u001b[0m                                  Traceback (most recent call last)",
      "File \u001b[1;32mc:\\Python310\\lib\\site-packages\\pandas\\core\\indexes\\base.py:3803\u001b[0m, in \u001b[0;36mIndex.get_loc\u001b[1;34m(self, key, method, tolerance)\u001b[0m\n\u001b[0;32m   3802\u001b[0m \u001b[38;5;28;01mtry\u001b[39;00m:\n\u001b[1;32m-> 3803\u001b[0m     \u001b[38;5;28;01mreturn\u001b[39;00m \u001b[38;5;28;43mself\u001b[39;49m\u001b[38;5;241;43m.\u001b[39;49m\u001b[43m_engine\u001b[49m\u001b[38;5;241;43m.\u001b[39;49m\u001b[43mget_loc\u001b[49m\u001b[43m(\u001b[49m\u001b[43mcasted_key\u001b[49m\u001b[43m)\u001b[49m\n\u001b[0;32m   3804\u001b[0m \u001b[38;5;28;01mexcept\u001b[39;00m \u001b[38;5;167;01mKeyError\u001b[39;00m \u001b[38;5;28;01mas\u001b[39;00m err:\n",
      "File \u001b[1;32mc:\\Python310\\lib\\site-packages\\pandas\\_libs\\index.pyx:138\u001b[0m, in \u001b[0;36mpandas._libs.index.IndexEngine.get_loc\u001b[1;34m()\u001b[0m\n",
      "File \u001b[1;32mc:\\Python310\\lib\\site-packages\\pandas\\_libs\\index.pyx:165\u001b[0m, in \u001b[0;36mpandas._libs.index.IndexEngine.get_loc\u001b[1;34m()\u001b[0m\n",
      "File \u001b[1;32mpandas\\_libs\\hashtable_class_helper.pxi:5745\u001b[0m, in \u001b[0;36mpandas._libs.hashtable.PyObjectHashTable.get_item\u001b[1;34m()\u001b[0m\n",
      "File \u001b[1;32mpandas\\_libs\\hashtable_class_helper.pxi:5753\u001b[0m, in \u001b[0;36mpandas._libs.hashtable.PyObjectHashTable.get_item\u001b[1;34m()\u001b[0m\n",
      "\u001b[1;31mKeyError\u001b[0m: 'discipline_title'",
      "\nThe above exception was the direct cause of the following exception:\n",
      "\u001b[1;31mKeyError\u001b[0m                                  Traceback (most recent call last)",
      "Cell \u001b[1;32mIn[11], line 1\u001b[0m\n\u001b[1;32m----> 1\u001b[0m vectorizerDiscipline\u001b[38;5;241m.\u001b[39madapt(\u001b[43mdf\u001b[49m\u001b[43m[\u001b[49m\u001b[38;5;124;43m'\u001b[39;49m\u001b[38;5;124;43mdiscipline_title\u001b[39;49m\u001b[38;5;124;43m'\u001b[39;49m\u001b[43m]\u001b[49m)\n\u001b[0;32m      2\u001b[0m \u001b[38;5;66;03m# vectorizerEvent = TextVectorization(output_mode='int')\u001b[39;00m\n\u001b[0;32m      3\u001b[0m \u001b[38;5;66;03m# vectorizerPType = TextVectorization(output_mode='int')\u001b[39;00m\n\u001b[0;32m      4\u001b[0m \u001b[38;5;66;03m# vectorizerCountry = TextVectorization(output_mode='int')\u001b[39;00m\n\u001b[0;32m      5\u001b[0m \u001b[38;5;66;03m# vectorizer5 = TextVectorization(output_mode='int')\u001b[39;00m\n",
      "File \u001b[1;32mc:\\Python310\\lib\\site-packages\\pandas\\core\\frame.py:3804\u001b[0m, in \u001b[0;36mDataFrame.__getitem__\u001b[1;34m(self, key)\u001b[0m\n\u001b[0;32m   3802\u001b[0m \u001b[38;5;28;01mif\u001b[39;00m \u001b[38;5;28mself\u001b[39m\u001b[38;5;241m.\u001b[39mcolumns\u001b[38;5;241m.\u001b[39mnlevels \u001b[38;5;241m>\u001b[39m \u001b[38;5;241m1\u001b[39m:\n\u001b[0;32m   3803\u001b[0m     \u001b[38;5;28;01mreturn\u001b[39;00m \u001b[38;5;28mself\u001b[39m\u001b[38;5;241m.\u001b[39m_getitem_multilevel(key)\n\u001b[1;32m-> 3804\u001b[0m indexer \u001b[38;5;241m=\u001b[39m \u001b[38;5;28;43mself\u001b[39;49m\u001b[38;5;241;43m.\u001b[39;49m\u001b[43mcolumns\u001b[49m\u001b[38;5;241;43m.\u001b[39;49m\u001b[43mget_loc\u001b[49m\u001b[43m(\u001b[49m\u001b[43mkey\u001b[49m\u001b[43m)\u001b[49m\n\u001b[0;32m   3805\u001b[0m \u001b[38;5;28;01mif\u001b[39;00m is_integer(indexer):\n\u001b[0;32m   3806\u001b[0m     indexer \u001b[38;5;241m=\u001b[39m [indexer]\n",
      "File \u001b[1;32mc:\\Python310\\lib\\site-packages\\pandas\\core\\indexes\\base.py:3805\u001b[0m, in \u001b[0;36mIndex.get_loc\u001b[1;34m(self, key, method, tolerance)\u001b[0m\n\u001b[0;32m   3803\u001b[0m     \u001b[38;5;28;01mreturn\u001b[39;00m \u001b[38;5;28mself\u001b[39m\u001b[38;5;241m.\u001b[39m_engine\u001b[38;5;241m.\u001b[39mget_loc(casted_key)\n\u001b[0;32m   3804\u001b[0m \u001b[38;5;28;01mexcept\u001b[39;00m \u001b[38;5;167;01mKeyError\u001b[39;00m \u001b[38;5;28;01mas\u001b[39;00m err:\n\u001b[1;32m-> 3805\u001b[0m     \u001b[38;5;28;01mraise\u001b[39;00m \u001b[38;5;167;01mKeyError\u001b[39;00m(key) \u001b[38;5;28;01mfrom\u001b[39;00m \u001b[38;5;21;01merr\u001b[39;00m\n\u001b[0;32m   3806\u001b[0m \u001b[38;5;28;01mexcept\u001b[39;00m \u001b[38;5;167;01mTypeError\u001b[39;00m:\n\u001b[0;32m   3807\u001b[0m     \u001b[38;5;66;03m# If we have a listlike key, _check_indexing_error will raise\u001b[39;00m\n\u001b[0;32m   3808\u001b[0m     \u001b[38;5;66;03m#  InvalidIndexError. Otherwise we fall through and re-raise\u001b[39;00m\n\u001b[0;32m   3809\u001b[0m     \u001b[38;5;66;03m#  the TypeError.\u001b[39;00m\n\u001b[0;32m   3810\u001b[0m     \u001b[38;5;28mself\u001b[39m\u001b[38;5;241m.\u001b[39m_check_indexing_error(key)\n",
      "\u001b[1;31mKeyError\u001b[0m: 'discipline_title'"
     ]
    }
   ],
   "source": [
    "vectorizerDiscipline.adapt(df['discipline_title'])\n",
    "# vectorizerEvent = TextVectorization(output_mode='int')\n",
    "# vectorizerPType = TextVectorization(output_mode='int')\n",
    "# vectorizerCountry = TextVectorization(output_mode='int')\n",
    "\n",
    "# vectorizer5 = TextVectorization(output_mode='int')"
   ]
  },
  {
   "cell_type": "code",
   "execution_count": null,
   "metadata": {},
   "outputs": [],
   "source": []
  },
  {
   "cell_type": "code",
   "execution_count": null,
   "metadata": {},
   "outputs": [],
   "source": []
  },
  {
   "cell_type": "markdown",
   "metadata": {},
   "source": [
    "# Apprentissage"
   ]
  },
  {
   "cell_type": "code",
   "execution_count": null,
   "metadata": {},
   "outputs": [],
   "source": []
  },
  {
   "cell_type": "code",
   "execution_count": null,
   "metadata": {},
   "outputs": [],
   "source": []
  },
  {
   "cell_type": "code",
   "execution_count": null,
   "metadata": {},
   "outputs": [],
   "source": []
  },
  {
   "cell_type": "code",
   "execution_count": null,
   "metadata": {},
   "outputs": [],
   "source": []
  },
  {
   "cell_type": "code",
   "execution_count": null,
   "metadata": {},
   "outputs": [],
   "source": []
  },
  {
   "cell_type": "markdown",
   "metadata": {},
   "source": [
    "# Sauvegarde du modèle"
   ]
  },
  {
   "cell_type": "code",
   "execution_count": null,
   "metadata": {},
   "outputs": [],
   "source": []
  }
 ],
 "metadata": {
  "kernelspec": {
   "display_name": "Python 3",
   "language": "python",
   "name": "python3"
  },
  "language_info": {
   "codemirror_mode": {
    "name": "ipython",
    "version": 3
   },
   "file_extension": ".py",
   "mimetype": "text/x-python",
   "name": "python",
   "nbconvert_exporter": "python",
   "pygments_lexer": "ipython3",
   "version": "3.10.0"
  }
 },
 "nbformat": 4,
 "nbformat_minor": 2
}
