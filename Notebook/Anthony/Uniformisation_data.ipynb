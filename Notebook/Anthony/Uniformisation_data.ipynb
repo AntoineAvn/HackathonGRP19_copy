{
 "cells": [
  {
   "cell_type": "markdown",
   "metadata": {},
   "source": [
    "# Uniformisation des formats"
   ]
  },
  {
   "cell_type": "code",
   "execution_count": 1,
   "metadata": {},
   "outputs": [],
   "source": [
    "import pandas as pd\n",
    "\n",
    "# Lire le fichier JSON\n",
    "with open('olympic_athletes.json', encoding='utf-8') as fichier_json:\n",
    "    dataframe = pd.read_json(fichier_json)\n",
    "dataframe\n",
    "# Écrire le DataFrame au format CSV\n",
    "dataframe.to_csv('olympic_athletes.csv', encoding='utf-8', index=False)"
   ]
  },
  {
   "cell_type": "code",
   "execution_count": 2,
   "metadata": {},
   "outputs": [],
   "source": [
    "# Lire le fichier XLSX\n",
    "df = pd.read_excel('olympic_medals.xlsx')\n",
    "df\n",
    "# Écrire le DataFrame au format CSV\n",
    "df.to_csv('olympic_medals.csv', encoding='utf-8', index=False)"
   ]
  },
  {
   "cell_type": "code",
   "execution_count": 3,
   "metadata": {},
   "outputs": [],
   "source": [
    "import xml.etree.ElementTree as ET\n",
    "import csv\n",
    "\n",
    "# Lire le fichier XML\n",
    "tree = ET.parse('olympic_hosts.xml')\n",
    "root = tree.getroot()\n",
    "\n",
    "# Définir les colonnes du CSV\n",
    "cols = [\"game_slug\", \"game_end_date\", \"game_start_date\", \"game_location\", \"game_name\", \"game_season\", \"game_year\"]\n",
    "\n",
    "# Écrire les données au format CSV\n",
    "with open('olympic_hosts.csv', 'w', newline='') as fichier_csv:\n",
    "    writer = csv.writer(fichier_csv)\n",
    "    writer.writerow(cols)  # En-tête CSV\n",
    "    for i in root:\n",
    "        index = i.find(\"index\").text\n",
    "        slug = i.find(\"game_slug\").text\n",
    "        end = i.find(\"game_end_date\").text\n",
    "        start = i.find(\"game_start_date\").text\n",
    "        location = i.find(\"game_location\").text\n",
    "        name = i.find(\"game_name\").text\n",
    "        season = i.find(\"game_season\").text\n",
    "        year = i.find(\"game_year\").text\n",
    "        writer.writerow([index, slug, end, start, location, name, season, year])"
   ]
  },
  {
   "cell_type": "code",
   "execution_count": 4,
   "metadata": {},
   "outputs": [],
   "source": [
    "result = pd.read_html('olympic_results.html')\n",
    "result[0].to_csv('olympic_results.csv', encoding='utf-8', index=False)"
   ]
  }
 ],
 "metadata": {
  "kernelspec": {
   "display_name": "Python 3",
   "language": "python",
   "name": "python3"
  },
  "language_info": {
   "codemirror_mode": {
    "name": "ipython",
    "version": 3
   },
   "file_extension": ".py",
   "mimetype": "text/x-python",
   "name": "python",
   "nbconvert_exporter": "python",
   "pygments_lexer": "ipython3",
   "version": "3.10.6"
  }
 },
 "nbformat": 4,
 "nbformat_minor": 2
}
