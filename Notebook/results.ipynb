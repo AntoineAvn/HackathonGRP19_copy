{
  "cells": [
    {
      "cell_type": "markdown",
      "metadata": {
        "id": "-gMHCGAfSefE"
      },
      "source": [
        "# Téléchargement des libs"
      ]
    },
    {
      "cell_type": "code",
      "execution_count": 74,
      "metadata": {
        "colab": {
          "base_uri": "https://localhost:8080/"
        },
        "id": "AgiIt6KKve3F",
        "outputId": "ff64c205-b460-4147-8635-3b0d7555dbca"
      },
      "outputs": [
        {
          "name": "stdout",
          "output_type": "stream",
          "text": [
            "Requirement already satisfied: pyspark in /usr/local/lib/python3.10/dist-packages (3.5.1)\n",
            "Requirement already satisfied: py4j==0.10.9.7 in /usr/local/lib/python3.10/dist-packages (from pyspark) (0.10.9.7)\n"
          ]
        }
      ],
      "source": [
        "!pip install pyspark"
      ]
    },
    {
      "cell_type": "markdown",
      "metadata": {
        "id": "YAHfX079SZUw"
      },
      "source": [
        "# Import des libraries"
      ]
    },
    {
      "cell_type": "code",
      "execution_count": 75,
      "metadata": {
        "id": "YHoVtfq1RYJJ"
      },
      "outputs": [],
      "source": [
        "from pyspark.sql import SparkSession\n",
        "from pyspark.sql.functions import col, count, when, lower, regexp_replace, regexp_extract, trim, split, expr\n",
        "from pyspark.sql.types import IntegerType"
      ]
    },
    {
      "cell_type": "markdown",
      "metadata": {
        "id": "GdXyNSU2Snmc"
      },
      "source": [
        "# Lecture des fichiers CSV"
      ]
    },
    {
      "cell_type": "code",
      "execution_count": 130,
      "metadata": {
        "id": "vsZOEhxvRUlK"
      },
      "outputs": [],
      "source": [
        "# Créer une session Spark\n",
        "spark = SparkSession.builder.appName(\"OlympicDataProcessing\").getOrCreate()\n",
        "\n",
        "# Charger les fichiers CSV\n",
        "athletes = spark.read.csv('files/olympic_athletes.csv', header=True, inferSchema=True)\n",
        "results = spark.read.csv('files/olympic_results.csv', header=True, inferSchema=True)\n",
        "medals = spark.read.csv('files/olympic_medals.csv', header=True, inferSchema=True)\n",
        "hosts = spark.read.csv('files/olympic_hosts.csv', header=True, inferSchema=True)"
      ]
    },
    {
      "cell_type": "markdown",
      "metadata": {
        "id": "Vinr7kYeSxTH"
      },
      "source": [
        "# Affichage des 5 premières données de chaque CSV"
      ]
    },
    {
      "cell_type": "code",
      "execution_count": 133,
      "metadata": {
        "colab": {
          "base_uri": "https://localhost:8080/"
        },
        "id": "hDdOknLKu_js",
        "outputId": "0e0c5175-bd57-4e77-eba2-c639c519e5bd"
      },
      "outputs": [
        {
          "name": "stdout",
          "output_type": "stream",
          "text": [
            "+--------------------+--------------------+--------------------+----------------+------------------+--------------+----+\n",
            "|         athlete_url|   athlete_full_name|games_participations|      first_game|athlete_year_birth|athlete_medals| bio|\n",
            "+--------------------+--------------------+--------------------+----------------+------------------+--------------+----+\n",
            "|https://olympics....|Cooper WOODS-TOPA...|                   1|    Beijing 2022|            2000.0|          NULL|NULL|\n",
            "|https://olympics....|      Felix ELOFSSON|                   2|PyeongChang 2018|            1995.0|          NULL|NULL|\n",
            "|https://olympics....|       Dylan WALCZYK|                   1|    Beijing 2022|            1993.0|          NULL|NULL|\n",
            "|https://olympics....|       Olli PENTTALA|                   1|    Beijing 2022|            1995.0|          NULL|NULL|\n",
            "|https://olympics....|    Dmitriy REIKHERD|                   1|    Beijing 2022|            1989.0|          NULL|NULL|\n",
            "+--------------------+--------------------+--------------------+----------------+------------------+--------------+----+\n",
            "only showing top 5 rows\n",
            "\n",
            "+----------------+-------------+------------+----------------+----------+--------------------+----------+-------------+-------------+------------+---------------------+-----------+-----------------+----------+----------+\n",
            "|discipline_title|  event_title|   slug_game|participant_type|medal_type|            athletes|rank_equal|rank_position| country_name|country_code|country_3_letter_code|athlete_url|athlete_full_name|value_unit|value_type|\n",
            "+----------------+-------------+------------+----------------+----------+--------------------+----------+-------------+-------------+------------+---------------------+-----------+-----------------+----------+----------+\n",
            "|         Curling|Mixed Doubles|beijing-2022|        GameTeam|      GOLD|[('Stefania CONST...|     False|            1|        Italy|          IT|                  ITA|        NaN|              NaN|       NaN|       NaN|\n",
            "|         Curling|Mixed Doubles|beijing-2022|        GameTeam|    SILVER|[('Kristin SKASLI...|     False|            2|       Norway|          NO|                  NOR|        NaN|              NaN|       NaN|       NaN|\n",
            "|         Curling|Mixed Doubles|beijing-2022|        GameTeam|    BRONZE|[('Almida DE VAL'...|     False|            3|       Sweden|          SE|                  SWE|        NaN|              NaN|       NaN|       NaN|\n",
            "|         Curling|Mixed Doubles|beijing-2022|        GameTeam|       NaN|[('Jennifer DODDS...|     False|            4|Great Britain|          GB|                  GBR|        NaN|              NaN|       NaN|       NaN|\n",
            "|         Curling|Mixed Doubles|beijing-2022|        GameTeam|       NaN|[('Rachel HOMAN',...|     False|            5|       Canada|          CA|                  CAN|        NaN|              NaN|       NaN|       NaN|\n",
            "+----------------+-------------+------------+----------------+----------+--------------------+----------+-------------+-------------+------------+---------------------+-----------+-----------------+----------+----------+\n",
            "only showing top 5 rows\n",
            "\n",
            "+----------+----------------+------------+-------------+------------+----------+----------------+-----------------+--------------------+--------------------+------------+------------+---------------------+\n",
            "|Unnamed: 0|discipline_title|   slug_game|  event_title|event_gender|medal_type|participant_type|participant_title|         athlete_url|   athlete_full_name|country_name|country_code|country_3_letter_code|\n",
            "+----------+----------------+------------+-------------+------------+----------+----------------+-----------------+--------------------+--------------------+------------+------------+---------------------+\n",
            "|         0|         Curling|beijing-2022|Mixed Doubles|       Mixed|      GOLD|        GameTeam|            Italy|https://olympics....|Stefania CONSTANTINI|       Italy|          IT|                  ITA|\n",
            "|         1|         Curling|beijing-2022|Mixed Doubles|       Mixed|      GOLD|        GameTeam|            Italy|https://olympics....|        Amos MOSANER|       Italy|          IT|                  ITA|\n",
            "|         2|         Curling|beijing-2022|Mixed Doubles|       Mixed|    SILVER|        GameTeam|           Norway|https://olympics....|    Kristin SKASLIEN|      Norway|          NO|                  NOR|\n",
            "|         3|         Curling|beijing-2022|Mixed Doubles|       Mixed|    SILVER|        GameTeam|           Norway|https://olympics....|  Magnus NEDREGOTTEN|      Norway|          NO|                  NOR|\n",
            "|         4|         Curling|beijing-2022|Mixed Doubles|       Mixed|    BRONZE|        GameTeam|           Sweden|https://olympics....|       Almida DE VAL|      Sweden|          SE|                  SWE|\n",
            "+----------+----------------+------------+-------------+------------+----------+----------------+-----------------+--------------------+--------------------+------------+------------+---------------------+\n",
            "only showing top 5 rows\n",
            "\n",
            "+-----+----------------+-------------------+-------------------+------------------+----------------+-----------+---------+\n",
            "|index|       game_slug|      game_end_date|    game_start_date|     game_location|       game_name|game_season|game_year|\n",
            "+-----+----------------+-------------------+-------------------+------------------+----------------+-----------+---------+\n",
            "|    0|    beijing-2022|2022-02-20 12:00:00|2022-02-04 15:00:00|             China|    Beijing 2022|     Winter|     2022|\n",
            "|    1|      tokyo-2020|2021-08-08 14:00:00|2021-07-23 11:00:00|             Japan|      Tokyo 2020|     Summer|     2020|\n",
            "|    2|pyeongchang-2018|2018-02-25 08:00:00|2018-02-08 23:00:00| Republic of Korea|PyeongChang 2018|     Winter|     2018|\n",
            "|    3|        rio-2016|2016-08-21 21:00:00|2016-08-05 12:00:00|            Brazil|        Rio 2016|     Summer|     2016|\n",
            "|    4|      sochi-2014|2014-02-23 16:00:00|2014-02-07 04:00:00|Russian Federation|      Sochi 2014|     Winter|     2014|\n",
            "+-----+----------------+-------------------+-------------------+------------------+----------------+-----------+---------+\n",
            "only showing top 5 rows\n",
            "\n"
          ]
        }
      ],
      "source": [
        "# Affichez les premières lignes des DataFrames pour une inspection rapide\n",
        "athletes.show(5)\n",
        "results.show(5)\n",
        "medals.show(5)\n",
        "hosts.show(5)"
      ]
    },
    {
      "cell_type": "markdown",
      "metadata": {
        "id": "xPQLVT0lYuMJ"
      },
      "source": [
        "# Afficher le nombre de lignes par CSV"
      ]
    },
    {
      "cell_type": "code",
      "execution_count": 78,
      "metadata": {
        "colab": {
          "base_uri": "https://localhost:8080/"
        },
        "id": "9FtXFyPDYyeT",
        "outputId": "95cb67b6-b10e-467f-bc18-e6062c419b5d"
      },
      "outputs": [
        {
          "name": "stdout",
          "output_type": "stream",
          "text": [
            "Nombre de ligne athletes: 189960\n",
            "Nombre de ligne hosts: 53\n",
            "Nombre de ligne medals: 21697\n",
            "Nombre de ligne results: 162804\n"
          ]
        }
      ],
      "source": [
        "# Affichez le nombre de lignes des DataFrames\n",
        "print(\"Nombre de ligne athletes:\", athletes.count())\n",
        "print(\"Nombre de ligne hosts:\", hosts.count())\n",
        "print(\"Nombre de ligne medals:\", medals.count())\n",
        "print(\"Nombre de ligne results:\", results.count())"
      ]
    },
    {
      "cell_type": "markdown",
      "metadata": {
        "id": "I5Knjsg5THtd"
      },
      "source": [
        "# Afficher les types de données"
      ]
    },
    {
      "cell_type": "code",
      "execution_count": 79,
      "metadata": {
        "colab": {
          "base_uri": "https://localhost:8080/"
        },
        "id": "TF0RxoufTKkb",
        "outputId": "28ffb8c3-a3fd-49b0-d6fc-bef3b9c5952e"
      },
      "outputs": [
        {
          "name": "stdout",
          "output_type": "stream",
          "text": [
            "Schéma de athletes:\n",
            "root\n",
            " |-- athlete_url: string (nullable = true)\n",
            " |-- athlete_full_name: string (nullable = true)\n",
            " |-- games_participations: string (nullable = true)\n",
            " |-- first_game: string (nullable = true)\n",
            " |-- athlete_year_birth: string (nullable = true)\n",
            " |-- athlete_medals: string (nullable = true)\n",
            " |-- bio: string (nullable = true)\n",
            "\n",
            "Schéma de results:\n",
            "root\n",
            " |-- discipline_title: string (nullable = true)\n",
            " |-- event_title: string (nullable = true)\n",
            " |-- slug_game: string (nullable = true)\n",
            " |-- participant_type: string (nullable = true)\n",
            " |-- medal_type: string (nullable = true)\n",
            " |-- athletes: string (nullable = true)\n",
            " |-- rank_equal: string (nullable = true)\n",
            " |-- rank_position: string (nullable = true)\n",
            " |-- country_name: string (nullable = true)\n",
            " |-- country_code: string (nullable = true)\n",
            " |-- country_3_letter_code: string (nullable = true)\n",
            " |-- athlete_url: string (nullable = true)\n",
            " |-- athlete_full_name: string (nullable = true)\n",
            " |-- value_unit: string (nullable = true)\n",
            " |-- value_type: string (nullable = true)\n",
            "\n",
            "Schéma de medals:\n",
            "root\n",
            " |-- Unnamed: 0: integer (nullable = true)\n",
            " |-- discipline_title: string (nullable = true)\n",
            " |-- slug_game: string (nullable = true)\n",
            " |-- event_title: string (nullable = true)\n",
            " |-- event_gender: string (nullable = true)\n",
            " |-- medal_type: string (nullable = true)\n",
            " |-- participant_type: string (nullable = true)\n",
            " |-- participant_title: string (nullable = true)\n",
            " |-- athlete_url: string (nullable = true)\n",
            " |-- athlete_full_name: string (nullable = true)\n",
            " |-- country_name: string (nullable = true)\n",
            " |-- country_code: string (nullable = true)\n",
            " |-- country_3_letter_code: string (nullable = true)\n",
            "\n",
            "Schéma de hosts:\n",
            "root\n",
            " |-- index: integer (nullable = true)\n",
            " |-- game_slug: string (nullable = true)\n",
            " |-- game_end_date: timestamp (nullable = true)\n",
            " |-- game_start_date: timestamp (nullable = true)\n",
            " |-- game_location: string (nullable = true)\n",
            " |-- game_name: string (nullable = true)\n",
            " |-- game_season: string (nullable = true)\n",
            " |-- game_year: integer (nullable = true)\n",
            "\n"
          ]
        }
      ],
      "source": [
        "# Afficher les schémas des DataFrames\n",
        "print(\"Schéma de athletes:\")\n",
        "athletes.printSchema()\n",
        "\n",
        "print(\"Schéma de results:\")\n",
        "results.printSchema()\n",
        "\n",
        "print(\"Schéma de medals:\")\n",
        "medals.printSchema()\n",
        "\n",
        "print(\"Schéma de hosts:\")\n",
        "hosts.printSchema()\n"
      ]
    },
    {
      "cell_type": "markdown",
      "metadata": {
        "id": "FevoHcRKTBSM"
      },
      "source": [
        "# Afficher les données manquantes"
      ]
    },
    {
      "cell_type": "code",
      "execution_count": 80,
      "metadata": {
        "colab": {
          "base_uri": "https://localhost:8080/"
        },
        "id": "j4G2NBHfR3ug",
        "outputId": "fe5d6e61-8bb4-4805-9171-5fabd7406bbe"
      },
      "outputs": [
        {
          "name": "stdout",
          "output_type": "stream",
          "text": [
            "+-----------+-----------------+--------------------+----------+------------------+--------------+------+\n",
            "|athlete_url|athlete_full_name|games_participations|first_game|athlete_year_birth|athlete_medals|   bio|\n",
            "+-----------+-----------------+--------------------+----------+------------------+--------------+------+\n",
            "|          0|            94041|               96547|     99234|            104133|        164540|166953|\n",
            "+-----------+-----------------+--------------------+----------+------------------+--------------+------+\n",
            "\n",
            "+----------------+-----------+---------+----------------+----------+--------+----------+-------------+------------+------------+---------------------+-----------+-----------------+----------+----------+\n",
            "|discipline_title|event_title|slug_game|participant_type|medal_type|athletes|rank_equal|rank_position|country_name|country_code|country_3_letter_code|athlete_url|athlete_full_name|value_unit|value_type|\n",
            "+----------------+-----------+---------+----------------+----------+--------+----------+-------------+------------+------------+---------------------+-----------+-----------------+----------+----------+\n",
            "|               0|          0|        0|               0|         0|       0|         0|            0|           0|           0|                    0|          0|                0|         0|         0|\n",
            "+----------------+-----------+---------+----------------+----------+--------+----------+-------------+------------+------------+---------------------+-----------+-----------------+----------+----------+\n",
            "\n",
            "+----------+----------------+---------+-----------+------------+----------+----------------+-----------------+-----------+-----------------+------------+------------+---------------------+\n",
            "|Unnamed: 0|discipline_title|slug_game|event_title|event_gender|medal_type|participant_type|participant_title|athlete_url|athlete_full_name|country_name|country_code|country_3_letter_code|\n",
            "+----------+----------------+---------+-----------+------------+----------+----------------+-----------------+-----------+-----------------+------------+------------+---------------------+\n",
            "|         0|               0|        0|          0|           0|         0|               0|            15113|       4670|             3624|           0|        1502|                    0|\n",
            "+----------+----------------+---------+-----------+------------+----------+----------------+-----------------+-----------+-----------------+------------+------------+---------------------+\n",
            "\n",
            "+-----+---------+-------------+---------------+-------------+---------+-----------+---------+\n",
            "|index|game_slug|game_end_date|game_start_date|game_location|game_name|game_season|game_year|\n",
            "+-----+---------+-------------+---------------+-------------+---------+-----------+---------+\n",
            "|    0|        0|            0|              0|            0|        0|          0|        0|\n",
            "+-----+---------+-------------+---------------+-------------+---------+-----------+---------+\n",
            "\n"
          ]
        }
      ],
      "source": [
        "# Vérifiez les valeurs manquantes\n",
        "athletes.select([count(when(col(c).isNull(), c)).alias(c) for c in athletes.columns]).show()\n",
        "results.select([count(when(col(c).isNull(), c)).alias(c) for c in results.columns]).show()\n",
        "medals.select([count(when(col(c).isNull(), c)).alias(c) for c in medals.columns]).show()\n",
        "hosts.select([count(when(col(c).isNull(), c)).alias(c) for c in hosts.columns]).show()"
      ]
    },
    {
      "cell_type": "markdown",
      "metadata": {
        "id": "BwUPGkh5Trzo"
      },
      "source": [
        "# Afficher les données dupliquées"
      ]
    },
    {
      "cell_type": "code",
      "execution_count": 81,
      "metadata": {
        "colab": {
          "base_uri": "https://localhost:8080/"
        },
        "id": "1C5nnFdvT0U0",
        "outputId": "4476cb8f-234c-492e-caa6-35bd6331b3f1"
      },
      "outputs": [
        {
          "name": "stdout",
          "output_type": "stream",
          "text": [
            "Nombre de lignes dupliquées dans athletes: 78182\n",
            "Nombre de lignes dupliquées dans results: 116\n",
            "Nombre de lignes dupliquées dans medals: 0\n",
            "Nombre de lignes dupliquées dans hosts: 0\n"
          ]
        }
      ],
      "source": [
        "# Afficher le nombre de lignes dupliquées dans chaque DataFrame\n",
        "print(\"Nombre de lignes dupliquées dans athletes:\", athletes.count() - athletes.dropDuplicates().count())\n",
        "print(\"Nombre de lignes dupliquées dans results:\", results.count() - results.dropDuplicates().count())\n",
        "print(\"Nombre de lignes dupliquées dans medals:\", medals.count() - medals.dropDuplicates().count())\n",
        "print(\"Nombre de lignes dupliquées dans hosts:\", hosts.count() - hosts.dropDuplicates().count())"
      ]
    },
    {
      "cell_type": "markdown",
      "metadata": {
        "id": "raLmLpAtVm2w"
      },
      "source": [
        "# Afficher le nombre de données manquantes pour chaque colonne"
      ]
    },
    {
      "cell_type": "code",
      "execution_count": 82,
      "metadata": {
        "colab": {
          "base_uri": "https://localhost:8080/"
        },
        "id": "IpmcvKQQVs2E",
        "outputId": "d71e6112-de61-42f1-baa3-f57c3af5906f"
      },
      "outputs": [
        {
          "name": "stdout",
          "output_type": "stream",
          "text": [
            "Nombre de valeurs manquantes dans athletes:\n",
            "+-----------+-----------------+--------------------+----------+------------------+--------------+------+\n",
            "|athlete_url|athlete_full_name|games_participations|first_game|athlete_year_birth|athlete_medals|   bio|\n",
            "+-----------+-----------------+--------------------+----------+------------------+--------------+------+\n",
            "|          0|            94041|               96547|     99234|            104133|        164540|166953|\n",
            "+-----------+-----------------+--------------------+----------+------------------+--------------+------+\n",
            "\n",
            "Nombre de valeurs manquantes dans results:\n",
            "+----------------+-----------+---------+----------------+----------+--------+----------+-------------+------------+------------+---------------------+-----------+-----------------+----------+----------+\n",
            "|discipline_title|event_title|slug_game|participant_type|medal_type|athletes|rank_equal|rank_position|country_name|country_code|country_3_letter_code|athlete_url|athlete_full_name|value_unit|value_type|\n",
            "+----------------+-----------+---------+----------------+----------+--------+----------+-------------+------------+------------+---------------------+-----------+-----------------+----------+----------+\n",
            "|               0|          0|        0|               0|         0|       0|         0|            0|           0|           0|                    0|          0|                0|         0|         0|\n",
            "+----------------+-----------+---------+----------------+----------+--------+----------+-------------+------------+------------+---------------------+-----------+-----------------+----------+----------+\n",
            "\n",
            "Nombre de valeurs manquantes dans medals:\n",
            "+----------+----------------+---------+-----------+------------+----------+----------------+-----------------+-----------+-----------------+------------+------------+---------------------+\n",
            "|Unnamed: 0|discipline_title|slug_game|event_title|event_gender|medal_type|participant_type|participant_title|athlete_url|athlete_full_name|country_name|country_code|country_3_letter_code|\n",
            "+----------+----------------+---------+-----------+------------+----------+----------------+-----------------+-----------+-----------------+------------+------------+---------------------+\n",
            "|         0|               0|        0|          0|           0|         0|               0|            15113|       4670|             3624|           0|        1502|                    0|\n",
            "+----------+----------------+---------+-----------+------------+----------+----------------+-----------------+-----------+-----------------+------------+------------+---------------------+\n",
            "\n",
            "Nombre de valeurs manquantes dans hosts:\n",
            "+-----+---------+-------------+---------------+-------------+---------+-----------+---------+\n",
            "|index|game_slug|game_end_date|game_start_date|game_location|game_name|game_season|game_year|\n",
            "+-----+---------+-------------+---------------+-------------+---------+-----------+---------+\n",
            "|    0|        0|            0|              0|            0|        0|          0|        0|\n",
            "+-----+---------+-------------+---------------+-------------+---------+-----------+---------+\n",
            "\n"
          ]
        }
      ],
      "source": [
        "# Afficher le nombre de valeurs manquantes dans chaque colonne pour chaque DataFrame\n",
        "print(\"Nombre de valeurs manquantes dans athletes:\")\n",
        "athletes.select([count(when(col(c).isNull(), c)).alias(c) for c in athletes.columns]).show()\n",
        "\n",
        "print(\"Nombre de valeurs manquantes dans results:\")\n",
        "results.select([count(when(col(c).isNull(), c)).alias(c) for c in results.columns]).show()\n",
        "\n",
        "print(\"Nombre de valeurs manquantes dans medals:\")\n",
        "medals.select([count(when(col(c).isNull(), c)).alias(c) for c in medals.columns]).show()\n",
        "\n",
        "print(\"Nombre de valeurs manquantes dans hosts:\")\n",
        "hosts.select([count(when(col(c).isNull(), c)).alias(c) for c in hosts.columns]).show()"
      ]
    },
    {
      "cell_type": "markdown",
      "metadata": {
        "id": "S32MrVN2TbYK"
      },
      "source": [
        "# Suppression des colonnes"
      ]
    },
    {
      "cell_type": "code",
      "execution_count": 154,
      "metadata": {
        "id": "sx_OKao3TmXl"
      },
      "outputs": [],
      "source": [
        "# Supprimer des colonnes dans chaque DataFrame CSV\n",
        "\n",
        "# Pour athletes.csv\n",
        "# athletes = athletes.drop(\"\")\n",
        "\n",
        "# Pour results.csv\n",
        "df_results = results.drop('Unnamed: 0','athlete_url')\n",
        "\n",
        "# Pour medals.csv\n",
        "df_medals = medals.drop('Unnamed: 0','participant_title','athlete_url')\n",
        "\n",
        "# Pour hosts.csv\n",
        "df_hosts = hosts.drop(\"index\")"
      ]
    },
    {
      "cell_type": "code",
      "execution_count": 155,
      "metadata": {
        "colab": {
          "base_uri": "https://localhost:8080/"
        },
        "id": "n_y7u6WJaUUr",
        "outputId": "bbe41a8f-75fc-4638-fe2a-94e4759dce07"
      },
      "outputs": [
        {
          "name": "stdout",
          "output_type": "stream",
          "text": [
            "Schéma de results:\n",
            "root\n",
            " |-- discipline_title: string (nullable = true)\n",
            " |-- event_title: string (nullable = true)\n",
            " |-- slug_game: string (nullable = true)\n",
            " |-- participant_type: string (nullable = true)\n",
            " |-- medal_type: string (nullable = true)\n",
            " |-- athletes: string (nullable = true)\n",
            " |-- rank_equal: string (nullable = true)\n",
            " |-- rank_position: string (nullable = true)\n",
            " |-- country_name: string (nullable = true)\n",
            " |-- country_code: string (nullable = true)\n",
            " |-- country_3_letter_code: string (nullable = true)\n",
            " |-- athlete_full_name: string (nullable = true)\n",
            " |-- value_unit: string (nullable = true)\n",
            " |-- value_type: string (nullable = true)\n",
            "\n",
            "Schéma de medals:\n",
            "root\n",
            " |-- discipline_title: string (nullable = true)\n",
            " |-- slug_game: string (nullable = true)\n",
            " |-- event_title: string (nullable = true)\n",
            " |-- medal_type: string (nullable = true)\n",
            " |-- participant_type: string (nullable = true)\n",
            " |-- athlete_full_name: string (nullable = true)\n",
            " |-- country_name: string (nullable = true)\n",
            " |-- country_code: string (nullable = true)\n",
            " |-- country_3_letter_code: string (nullable = true)\n",
            "\n",
            "Schéma de hosts:\n",
            "root\n",
            " |-- game_slug: string (nullable = true)\n",
            " |-- game_end_date: timestamp (nullable = true)\n",
            " |-- game_start_date: timestamp (nullable = true)\n",
            " |-- game_location: string (nullable = true)\n",
            " |-- game_name: string (nullable = true)\n",
            " |-- game_season: string (nullable = true)\n",
            " |-- game_year: integer (nullable = true)\n",
            "\n"
          ]
        }
      ],
      "source": [
        "# Afficher les schémas des DataFrames\n",
        "#print(\"Schéma de athltes:\")\n",
        "#athletes.printSchema()\n",
        "\n",
        "print(\"Schéma de results:\")\n",
        "df_results.printSchema()\n",
        "\n",
        "print(\"Schéma de medals:\")\n",
        "df_medals.printSchema()\n",
        "\n",
        "print(\"Schéma de hosts:\")\n",
        "df_hosts.printSchema()"
      ]
    },
    {
      "cell_type": "markdown",
      "metadata": {
        "id": "NZvexGaFa_lO"
      },
      "source": [
        "# Transformation des champs pour chaque CSV"
      ]
    },
    {
      "cell_type": "code",
      "execution_count": 157,
      "metadata": {
        "colab": {
          "base_uri": "https://localhost:8080/"
        },
        "id": "eRaDmcQBbIC0",
        "outputId": "dee3d585-be38-4e12-95dc-180ae26fd353"
      },
      "outputs": [
        {
          "name": "stdout",
          "output_type": "stream",
          "text": [
            "Schéma de athletes:\n",
            "root\n",
            " |-- athlete_url: string (nullable = true)\n",
            " |-- athlete_full_name: string (nullable = true)\n",
            " |-- games_participations: string (nullable = true)\n",
            " |-- first_game: string (nullable = true)\n",
            " |-- athlete_year_birth: integer (nullable = true)\n",
            " |-- athlete_medals: string (nullable = true)\n",
            " |-- bio: string (nullable = true)\n",
            "\n",
            "Schéma de hosts:\n",
            "root\n",
            " |-- slug_game: string (nullable = true)\n",
            " |-- game_end_date: timestamp (nullable = true)\n",
            " |-- game_start_date: timestamp (nullable = true)\n",
            " |-- game_location: string (nullable = true)\n",
            " |-- game_name: string (nullable = true)\n",
            " |-- game_season: string (nullable = true)\n",
            " |-- game_year: integer (nullable = true)\n",
            "\n"
          ]
        }
      ],
      "source": [
        "# Pour athletes.csv\n",
        "df_athletes = athletes.withColumn(\"athlete_year_birth\", athletes[\"athlete_year_birth\"].cast(IntegerType()))\n",
        "\n",
        "# Pour results\n",
        "\n",
        "# Pour medal.csv\n",
        "\n",
        "# Pour host.csv\n",
        "df_hosts = hosts.withColumnRenamed(\"game_slug\", \"slug_game\")\n",
        "\n",
        "print(\"Schéma de athletes:\")\n",
        "df_athletes.printSchema()\n",
        "\n",
        "#print(\"Schéma de results:\")\n",
        "\n",
        "#print(\"Schéma de medals:\")\n",
        "\n",
        "print(\"Schéma de hosts:\")\n",
        "df_hosts.printSchema()"
      ]
    },
    {
      "cell_type": "markdown",
      "metadata": {
        "id": "DvJtBQ7tcUo-"
      },
      "source": [
        "# Transformation des valeurs pour chaque CSV"
      ]
    },
    {
      "cell_type": "markdown",
      "metadata": {
        "id": "MG89ULjQdO-D"
      },
      "source": [
        "Pour athletes"
      ]
    },
    {
      "cell_type": "code",
      "execution_count": 158,
      "metadata": {
        "colab": {
          "base_uri": "https://localhost:8080/"
        },
        "id": "WbAS5gblcj7O",
        "outputId": "c136b585-284a-41c9-f90c-4ac765fc0b1a"
      },
      "outputs": [
        {
          "name": "stdout",
          "output_type": "stream",
          "text": [
            "root\n",
            " |-- athlete_url: string (nullable = true)\n",
            " |-- athlete_full_name: string (nullable = true)\n",
            " |-- games_participations: string (nullable = true)\n",
            " |-- first_game: string (nullable = true)\n",
            " |-- athlete_year_birth: integer (nullable = true)\n",
            " |-- athlete_medals: string (nullable = true)\n",
            " |-- bio: string (nullable = true)\n",
            "\n",
            "+--------------------+--------------------+--------------------+----------------+------------------+--------------+----+\n",
            "|         athlete_url|   athlete_full_name|games_participations|      first_game|athlete_year_birth|athlete_medals| bio|\n",
            "+--------------------+--------------------+--------------------+----------------+------------------+--------------+----+\n",
            "|https://olympics....|Cooper WOODS-TOPA...|                   1|    beijing-2022|              2000|          NULL|NULL|\n",
            "|https://olympics....|      Felix ELOFSSON|                   2|pyeongchang-2018|              1995|          NULL|NULL|\n",
            "|https://olympics....|       Dylan WALCZYK|                   1|    beijing-2022|              1993|          NULL|NULL|\n",
            "|https://olympics....|       Olli PENTTALA|                   1|    beijing-2022|              1995|          NULL|NULL|\n",
            "|https://olympics....|    Dmitriy REIKHERD|                   1|    beijing-2022|              1989|          NULL|NULL|\n",
            "|https://olympics....|         Matt GRAHAM|                   3|      sochi-2014|              1994|             \"|NULL|\n",
            "|                   1|                NULL|                NULL|            NULL|              NULL|          NULL|NULL|\n",
            "|                   S|                NULL|                NULL|            NULL|              NULL|          NULL|NULL|\n",
            "|                   ,|                NULL|                NULL|            NULL|              NULL|          NULL|NULL|\n",
            "|https://olympics....|     Ikuma HORISHIMA|                   2|pyeongchang-2018|              1997|             \"|NULL|\n",
            "|                   1|                NULL|                NULL|            NULL|              NULL|          NULL|NULL|\n",
            "|                   B|                NULL|                NULL|            NULL|              NULL|          NULL|NULL|\n",
            "|                   ,|                NULL|                NULL|            NULL|              NULL|          NULL|NULL|\n",
            "|https://olympics....|         Daichi HARA|                   2|pyeongchang-2018|              1997|             \"|NULL|\n",
            "|                   1|                NULL|                NULL|            NULL|              NULL|          NULL|NULL|\n",
            "|                   B|                NULL|                NULL|            NULL|              NULL|          NULL|NULL|\n",
            "|                   ,|                NULL|                NULL|            NULL|              NULL|          NULL|NULL|\n",
            "|https://olympics....|      Laurent DUMAIS|                   1|    beijing-2022|              1996|          NULL|NULL|\n",
            "|https://olympics....|      James MATHESON|                   2|pyeongchang-2018|              1995|          NULL|NULL|\n",
            "|https://olympics....|      Pavel KOLMAKOV|                   3|      sochi-2014|              1996|          NULL|NULL|\n",
            "+--------------------+--------------------+--------------------+----------------+------------------+--------------+----+\n",
            "only showing top 20 rows\n",
            "\n"
          ]
        }
      ],
      "source": [
        "# Pour athletes.csv\n",
        "# Transformer la colonne \"first_game\" en minuscule et remplacer les espaces par des tirets\n",
        "df_athletes = df_athletes.withColumn(\"first_game\", regexp_replace(lower(df_athletes[\"first_game\"]), \" \", \"-\"))\n",
        "\n",
        "# Nettoyer et transformer la colonne \"athlete_medals\"\n",
        "df_athletes = df_athletes.withColumn(\"athlete_medals\", trim(regexp_replace(df_athletes[\"athlete_medals\"], \"\\n\", \"\")))\n",
        "df_athletes = df_athletes.withColumn(\"athlete_medals\", regexp_replace(df_athletes[\"athlete_medals\"], \"(G|S|B)\", \"$1,\"))\n",
        "df_athletes = df_athletes.withColumn(\"athlete_medals\", regexp_replace(df_athletes[\"athlete_medals\"], \",$\", \"\"))\n",
        "\n",
        "# Nettoyer et transformer la colonne \"bio\"\n",
        "df_athletes = df_athletes.withColumn(\"bio\", trim(regexp_replace(df_athletes[\"bio\"], \"\\n\", \"\")))\n",
        "\n",
        "# Afficher le schéma des données après conversion pour chaque DataFrame\n",
        "df_athletes.printSchema()\n",
        "# Afficher les premières lignes après conversion\n",
        "df_athletes.show()"
      ]
    },
    {
      "cell_type": "markdown",
      "metadata": {
        "id": "I8JNsBhmlNQh"
      },
      "source": [
        "# Traitement"
      ]
    },
    {
      "cell_type": "code",
      "execution_count": 162,
      "metadata": {
        "colab": {
          "base_uri": "https://localhost:8080/"
        },
        "id": "kN26DZvmlQ1d",
        "outputId": "8e58daff-c078-4cc8-ece9-f0ecd5542c76"
      },
      "outputs": [
        {
          "name": "stdout",
          "output_type": "stream",
          "text": [
            "+------------+-------------------+-------------------+-------------+------------+-----------+---------+----------------+-------------+------------+----------------+----------+--------------------+----------+-------------+-------------+------------+---------------------+-----------------+----------+----------+\n",
            "|   slug_game|      game_end_date|    game_start_date|game_location|   game_name|game_season|game_year|discipline_title|  event_title|   slug_game|participant_type|medal_type|            athletes|rank_equal|rank_position| country_name|country_code|country_3_letter_code|athlete_full_name|value_unit|value_type|\n",
            "+------------+-------------------+-------------------+-------------+------------+-----------+---------+----------------+-------------+------------+----------------+----------+--------------------+----------+-------------+-------------+------------+---------------------+-----------------+----------+----------+\n",
            "|beijing-2022|2022-02-20 12:00:00|2022-02-04 15:00:00|        China|Beijing 2022|     Winter|     2022|         Curling|Mixed Doubles|beijing-2022|        GameTeam|      GOLD|[('Stefania CONST...|     False|            1|        Italy|          IT|                  ITA|              NaN|       NaN|       NaN|\n",
            "|beijing-2022|2022-02-20 12:00:00|2022-02-04 15:00:00|        China|Beijing 2022|     Winter|     2022|         Curling|Mixed Doubles|beijing-2022|        GameTeam|    SILVER|[('Kristin SKASLI...|     False|            2|       Norway|          NO|                  NOR|              NaN|       NaN|       NaN|\n",
            "|beijing-2022|2022-02-20 12:00:00|2022-02-04 15:00:00|        China|Beijing 2022|     Winter|     2022|         Curling|Mixed Doubles|beijing-2022|        GameTeam|    BRONZE|[('Almida DE VAL'...|     False|            3|       Sweden|          SE|                  SWE|              NaN|       NaN|       NaN|\n",
            "|beijing-2022|2022-02-20 12:00:00|2022-02-04 15:00:00|        China|Beijing 2022|     Winter|     2022|         Curling|Mixed Doubles|beijing-2022|        GameTeam|       NaN|[('Jennifer DODDS...|     False|            4|Great Britain|          GB|                  GBR|              NaN|       NaN|       NaN|\n",
            "|beijing-2022|2022-02-20 12:00:00|2022-02-04 15:00:00|        China|Beijing 2022|     Winter|     2022|         Curling|Mixed Doubles|beijing-2022|        GameTeam|       NaN|[('Rachel HOMAN',...|     False|            5|       Canada|          CA|                  CAN|              NaN|       NaN|       NaN|\n",
            "+------------+-------------------+-------------------+-------------+------------+-----------+---------+----------------+-------------+------------+----------------+----------+--------------------+----------+-------------+-------------+------------+---------------------+-----------------+----------+----------+\n",
            "only showing top 5 rows\n",
            "\n"
          ]
        }
      ],
      "source": [
        "jo_types = df_hosts[['slug_game','game_season', 'game_year']]\n",
        "hosts_results_merge = df_hosts.join(results, df_hosts['slug_game'] == df_results['slug_game'])\n",
        "hosts_results_merge.show(5)"
      ]
    }
  ],
  "metadata": {
    "colab": {
      "collapsed_sections": [
        "-gMHCGAfSefE",
        "YAHfX079SZUw",
        "GdXyNSU2Snmc",
        "Vinr7kYeSxTH",
        "xPQLVT0lYuMJ",
        "I5Knjsg5THtd",
        "BwUPGkh5Trzo",
        "raLmLpAtVm2w",
        "S32MrVN2TbYK",
        "NZvexGaFa_lO",
        "DvJtBQ7tcUo-"
      ],
      "provenance": []
    },
    "kernelspec": {
      "display_name": "Python 3",
      "name": "python3"
    },
    "language_info": {
      "name": "python"
    }
  },
  "nbformat": 4,
  "nbformat_minor": 0
}
