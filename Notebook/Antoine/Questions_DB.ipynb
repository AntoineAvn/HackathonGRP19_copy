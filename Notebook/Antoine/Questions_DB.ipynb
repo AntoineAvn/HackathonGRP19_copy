{
 "cells": [
  {
   "cell_type": "markdown",
   "id": "5b8e5489",
   "metadata": {},
   "source": [
    "# Hackaton Prédiction - JO 2024"
   ]
  },
  {
   "cell_type": "code",
   "execution_count": 1,
   "id": "31d552fb",
   "metadata": {},
   "outputs": [
    {
     "name": "stdout",
     "output_type": "stream",
     "text": [
      "2024-05-30 14:49:21,747 INFO sqlalchemy.engine.Engine SELECT DATABASE()\n",
      "2024-05-30 14:49:21,749 INFO sqlalchemy.engine.Engine [raw sql] {}\n",
      "2024-05-30 14:49:21,766 INFO sqlalchemy.engine.Engine SELECT @@sql_mode\n",
      "2024-05-30 14:49:21,768 INFO sqlalchemy.engine.Engine [raw sql] {}\n",
      "2024-05-30 14:49:21,780 INFO sqlalchemy.engine.Engine SELECT @@lower_case_table_names\n",
      "2024-05-30 14:49:21,782 INFO sqlalchemy.engine.Engine [raw sql] {}\n",
      "2024-05-30 14:49:21,802 INFO sqlalchemy.engine.Engine SELECT COUNT(*) FROM information_schema.tables WHERE table_schema = %(table_schema)s AND table_name = %(table_name)s\n",
      "2024-05-30 14:49:21,803 INFO sqlalchemy.engine.Engine [generated in 0.00171s] {'table_schema': 'kemeh32717_hackathon', 'table_name': 'SELECT * FROM olympic_hosts'}\n",
      "2024-05-30 14:49:21,814 INFO sqlalchemy.engine.Engine SELECT * FROM olympic_hosts\n",
      "2024-05-30 14:49:21,815 INFO sqlalchemy.engine.Engine [raw sql] {}\n",
      "2024-05-30 14:49:21,838 INFO sqlalchemy.engine.Engine SELECT COUNT(*) FROM information_schema.tables WHERE table_schema = %(table_schema)s AND table_name = %(table_name)s\n",
      "2024-05-30 14:49:21,839 INFO sqlalchemy.engine.Engine [cached since 0.03787s ago] {'table_schema': 'kemeh32717_hackathon', 'table_name': 'SELECT * FROM olympic_athletes'}\n",
      "2024-05-30 14:49:21,850 INFO sqlalchemy.engine.Engine SELECT * FROM olympic_athletes\n",
      "2024-05-30 14:49:21,852 INFO sqlalchemy.engine.Engine [raw sql] {}\n",
      "2024-05-30 14:49:21,874 INFO sqlalchemy.engine.Engine SELECT COUNT(*) FROM information_schema.tables WHERE table_schema = %(table_schema)s AND table_name = %(table_name)s\n",
      "2024-05-30 14:49:21,876 INFO sqlalchemy.engine.Engine [cached since 0.07391s ago] {'table_schema': 'kemeh32717_hackathon', 'table_name': 'SELECT * FROM olympic_medals'}\n",
      "2024-05-30 14:49:21,886 INFO sqlalchemy.engine.Engine SELECT * FROM olympic_medals\n",
      "2024-05-30 14:49:21,887 INFO sqlalchemy.engine.Engine [raw sql] {}\n",
      "2024-05-30 14:49:22,669 INFO sqlalchemy.engine.Engine SELECT COUNT(*) FROM information_schema.tables WHERE table_schema = %(table_schema)s AND table_name = %(table_name)s\n",
      "2024-05-30 14:49:22,670 INFO sqlalchemy.engine.Engine [cached since 0.8687s ago] {'table_schema': 'kemeh32717_hackathon', 'table_name': 'SELECT * FROM olympic_results'}\n",
      "2024-05-30 14:49:22,680 INFO sqlalchemy.engine.Engine SELECT * FROM olympic_results\n",
      "2024-05-30 14:49:22,682 INFO sqlalchemy.engine.Engine [raw sql] {}\n"
     ]
    }
   ],
   "source": [
    "import pandas as pd\n",
    "# import numpy as np\n",
    "# import matplotlib.pyplot as plt\n",
    "# import seaborn as sns\n",
    "\n",
    "import os\n",
    "from dotenv import load_dotenv\n",
    "from pathlib import Path\n",
    "from sqlalchemy import create_engine\n",
    "\n",
    "# Chemin relatif vers le fichier .env\n",
    "env_path = Path('../../.env')\n",
    "load_dotenv(dotenv_path=env_path)\n",
    "\n",
    "DB_HOST = os.getenv(\"DB_HOST\")\n",
    "DB_USER = os.getenv(\"DB_USER\")\n",
    "DB_PASSWORD = os.getenv(\"DB_PASSWORD\")\n",
    "DB_DATABASE = os.getenv(\"DB_DATABASE\")\n",
    "\n",
    "# Paramètres de la base de données PostgreSQL\n",
    "DATABASE_URL = \"mysql+pymysql://\" + DB_USER + \":\" + DB_PASSWORD + \"@\" + DB_HOST + \"/\" + DB_DATABASE\n",
    "engine = create_engine(DATABASE_URL, echo=True)\n",
    "\n",
    "# Pour tester la connexion\n",
    "# connection = engine.connect()\n",
    "# print(\"Connexion réussie!\")\n",
    "\n",
    "olympic_hosts = pd.read_sql(\"SELECT * FROM olympic_hosts\", con=engine)\n",
    "olympic_athlete = pd.read_sql(\"SELECT * FROM olympic_athletes\", con=engine)\n",
    "olympic_medals = pd.read_sql(\"SELECT * FROM olympic_medals\", con=engine)\n",
    "olympic_results = pd.read_sql(\"SELECT * FROM olympic_results\", con=engine)\n",
    "\n",
    "# Close the connection\n",
    "# connection.close()\n",
    "# print(\"Connexion fermée avec succès!\")"
   ]
  },
  {
   "cell_type": "markdown",
   "id": "dc19e58a",
   "metadata": {},
   "source": [
    "### ATHLETES - olympic_athletes.json"
   ]
  },
  {
   "cell_type": "code",
   "execution_count": 2,
   "id": "b57deafb",
   "metadata": {},
   "outputs": [
    {
     "data": {
      "text/html": [
       "<div>\n",
       "<style scoped>\n",
       "    .dataframe tbody tr th:only-of-type {\n",
       "        vertical-align: middle;\n",
       "    }\n",
       "\n",
       "    .dataframe tbody tr th {\n",
       "        vertical-align: top;\n",
       "    }\n",
       "\n",
       "    .dataframe thead th {\n",
       "        text-align: right;\n",
       "    }\n",
       "</style>\n",
       "<table border=\"1\" class=\"dataframe\">\n",
       "  <thead>\n",
       "    <tr style=\"text-align: right;\">\n",
       "      <th></th>\n",
       "      <th>athlete_url</th>\n",
       "      <th>athlete_full_name</th>\n",
       "      <th>games_participations</th>\n",
       "      <th>first_game</th>\n",
       "      <th>athlete_year_birth</th>\n",
       "      <th>athlete_medals</th>\n",
       "      <th>bio</th>\n",
       "    </tr>\n",
       "  </thead>\n",
       "  <tbody>\n",
       "  </tbody>\n",
       "</table>\n",
       "</div>"
      ],
      "text/plain": [
       "Empty DataFrame\n",
       "Columns: [athlete_url, athlete_full_name, games_participations, first_game, athlete_year_birth, athlete_medals, bio]\n",
       "Index: []"
      ]
     },
     "execution_count": 2,
     "metadata": {},
     "output_type": "execute_result"
    }
   ],
   "source": [
    "# Afficher les premières lignes du DataFrame\n",
    "olympic_athlete.head()"
   ]
  },
  {
   "cell_type": "code",
   "execution_count": 3,
   "id": "a972aa07",
   "metadata": {},
   "outputs": [
    {
     "name": "stdout",
     "output_type": "stream",
     "text": [
      "Il y a 0 lignes et 7 colonnes\n"
     ]
    }
   ],
   "source": [
    "# Combien de lignes ? Combien de colonnes ?\n",
    "print('Il y a ' + str(olympic_athlete.shape[0]) + ' lignes et ' + str(olympic_athlete.shape[1]) + ' colonnes')"
   ]
  },
  {
   "cell_type": "code",
   "execution_count": 4,
   "id": "d00adb0e",
   "metadata": {},
   "outputs": [
    {
     "data": {
      "text/plain": [
       "athlete_url             0.0\n",
       "athlete_full_name       0.0\n",
       "games_participations    0.0\n",
       "first_game              0.0\n",
       "athlete_year_birth      0.0\n",
       "athlete_medals          0.0\n",
       "bio                     0.0\n",
       "dtype: float64"
      ]
     },
     "execution_count": 4,
     "metadata": {},
     "output_type": "execute_result"
    }
   ],
   "source": [
    "olympic_athlete.isnull().sum()"
   ]
  },
  {
   "cell_type": "code",
   "execution_count": 5,
   "id": "2cd52f52",
   "metadata": {},
   "outputs": [
    {
     "name": "stdout",
     "output_type": "stream",
     "text": [
      "Il y a 0 ligne(s) dupliquée(s)\n"
     ]
    }
   ],
   "source": [
    "# Y a-t'il des lignes dupliquée ? Si oui, les supprimer\n",
    "print('Il y a ' + str(olympic_athlete.duplicated().sum()) + ' ligne(s) dupliquée(s)')"
   ]
  },
  {
   "cell_type": "markdown",
   "id": "2eb7b9a5",
   "metadata": {},
   "source": [
    "### Résultats - olympic_results.html"
   ]
  },
  {
   "cell_type": "code",
   "execution_count": 6,
   "id": "d196f99a",
   "metadata": {},
   "outputs": [
    {
     "data": {
      "text/html": [
       "<div>\n",
       "<style scoped>\n",
       "    .dataframe tbody tr th:only-of-type {\n",
       "        vertical-align: middle;\n",
       "    }\n",
       "\n",
       "    .dataframe tbody tr th {\n",
       "        vertical-align: top;\n",
       "    }\n",
       "\n",
       "    .dataframe thead th {\n",
       "        text-align: right;\n",
       "    }\n",
       "</style>\n",
       "<table border=\"1\" class=\"dataframe\">\n",
       "  <thead>\n",
       "    <tr style=\"text-align: right;\">\n",
       "      <th></th>\n",
       "      <th>discipline_title</th>\n",
       "      <th>event_title</th>\n",
       "      <th>game_slug</th>\n",
       "      <th>participant_type</th>\n",
       "      <th>medal_type</th>\n",
       "      <th>athletes</th>\n",
       "      <th>rank_equal</th>\n",
       "      <th>rank_position</th>\n",
       "      <th>country_name</th>\n",
       "      <th>country_code</th>\n",
       "      <th>country_3_letter_code</th>\n",
       "      <th>athlete_url</th>\n",
       "      <th>athlete_full_name</th>\n",
       "      <th>value_unit</th>\n",
       "      <th>value_type</th>\n",
       "    </tr>\n",
       "  </thead>\n",
       "  <tbody>\n",
       "    <tr>\n",
       "      <th>0</th>\n",
       "      <td>Curling</td>\n",
       "      <td>Mixed Doubles</td>\n",
       "      <td>beijing-2022</td>\n",
       "      <td>GameTeam</td>\n",
       "      <td>GOLD</td>\n",
       "      <td>[('Stefania CONSTANTINI', 'https://olympics.co...</td>\n",
       "      <td>0</td>\n",
       "      <td>1</td>\n",
       "      <td>Italy</td>\n",
       "      <td>IT</td>\n",
       "      <td>ITA</td>\n",
       "      <td></td>\n",
       "      <td></td>\n",
       "      <td></td>\n",
       "      <td></td>\n",
       "    </tr>\n",
       "    <tr>\n",
       "      <th>1</th>\n",
       "      <td>Curling</td>\n",
       "      <td>Mixed Doubles</td>\n",
       "      <td>beijing-2022</td>\n",
       "      <td>GameTeam</td>\n",
       "      <td>SILVER</td>\n",
       "      <td>[('Kristin SKASLIEN', 'https://olympics.com/en...</td>\n",
       "      <td>0</td>\n",
       "      <td>2</td>\n",
       "      <td>Norway</td>\n",
       "      <td>NO</td>\n",
       "      <td>NOR</td>\n",
       "      <td></td>\n",
       "      <td></td>\n",
       "      <td></td>\n",
       "      <td></td>\n",
       "    </tr>\n",
       "    <tr>\n",
       "      <th>2</th>\n",
       "      <td>Curling</td>\n",
       "      <td>Mixed Doubles</td>\n",
       "      <td>beijing-2022</td>\n",
       "      <td>GameTeam</td>\n",
       "      <td>BRONZE</td>\n",
       "      <td>[('Almida DE VAL', 'https://olympics.com/en/at...</td>\n",
       "      <td>0</td>\n",
       "      <td>3</td>\n",
       "      <td>Sweden</td>\n",
       "      <td>SE</td>\n",
       "      <td>SWE</td>\n",
       "      <td></td>\n",
       "      <td></td>\n",
       "      <td></td>\n",
       "      <td></td>\n",
       "    </tr>\n",
       "    <tr>\n",
       "      <th>3</th>\n",
       "      <td>Curling</td>\n",
       "      <td>Mixed Doubles</td>\n",
       "      <td>beijing-2022</td>\n",
       "      <td>GameTeam</td>\n",
       "      <td>AUCUNE</td>\n",
       "      <td>[('Jennifer DODDS', 'https://olympics.com/en/a...</td>\n",
       "      <td>0</td>\n",
       "      <td>4</td>\n",
       "      <td>Great Britain</td>\n",
       "      <td>GB</td>\n",
       "      <td>GBR</td>\n",
       "      <td></td>\n",
       "      <td></td>\n",
       "      <td></td>\n",
       "      <td></td>\n",
       "    </tr>\n",
       "    <tr>\n",
       "      <th>4</th>\n",
       "      <td>Curling</td>\n",
       "      <td>Mixed Doubles</td>\n",
       "      <td>beijing-2022</td>\n",
       "      <td>GameTeam</td>\n",
       "      <td>AUCUNE</td>\n",
       "      <td>[('Rachel HOMAN', 'https://olympics.com/en/ath...</td>\n",
       "      <td>0</td>\n",
       "      <td>5</td>\n",
       "      <td>Canada</td>\n",
       "      <td>CA</td>\n",
       "      <td>CAN</td>\n",
       "      <td></td>\n",
       "      <td></td>\n",
       "      <td></td>\n",
       "      <td></td>\n",
       "    </tr>\n",
       "  </tbody>\n",
       "</table>\n",
       "</div>"
      ],
      "text/plain": [
       "  discipline_title    event_title     game_slug participant_type medal_type  \\\n",
       "0          Curling  Mixed Doubles  beijing-2022         GameTeam       GOLD   \n",
       "1          Curling  Mixed Doubles  beijing-2022         GameTeam     SILVER   \n",
       "2          Curling  Mixed Doubles  beijing-2022         GameTeam     BRONZE   \n",
       "3          Curling  Mixed Doubles  beijing-2022         GameTeam     AUCUNE   \n",
       "4          Curling  Mixed Doubles  beijing-2022         GameTeam     AUCUNE   \n",
       "\n",
       "                                            athletes  rank_equal  \\\n",
       "0  [('Stefania CONSTANTINI', 'https://olympics.co...           0   \n",
       "1  [('Kristin SKASLIEN', 'https://olympics.com/en...           0   \n",
       "2  [('Almida DE VAL', 'https://olympics.com/en/at...           0   \n",
       "3  [('Jennifer DODDS', 'https://olympics.com/en/a...           0   \n",
       "4  [('Rachel HOMAN', 'https://olympics.com/en/ath...           0   \n",
       "\n",
       "   rank_position   country_name country_code country_3_letter_code  \\\n",
       "0              1          Italy           IT                   ITA   \n",
       "1              2         Norway           NO                   NOR   \n",
       "2              3         Sweden           SE                   SWE   \n",
       "3              4  Great Britain           GB                   GBR   \n",
       "4              5         Canada           CA                   CAN   \n",
       "\n",
       "  athlete_url athlete_full_name value_unit value_type  \n",
       "0                                                      \n",
       "1                                                      \n",
       "2                                                      \n",
       "3                                                      \n",
       "4                                                      "
      ]
     },
     "execution_count": 6,
     "metadata": {},
     "output_type": "execute_result"
    }
   ],
   "source": [
    "# Renommer la colonne 'slug_game' en 'game_slug'\n",
    "olympic_results = olympic_results.rename({'slug_game':'game_slug'},axis=1)\n",
    "\n",
    "# Afficher la première table (si le fichier contient plusieurs tables)\n",
    "olympic_results.head()"
   ]
  },
  {
   "cell_type": "code",
   "execution_count": 7,
   "id": "93fba5f8",
   "metadata": {},
   "outputs": [
    {
     "name": "stdout",
     "output_type": "stream",
     "text": [
      "Il y a 162804 lignes et 15 colonnes\n"
     ]
    }
   ],
   "source": [
    "# Combien de lignes ? Combien de colonnes ?\n",
    "print('Il y a ' + str(olympic_results.shape[0]) + ' lignes et ' + str(olympic_results.shape[1]) + ' colonnes')"
   ]
  },
  {
   "cell_type": "code",
   "execution_count": 8,
   "id": "40cba135",
   "metadata": {
    "scrolled": true
   },
   "outputs": [
    {
     "data": {
      "text/plain": [
       "discipline_title         0\n",
       "event_title              0\n",
       "game_slug                0\n",
       "participant_type         0\n",
       "medal_type               0\n",
       "athletes                 0\n",
       "rank_equal               0\n",
       "rank_position            0\n",
       "country_name             0\n",
       "country_code             0\n",
       "country_3_letter_code    0\n",
       "athlete_url              0\n",
       "athlete_full_name        0\n",
       "value_unit               0\n",
       "value_type               0\n",
       "dtype: int64"
      ]
     },
     "execution_count": 8,
     "metadata": {},
     "output_type": "execute_result"
    }
   ],
   "source": [
    "# Afficher le nombre de données manquantes pour chaque colonne\n",
    "olympic_results.isnull().sum()"
   ]
  },
  {
   "cell_type": "code",
   "execution_count": 9,
   "id": "05d3d708",
   "metadata": {},
   "outputs": [
    {
     "name": "stdout",
     "output_type": "stream",
     "text": [
      "Il y a 6351 ligne(s) dupliquée(s)\n"
     ]
    }
   ],
   "source": [
    "# Y a-t'il des lignes dupliquée ? Si oui, les supprimer\n",
    "print('Il y a ' + str(olympic_results.duplicated().sum()) + ' ligne(s) dupliquée(s)')"
   ]
  },
  {
   "cell_type": "markdown",
   "id": "7ee89fa5",
   "metadata": {},
   "source": [
    "### Médailles - olympic_medals.xlsx"
   ]
  },
  {
   "cell_type": "code",
   "execution_count": 10,
   "id": "7e9ad513",
   "metadata": {},
   "outputs": [
    {
     "data": {
      "text/html": [
       "<div>\n",
       "<style scoped>\n",
       "    .dataframe tbody tr th:only-of-type {\n",
       "        vertical-align: middle;\n",
       "    }\n",
       "\n",
       "    .dataframe tbody tr th {\n",
       "        vertical-align: top;\n",
       "    }\n",
       "\n",
       "    .dataframe thead th {\n",
       "        text-align: right;\n",
       "    }\n",
       "</style>\n",
       "<table border=\"1\" class=\"dataframe\">\n",
       "  <thead>\n",
       "    <tr style=\"text-align: right;\">\n",
       "      <th></th>\n",
       "      <th>id</th>\n",
       "      <th>discipline_title</th>\n",
       "      <th>game_slug</th>\n",
       "      <th>event_title</th>\n",
       "      <th>event_gender</th>\n",
       "      <th>medal_type</th>\n",
       "      <th>participant_type</th>\n",
       "      <th>participant_title</th>\n",
       "      <th>athlete_url</th>\n",
       "      <th>athlete_full_name</th>\n",
       "      <th>country_name</th>\n",
       "      <th>country_code</th>\n",
       "      <th>country_3_letter_code</th>\n",
       "    </tr>\n",
       "  </thead>\n",
       "  <tbody>\n",
       "    <tr>\n",
       "      <th>0</th>\n",
       "      <td>21698</td>\n",
       "      <td>Curling</td>\n",
       "      <td>beijing-2022</td>\n",
       "      <td>Mixed Doubles</td>\n",
       "      <td>Mixed</td>\n",
       "      <td>GOLD</td>\n",
       "      <td>GameTeam</td>\n",
       "      <td>Italy</td>\n",
       "      <td>https://olympics.com/en/athletes/stefania-cons...</td>\n",
       "      <td>Stefania CONSTANTINI</td>\n",
       "      <td>Italy</td>\n",
       "      <td>IT</td>\n",
       "      <td>ITA</td>\n",
       "    </tr>\n",
       "    <tr>\n",
       "      <th>1</th>\n",
       "      <td>21699</td>\n",
       "      <td>Curling</td>\n",
       "      <td>beijing-2022</td>\n",
       "      <td>Mixed Doubles</td>\n",
       "      <td>Mixed</td>\n",
       "      <td>GOLD</td>\n",
       "      <td>GameTeam</td>\n",
       "      <td>Italy</td>\n",
       "      <td>https://olympics.com/en/athletes/amos-mosaner</td>\n",
       "      <td>Amos MOSANER</td>\n",
       "      <td>Italy</td>\n",
       "      <td>IT</td>\n",
       "      <td>ITA</td>\n",
       "    </tr>\n",
       "    <tr>\n",
       "      <th>2</th>\n",
       "      <td>21700</td>\n",
       "      <td>Curling</td>\n",
       "      <td>beijing-2022</td>\n",
       "      <td>Mixed Doubles</td>\n",
       "      <td>Mixed</td>\n",
       "      <td>SILVER</td>\n",
       "      <td>GameTeam</td>\n",
       "      <td>Norway</td>\n",
       "      <td>https://olympics.com/en/athletes/kristin-skaslien</td>\n",
       "      <td>Kristin SKASLIEN</td>\n",
       "      <td>Norway</td>\n",
       "      <td>NO</td>\n",
       "      <td>NOR</td>\n",
       "    </tr>\n",
       "    <tr>\n",
       "      <th>3</th>\n",
       "      <td>21701</td>\n",
       "      <td>Curling</td>\n",
       "      <td>beijing-2022</td>\n",
       "      <td>Mixed Doubles</td>\n",
       "      <td>Mixed</td>\n",
       "      <td>SILVER</td>\n",
       "      <td>GameTeam</td>\n",
       "      <td>Norway</td>\n",
       "      <td>https://olympics.com/en/athletes/magnus-nedreg...</td>\n",
       "      <td>Magnus NEDREGOTTEN</td>\n",
       "      <td>Norway</td>\n",
       "      <td>NO</td>\n",
       "      <td>NOR</td>\n",
       "    </tr>\n",
       "    <tr>\n",
       "      <th>4</th>\n",
       "      <td>21702</td>\n",
       "      <td>Curling</td>\n",
       "      <td>beijing-2022</td>\n",
       "      <td>Mixed Doubles</td>\n",
       "      <td>Mixed</td>\n",
       "      <td>BRONZE</td>\n",
       "      <td>GameTeam</td>\n",
       "      <td>Sweden</td>\n",
       "      <td>https://olympics.com/en/athletes/almida-de-val</td>\n",
       "      <td>Almida DE VAL</td>\n",
       "      <td>Sweden</td>\n",
       "      <td>SE</td>\n",
       "      <td>SWE</td>\n",
       "    </tr>\n",
       "  </tbody>\n",
       "</table>\n",
       "</div>"
      ],
      "text/plain": [
       "      id discipline_title     game_slug    event_title event_gender  \\\n",
       "0  21698          Curling  beijing-2022  Mixed Doubles        Mixed   \n",
       "1  21699          Curling  beijing-2022  Mixed Doubles        Mixed   \n",
       "2  21700          Curling  beijing-2022  Mixed Doubles        Mixed   \n",
       "3  21701          Curling  beijing-2022  Mixed Doubles        Mixed   \n",
       "4  21702          Curling  beijing-2022  Mixed Doubles        Mixed   \n",
       "\n",
       "  medal_type participant_type participant_title  \\\n",
       "0       GOLD         GameTeam             Italy   \n",
       "1       GOLD         GameTeam             Italy   \n",
       "2     SILVER         GameTeam            Norway   \n",
       "3     SILVER         GameTeam            Norway   \n",
       "4     BRONZE         GameTeam            Sweden   \n",
       "\n",
       "                                         athlete_url     athlete_full_name  \\\n",
       "0  https://olympics.com/en/athletes/stefania-cons...  Stefania CONSTANTINI   \n",
       "1      https://olympics.com/en/athletes/amos-mosaner          Amos MOSANER   \n",
       "2  https://olympics.com/en/athletes/kristin-skaslien      Kristin SKASLIEN   \n",
       "3  https://olympics.com/en/athletes/magnus-nedreg...    Magnus NEDREGOTTEN   \n",
       "4     https://olympics.com/en/athletes/almida-de-val         Almida DE VAL   \n",
       "\n",
       "  country_name country_code country_3_letter_code  \n",
       "0        Italy           IT                   ITA  \n",
       "1        Italy           IT                   ITA  \n",
       "2       Norway           NO                   NOR  \n",
       "3       Norway           NO                   NOR  \n",
       "4       Sweden           SE                   SWE  "
      ]
     },
     "execution_count": 10,
     "metadata": {},
     "output_type": "execute_result"
    }
   ],
   "source": [
    "# Renommer la colonne 'slug_game' en 'game_slug'\n",
    "olympic_medals = olympic_medals.rename({'slug_game':'game_slug'},axis=1)\n",
    "\n",
    "# Afficher les premières lignes du DataFrame\n",
    "olympic_medals.head()"
   ]
  },
  {
   "cell_type": "code",
   "execution_count": 11,
   "id": "7501bc75",
   "metadata": {},
   "outputs": [
    {
     "name": "stdout",
     "output_type": "stream",
     "text": [
      "Il y a 21697 lignes et 13 colonnes\n"
     ]
    }
   ],
   "source": [
    "# Combien de lignes ? Combien de colonnes ?\n",
    "print('Il y a ' + str(olympic_medals.shape[0]) + ' lignes et ' + str(olympic_medals.shape[1]) + ' colonnes')"
   ]
  },
  {
   "cell_type": "code",
   "execution_count": 12,
   "id": "53b24f13",
   "metadata": {
    "scrolled": true
   },
   "outputs": [
    {
     "data": {
      "text/plain": [
       "id                          0\n",
       "discipline_title            0\n",
       "game_slug                   0\n",
       "event_title                 0\n",
       "event_gender                0\n",
       "medal_type                  0\n",
       "participant_type            0\n",
       "participant_title           0\n",
       "athlete_url              4670\n",
       "athlete_full_name        3624\n",
       "country_name                0\n",
       "country_code             1502\n",
       "country_3_letter_code       0\n",
       "dtype: int64"
      ]
     },
     "execution_count": 12,
     "metadata": {},
     "output_type": "execute_result"
    }
   ],
   "source": [
    "# Afficher le nombre de données manquantes pour chaque colonne\n",
    "olympic_medals.isnull().sum()"
   ]
  },
  {
   "cell_type": "code",
   "execution_count": 13,
   "id": "0e60ea16",
   "metadata": {},
   "outputs": [
    {
     "name": "stdout",
     "output_type": "stream",
     "text": [
      "Il y a 0 ligne(s) dupliquée(s)\n"
     ]
    }
   ],
   "source": [
    "# Y a-t'il des lignes dupliquée ? Si oui, les supprimer\n",
    "print('Il y a ' + str(olympic_medals.duplicated().sum()) + ' ligne(s) dupliquée(s)')"
   ]
  },
  {
   "cell_type": "code",
   "execution_count": 14,
   "id": "e1fb97c4",
   "metadata": {},
   "outputs": [
    {
     "data": {
      "text/plain": [
       "Index(['id', 'discipline_title', 'game_slug', 'event_title', 'event_gender',\n",
       "       'medal_type', 'participant_type', 'participant_title', 'athlete_url',\n",
       "       'athlete_full_name', 'country_name', 'country_code',\n",
       "       'country_3_letter_code'],\n",
       "      dtype='object')"
      ]
     },
     "execution_count": 14,
     "metadata": {},
     "output_type": "execute_result"
    }
   ],
   "source": [
    "# On renomme la colonne slug_game en game_slug pour les futures merges des autres DF\n",
    "olympic_medals = olympic_medals.rename({'slug_game':'game_slug'},axis=1)\n",
    "olympic_medals.columns"
   ]
  },
  {
   "cell_type": "code",
   "execution_count": 15,
   "id": "ce5fe842",
   "metadata": {},
   "outputs": [
    {
     "data": {
      "text/html": [
       "<div>\n",
       "<style scoped>\n",
       "    .dataframe tbody tr th:only-of-type {\n",
       "        vertical-align: middle;\n",
       "    }\n",
       "\n",
       "    .dataframe tbody tr th {\n",
       "        vertical-align: top;\n",
       "    }\n",
       "\n",
       "    .dataframe thead th {\n",
       "        text-align: right;\n",
       "    }\n",
       "</style>\n",
       "<table border=\"1\" class=\"dataframe\">\n",
       "  <thead>\n",
       "    <tr style=\"text-align: right;\">\n",
       "      <th></th>\n",
       "      <th>id</th>\n",
       "      <th>discipline_title</th>\n",
       "      <th>game_slug</th>\n",
       "      <th>event_title</th>\n",
       "      <th>event_gender</th>\n",
       "      <th>medal_type</th>\n",
       "      <th>participant_type</th>\n",
       "      <th>participant_title</th>\n",
       "      <th>athlete_url</th>\n",
       "      <th>athlete_full_name</th>\n",
       "      <th>country_name</th>\n",
       "      <th>country_code</th>\n",
       "      <th>country_3_letter_code</th>\n",
       "    </tr>\n",
       "  </thead>\n",
       "  <tbody>\n",
       "    <tr>\n",
       "      <th>21692</th>\n",
       "      <td>43390</td>\n",
       "      <td>Weightlifting</td>\n",
       "      <td>athens-1896</td>\n",
       "      <td>heavyweight - one hand lift men</td>\n",
       "      <td>Men</td>\n",
       "      <td>SILVER</td>\n",
       "      <td>Athlete</td>\n",
       "      <td>Denmark</td>\n",
       "      <td>https://olympics.com/en/athletes/viggo-jensen</td>\n",
       "      <td>Viggo JENSEN</td>\n",
       "      <td>Denmark</td>\n",
       "      <td>DK</td>\n",
       "      <td>DEN</td>\n",
       "    </tr>\n",
       "    <tr>\n",
       "      <th>21693</th>\n",
       "      <td>43391</td>\n",
       "      <td>Weightlifting</td>\n",
       "      <td>athens-1896</td>\n",
       "      <td>heavyweight - one hand lift men</td>\n",
       "      <td>Men</td>\n",
       "      <td>BRONZE</td>\n",
       "      <td>Athlete</td>\n",
       "      <td>Greece</td>\n",
       "      <td>None</td>\n",
       "      <td>Alexandros Nikolopoulos</td>\n",
       "      <td>Greece</td>\n",
       "      <td>GR</td>\n",
       "      <td>GRE</td>\n",
       "    </tr>\n",
       "    <tr>\n",
       "      <th>21694</th>\n",
       "      <td>43392</td>\n",
       "      <td>Weightlifting</td>\n",
       "      <td>athens-1896</td>\n",
       "      <td>heavyweight - two hand lift men</td>\n",
       "      <td>Men</td>\n",
       "      <td>GOLD</td>\n",
       "      <td>Athlete</td>\n",
       "      <td>Denmark</td>\n",
       "      <td>https://olympics.com/en/athletes/viggo-jensen</td>\n",
       "      <td>Viggo JENSEN</td>\n",
       "      <td>Denmark</td>\n",
       "      <td>DK</td>\n",
       "      <td>DEN</td>\n",
       "    </tr>\n",
       "    <tr>\n",
       "      <th>21695</th>\n",
       "      <td>43393</td>\n",
       "      <td>Weightlifting</td>\n",
       "      <td>athens-1896</td>\n",
       "      <td>heavyweight - two hand lift men</td>\n",
       "      <td>Men</td>\n",
       "      <td>SILVER</td>\n",
       "      <td>Athlete</td>\n",
       "      <td>Great Britain</td>\n",
       "      <td>https://olympics.com/en/athletes/launceston-el...</td>\n",
       "      <td>Launceston ELLIOT</td>\n",
       "      <td>Great Britain</td>\n",
       "      <td>GB</td>\n",
       "      <td>GBR</td>\n",
       "    </tr>\n",
       "    <tr>\n",
       "      <th>21696</th>\n",
       "      <td>43394</td>\n",
       "      <td>Weightlifting</td>\n",
       "      <td>athens-1896</td>\n",
       "      <td>heavyweight - two hand lift men</td>\n",
       "      <td>Men</td>\n",
       "      <td>BRONZE</td>\n",
       "      <td>Athlete</td>\n",
       "      <td>Greece</td>\n",
       "      <td>https://olympics.com/en/athletes/sotirios-versis</td>\n",
       "      <td>Sotirios VERSIS</td>\n",
       "      <td>Greece</td>\n",
       "      <td>GR</td>\n",
       "      <td>GRE</td>\n",
       "    </tr>\n",
       "  </tbody>\n",
       "</table>\n",
       "</div>"
      ],
      "text/plain": [
       "          id discipline_title    game_slug                      event_title  \\\n",
       "21692  43390    Weightlifting  athens-1896  heavyweight - one hand lift men   \n",
       "21693  43391    Weightlifting  athens-1896  heavyweight - one hand lift men   \n",
       "21694  43392    Weightlifting  athens-1896  heavyweight - two hand lift men   \n",
       "21695  43393    Weightlifting  athens-1896  heavyweight - two hand lift men   \n",
       "21696  43394    Weightlifting  athens-1896  heavyweight - two hand lift men   \n",
       "\n",
       "      event_gender medal_type participant_type participant_title  \\\n",
       "21692          Men     SILVER          Athlete           Denmark   \n",
       "21693          Men     BRONZE          Athlete            Greece   \n",
       "21694          Men       GOLD          Athlete           Denmark   \n",
       "21695          Men     SILVER          Athlete     Great Britain   \n",
       "21696          Men     BRONZE          Athlete            Greece   \n",
       "\n",
       "                                             athlete_url  \\\n",
       "21692      https://olympics.com/en/athletes/viggo-jensen   \n",
       "21693                                               None   \n",
       "21694      https://olympics.com/en/athletes/viggo-jensen   \n",
       "21695  https://olympics.com/en/athletes/launceston-el...   \n",
       "21696   https://olympics.com/en/athletes/sotirios-versis   \n",
       "\n",
       "             athlete_full_name   country_name country_code  \\\n",
       "21692             Viggo JENSEN        Denmark           DK   \n",
       "21693  Alexandros Nikolopoulos         Greece           GR   \n",
       "21694             Viggo JENSEN        Denmark           DK   \n",
       "21695        Launceston ELLIOT  Great Britain           GB   \n",
       "21696          Sotirios VERSIS         Greece           GR   \n",
       "\n",
       "      country_3_letter_code  \n",
       "21692                   DEN  \n",
       "21693                   GRE  \n",
       "21694                   DEN  \n",
       "21695                   GBR  \n",
       "21696                   GRE  "
      ]
     },
     "execution_count": 15,
     "metadata": {},
     "output_type": "execute_result"
    }
   ],
   "source": [
    "olympic_medals.tail()"
   ]
  },
  {
   "cell_type": "markdown",
   "id": "fdc4244f",
   "metadata": {},
   "source": [
    "### Hôtes - olympic_hosts.xml"
   ]
  },
  {
   "cell_type": "code",
   "execution_count": 16,
   "id": "90e05fb1",
   "metadata": {},
   "outputs": [
    {
     "data": {
      "text/html": [
       "<div>\n",
       "<style scoped>\n",
       "    .dataframe tbody tr th:only-of-type {\n",
       "        vertical-align: middle;\n",
       "    }\n",
       "\n",
       "    .dataframe tbody tr th {\n",
       "        vertical-align: top;\n",
       "    }\n",
       "\n",
       "    .dataframe thead th {\n",
       "        text-align: right;\n",
       "    }\n",
       "</style>\n",
       "<table border=\"1\" class=\"dataframe\">\n",
       "  <thead>\n",
       "    <tr style=\"text-align: right;\">\n",
       "      <th></th>\n",
       "      <th>id</th>\n",
       "      <th>game_slug</th>\n",
       "      <th>game_end_date</th>\n",
       "      <th>game_start_date</th>\n",
       "      <th>game_location</th>\n",
       "      <th>game_name</th>\n",
       "      <th>game_season</th>\n",
       "      <th>game_year</th>\n",
       "    </tr>\n",
       "  </thead>\n",
       "  <tbody>\n",
       "    <tr>\n",
       "      <th>0</th>\n",
       "      <td>83</td>\n",
       "      <td>tokyo-2020</td>\n",
       "      <td>2021-08-08 14:00:00</td>\n",
       "      <td>2021-07-23 11:00:00</td>\n",
       "      <td>Japan</td>\n",
       "      <td>Tokyo 2020</td>\n",
       "      <td>Summer</td>\n",
       "      <td>2020</td>\n",
       "    </tr>\n",
       "    <tr>\n",
       "      <th>1</th>\n",
       "      <td>84</td>\n",
       "      <td>rio-2016</td>\n",
       "      <td>2016-08-21 21:00:00</td>\n",
       "      <td>2016-08-05 12:00:00</td>\n",
       "      <td>Brazil</td>\n",
       "      <td>Rio 2016</td>\n",
       "      <td>Summer</td>\n",
       "      <td>2016</td>\n",
       "    </tr>\n",
       "    <tr>\n",
       "      <th>2</th>\n",
       "      <td>85</td>\n",
       "      <td>london-2012</td>\n",
       "      <td>2012-08-12 19:00:00</td>\n",
       "      <td>2012-07-27 07:00:00</td>\n",
       "      <td>Great Britain</td>\n",
       "      <td>London 2012</td>\n",
       "      <td>Summer</td>\n",
       "      <td>2012</td>\n",
       "    </tr>\n",
       "    <tr>\n",
       "      <th>3</th>\n",
       "      <td>86</td>\n",
       "      <td>beijing-2008</td>\n",
       "      <td>2008-08-24 12:00:00</td>\n",
       "      <td>2008-08-08 00:00:00</td>\n",
       "      <td>China</td>\n",
       "      <td>Beijing 2008</td>\n",
       "      <td>Summer</td>\n",
       "      <td>2008</td>\n",
       "    </tr>\n",
       "    <tr>\n",
       "      <th>4</th>\n",
       "      <td>87</td>\n",
       "      <td>athens-2004</td>\n",
       "      <td>2004-08-29 18:00:00</td>\n",
       "      <td>2004-08-13 06:00:00</td>\n",
       "      <td>Greece</td>\n",
       "      <td>Athens 2004</td>\n",
       "      <td>Summer</td>\n",
       "      <td>2004</td>\n",
       "    </tr>\n",
       "  </tbody>\n",
       "</table>\n",
       "</div>"
      ],
      "text/plain": [
       "   id     game_slug       game_end_date     game_start_date  game_location  \\\n",
       "0  83    tokyo-2020 2021-08-08 14:00:00 2021-07-23 11:00:00          Japan   \n",
       "1  84      rio-2016 2016-08-21 21:00:00 2016-08-05 12:00:00         Brazil   \n",
       "2  85   london-2012 2012-08-12 19:00:00 2012-07-27 07:00:00  Great Britain   \n",
       "3  86  beijing-2008 2008-08-24 12:00:00 2008-08-08 00:00:00          China   \n",
       "4  87   athens-2004 2004-08-29 18:00:00 2004-08-13 06:00:00         Greece   \n",
       "\n",
       "      game_name game_season  game_year  \n",
       "0    Tokyo 2020      Summer       2020  \n",
       "1      Rio 2016      Summer       2016  \n",
       "2   London 2012      Summer       2012  \n",
       "3  Beijing 2008      Summer       2008  \n",
       "4   Athens 2004      Summer       2004  "
      ]
     },
     "execution_count": 16,
     "metadata": {},
     "output_type": "execute_result"
    }
   ],
   "source": [
    "# Afficher les premières lignes du DataFrame\n",
    "olympic_hosts.head()"
   ]
  },
  {
   "cell_type": "code",
   "execution_count": 17,
   "id": "f21199b2",
   "metadata": {},
   "outputs": [
    {
     "name": "stdout",
     "output_type": "stream",
     "text": [
      "Il y a 29 lignes et 8 colonnes\n"
     ]
    }
   ],
   "source": [
    "# Combien de lignes ? Combien de colonnes ?\n",
    "print('Il y a ' + str(olympic_hosts.shape[0]) + ' lignes et ' + str(olympic_hosts.shape[1]) + ' colonnes')"
   ]
  },
  {
   "cell_type": "code",
   "execution_count": 18,
   "id": "f1280dba",
   "metadata": {},
   "outputs": [
    {
     "data": {
      "text/plain": [
       "id                 0\n",
       "game_slug          0\n",
       "game_end_date      0\n",
       "game_start_date    0\n",
       "game_location      0\n",
       "game_name          0\n",
       "game_season        0\n",
       "game_year          0\n",
       "dtype: int64"
      ]
     },
     "execution_count": 18,
     "metadata": {},
     "output_type": "execute_result"
    }
   ],
   "source": [
    "# Afficher le nombre de données manquantes pour chaque colonne\n",
    "olympic_hosts.isnull().sum()"
   ]
  },
  {
   "cell_type": "code",
   "execution_count": 20,
   "id": "cf8d3bd4",
   "metadata": {},
   "outputs": [
    {
     "name": "stdout",
     "output_type": "stream",
     "text": [
      "Il y a 0 ligne(s) dupliquée(s)\n"
     ]
    }
   ],
   "source": [
    "# Y a-t'il des lignes dupliquée ? Si oui, les supprimer\n",
    "print('Il y a ' + str(olympic_hosts.duplicated().sum()) + ' ligne(s) dupliquée(s)')"
   ]
  },
  {
   "cell_type": "markdown",
   "id": "be41bacb",
   "metadata": {},
   "source": [
    "## Réponses aux questions"
   ]
  },
  {
   "cell_type": "markdown",
   "id": "42fad955",
   "metadata": {},
   "source": [
    "#### 1. La France a organisé 6 JO : 3 d’hiver et 3 d’été (en comptant celui de 2024) ?"
   ]
  },
  {
   "cell_type": "code",
   "execution_count": 21,
   "id": "2dc23e1e",
   "metadata": {},
   "outputs": [
    {
     "data": {
      "text/html": [
       "<div>\n",
       "<style scoped>\n",
       "    .dataframe tbody tr th:only-of-type {\n",
       "        vertical-align: middle;\n",
       "    }\n",
       "\n",
       "    .dataframe tbody tr th {\n",
       "        vertical-align: top;\n",
       "    }\n",
       "\n",
       "    .dataframe thead th {\n",
       "        text-align: right;\n",
       "    }\n",
       "</style>\n",
       "<table border=\"1\" class=\"dataframe\">\n",
       "  <thead>\n",
       "    <tr style=\"text-align: right;\">\n",
       "      <th></th>\n",
       "      <th>id</th>\n",
       "      <th>game_slug</th>\n",
       "      <th>game_end_date</th>\n",
       "      <th>game_start_date</th>\n",
       "      <th>game_location</th>\n",
       "      <th>game_name</th>\n",
       "      <th>game_season</th>\n",
       "      <th>game_year</th>\n",
       "    </tr>\n",
       "  </thead>\n",
       "  <tbody>\n",
       "    <tr>\n",
       "      <th>22</th>\n",
       "      <td>105</td>\n",
       "      <td>paris-1924</td>\n",
       "      <td>1924-07-27 19:00:00</td>\n",
       "      <td>1924-05-04 07:00:00</td>\n",
       "      <td>France</td>\n",
       "      <td>Paris 1924</td>\n",
       "      <td>Summer</td>\n",
       "      <td>1924</td>\n",
       "    </tr>\n",
       "    <tr>\n",
       "      <th>27</th>\n",
       "      <td>110</td>\n",
       "      <td>paris-1900</td>\n",
       "      <td>1900-10-28 19:50:39</td>\n",
       "      <td>1900-05-14 08:50:39</td>\n",
       "      <td>France</td>\n",
       "      <td>Paris 1900</td>\n",
       "      <td>Summer</td>\n",
       "      <td>0</td>\n",
       "    </tr>\n",
       "  </tbody>\n",
       "</table>\n",
       "</div>"
      ],
      "text/plain": [
       "     id   game_slug       game_end_date     game_start_date game_location  \\\n",
       "22  105  paris-1924 1924-07-27 19:00:00 1924-05-04 07:00:00        France   \n",
       "27  110  paris-1900 1900-10-28 19:50:39 1900-05-14 08:50:39        France   \n",
       "\n",
       "     game_name game_season  game_year  \n",
       "22  Paris 1924      Summer       1924  \n",
       "27  Paris 1900      Summer          0  "
      ]
     },
     "execution_count": 21,
     "metadata": {},
     "output_type": "execute_result"
    }
   ],
   "source": [
    "jo_france = olympic_hosts[olympic_hosts['game_location'] == 'France']\n",
    "jo_france"
   ]
  },
  {
   "cell_type": "code",
   "execution_count": 22,
   "id": "394888d6",
   "metadata": {},
   "outputs": [
    {
     "data": {
      "text/plain": [
       "game_season\n",
       "Summer    2\n",
       "dtype: int64"
      ]
     },
     "execution_count": 22,
     "metadata": {},
     "output_type": "execute_result"
    }
   ],
   "source": [
    "# On compte le nombre de JO organisé par la France en fonction de la saison (winter/summer)\n",
    "jo_france.groupby('game_season').size()\n"
   ]
  },
  {
   "cell_type": "markdown",
   "id": "f13b6e1f",
   "metadata": {},
   "source": [
    "La réponse est oui en comptant les JO d'été de 2024"
   ]
  },
  {
   "cell_type": "markdown",
   "id": "614012a1",
   "metadata": {},
   "source": [
    "#### 2. La France est le 2è pays qui a organisé le plus de JO après les USA (8 JO) ?"
   ]
  },
  {
   "cell_type": "code",
   "execution_count": 23,
   "id": "6e185a24",
   "metadata": {},
   "outputs": [
    {
     "data": {
      "text/plain": [
       "game_location\n",
       "United States                  4\n",
       "Great Britain                  3\n",
       "Greece                         2\n",
       "France                         2\n",
       "Japan                          2\n",
       "Italy                          1\n",
       "USSR                           1\n",
       "Sweden                         1\n",
       "Spain                          1\n",
       "Republic of Korea              1\n",
       "Netherlands                    1\n",
       "Mexico                         1\n",
       "Belgium                        1\n",
       "Brazil                         1\n",
       "Australia, Sweden              1\n",
       "Germany                        1\n",
       "Finland                        1\n",
       "Federal Republic of Germany    1\n",
       "China                          1\n",
       "Canada                         1\n",
       "Australia                      1\n",
       "dtype: int64"
      ]
     },
     "execution_count": 23,
     "metadata": {},
     "output_type": "execute_result"
    }
   ],
   "source": [
    "# La France est le 2è pays qui a organisé le plus de JO après les USA (8 JO) ?\n",
    "olympic_hosts.groupby('game_location').size().sort_values(ascending=False)"
   ]
  },
  {
   "cell_type": "markdown",
   "id": "5416e80e",
   "metadata": {},
   "source": [
    "La réponse est oui, en comptant les JO 2024 on est à 6 exactement"
   ]
  },
  {
   "cell_type": "markdown",
   "id": "07cbb354",
   "metadata": {},
   "source": [
    "#### 3. Les JO d’hiver sont nés à Chamonix en 1924 ?"
   ]
  },
  {
   "cell_type": "code",
   "execution_count": 24,
   "id": "e38f5087",
   "metadata": {},
   "outputs": [
    {
     "data": {
      "text/html": [
       "<div>\n",
       "<style scoped>\n",
       "    .dataframe tbody tr th:only-of-type {\n",
       "        vertical-align: middle;\n",
       "    }\n",
       "\n",
       "    .dataframe tbody tr th {\n",
       "        vertical-align: top;\n",
       "    }\n",
       "\n",
       "    .dataframe thead th {\n",
       "        text-align: right;\n",
       "    }\n",
       "</style>\n",
       "<table border=\"1\" class=\"dataframe\">\n",
       "  <thead>\n",
       "    <tr style=\"text-align: right;\">\n",
       "      <th></th>\n",
       "      <th>id</th>\n",
       "      <th>game_slug</th>\n",
       "      <th>game_end_date</th>\n",
       "      <th>game_start_date</th>\n",
       "      <th>game_location</th>\n",
       "      <th>game_name</th>\n",
       "      <th>game_season</th>\n",
       "      <th>game_year</th>\n",
       "    </tr>\n",
       "  </thead>\n",
       "  <tbody>\n",
       "  </tbody>\n",
       "</table>\n",
       "</div>"
      ],
      "text/plain": [
       "Empty DataFrame\n",
       "Columns: [id, game_slug, game_end_date, game_start_date, game_location, game_name, game_season, game_year]\n",
       "Index: []"
      ]
     },
     "execution_count": 24,
     "metadata": {},
     "output_type": "execute_result"
    }
   ],
   "source": [
    "# Les JO d’hiver sont nés à Chamonix en 1924 ?\n",
    "olympic_hosts[olympic_hosts['game_season'] == 'Winter'].sort_values('game_year').head(3)"
   ]
  },
  {
   "cell_type": "markdown",
   "id": "f393d57c",
   "metadata": {},
   "source": [
    "La réponse est oui"
   ]
  },
  {
   "cell_type": "markdown",
   "id": "8138d9aa",
   "metadata": {},
   "source": [
    "#### 4. JO de Paris, en 1900 : les femmes peuvent participer aux JO ?"
   ]
  },
  {
   "cell_type": "code",
   "execution_count": 25,
   "id": "2df6a7b7",
   "metadata": {},
   "outputs": [
    {
     "data": {
      "text/html": [
       "<div>\n",
       "<style scoped>\n",
       "    .dataframe tbody tr th:only-of-type {\n",
       "        vertical-align: middle;\n",
       "    }\n",
       "\n",
       "    .dataframe tbody tr th {\n",
       "        vertical-align: top;\n",
       "    }\n",
       "\n",
       "    .dataframe thead th {\n",
       "        text-align: right;\n",
       "    }\n",
       "</style>\n",
       "<table border=\"1\" class=\"dataframe\">\n",
       "  <thead>\n",
       "    <tr style=\"text-align: right;\">\n",
       "      <th></th>\n",
       "      <th>id</th>\n",
       "      <th>game_slug</th>\n",
       "      <th>game_end_date</th>\n",
       "      <th>game_start_date</th>\n",
       "      <th>game_location</th>\n",
       "      <th>game_name</th>\n",
       "      <th>game_season</th>\n",
       "      <th>game_year</th>\n",
       "    </tr>\n",
       "  </thead>\n",
       "  <tbody>\n",
       "    <tr>\n",
       "      <th>22</th>\n",
       "      <td>105</td>\n",
       "      <td>paris-1924</td>\n",
       "      <td>1924-07-27 19:00:00</td>\n",
       "      <td>1924-05-04 07:00:00</td>\n",
       "      <td>France</td>\n",
       "      <td>Paris 1924</td>\n",
       "      <td>Summer</td>\n",
       "      <td>1924</td>\n",
       "    </tr>\n",
       "    <tr>\n",
       "      <th>27</th>\n",
       "      <td>110</td>\n",
       "      <td>paris-1900</td>\n",
       "      <td>1900-10-28 19:50:39</td>\n",
       "      <td>1900-05-14 08:50:39</td>\n",
       "      <td>France</td>\n",
       "      <td>Paris 1900</td>\n",
       "      <td>Summer</td>\n",
       "      <td>0</td>\n",
       "    </tr>\n",
       "  </tbody>\n",
       "</table>\n",
       "</div>"
      ],
      "text/plain": [
       "     id   game_slug       game_end_date     game_start_date game_location  \\\n",
       "22  105  paris-1924 1924-07-27 19:00:00 1924-05-04 07:00:00        France   \n",
       "27  110  paris-1900 1900-10-28 19:50:39 1900-05-14 08:50:39        France   \n",
       "\n",
       "     game_name game_season  game_year  \n",
       "22  Paris 1924      Summer       1924  \n",
       "27  Paris 1900      Summer          0  "
      ]
     },
     "execution_count": 25,
     "metadata": {},
     "output_type": "execute_result"
    }
   ],
   "source": [
    "# On vérifie si la France a déjà organisé des JO en 1900\n",
    "olympic_hosts[olympic_hosts['game_location'] == 'France']"
   ]
  },
  {
   "cell_type": "code",
   "execution_count": 26,
   "id": "cbdfdbd0",
   "metadata": {},
   "outputs": [],
   "source": [
    "# On merge olympic_hosts avec olympic_medals pour obtenir les résultats des JO de Paris en 1924\n",
    "jo_paris_1924 = pd.merge(olympic_hosts, olympic_medals, on='game_slug')"
   ]
  },
  {
   "cell_type": "code",
   "execution_count": 27,
   "id": "7b459ede",
   "metadata": {},
   "outputs": [
    {
     "data": {
      "text/plain": [
       "array(['Men', 'Women', 'Mixed', 'Open'], dtype=object)"
      ]
     },
     "execution_count": 27,
     "metadata": {},
     "output_type": "execute_result"
    }
   ],
   "source": [
    "# Maintenant on regarde les valeurs unique de 'event_title' en fonction de 'game_year' (1924)\n",
    "jo_paris_1924[jo_paris_1924['game_year'] == 1924]['event_gender'].unique()"
   ]
  },
  {
   "cell_type": "markdown",
   "id": "02941aa0",
   "metadata": {},
   "source": [
    "La réponse est donc oui, les femmes sont dans la liste des gender avec la mention 'women'"
   ]
  },
  {
   "cell_type": "markdown",
   "id": "f3dfffc9",
   "metadata": {},
   "source": [
    "#### 5. Seuls 4 athlètes ont remporté des médailles à la fois aux JO d’hiver et d’été. Une seule d’entre eux, Christa Ludinger-Rothenburger, a remporté des médailles au cours de la même année ?"
   ]
  },
  {
   "cell_type": "code",
   "execution_count": 28,
   "id": "fb7c4a40",
   "metadata": {},
   "outputs": [
    {
     "data": {
      "text/html": [
       "<div>\n",
       "<style scoped>\n",
       "    .dataframe tbody tr th:only-of-type {\n",
       "        vertical-align: middle;\n",
       "    }\n",
       "\n",
       "    .dataframe tbody tr th {\n",
       "        vertical-align: top;\n",
       "    }\n",
       "\n",
       "    .dataframe thead th {\n",
       "        text-align: right;\n",
       "    }\n",
       "</style>\n",
       "<table border=\"1\" class=\"dataframe\">\n",
       "  <thead>\n",
       "    <tr style=\"text-align: right;\">\n",
       "      <th></th>\n",
       "      <th>id</th>\n",
       "      <th>discipline_title</th>\n",
       "      <th>game_slug</th>\n",
       "      <th>event_title</th>\n",
       "      <th>event_gender</th>\n",
       "      <th>medal_type</th>\n",
       "      <th>participant_type</th>\n",
       "      <th>participant_title</th>\n",
       "      <th>athlete_url</th>\n",
       "      <th>athlete_full_name</th>\n",
       "      <th>country_name</th>\n",
       "      <th>country_code</th>\n",
       "      <th>country_3_letter_code</th>\n",
       "    </tr>\n",
       "  </thead>\n",
       "  <tbody>\n",
       "    <tr>\n",
       "      <th>0</th>\n",
       "      <td>21698</td>\n",
       "      <td>Curling</td>\n",
       "      <td>beijing-2022</td>\n",
       "      <td>Mixed Doubles</td>\n",
       "      <td>Mixed</td>\n",
       "      <td>GOLD</td>\n",
       "      <td>GameTeam</td>\n",
       "      <td>Italy</td>\n",
       "      <td>https://olympics.com/en/athletes/stefania-cons...</td>\n",
       "      <td>Stefania CONSTANTINI</td>\n",
       "      <td>Italy</td>\n",
       "      <td>IT</td>\n",
       "      <td>ITA</td>\n",
       "    </tr>\n",
       "    <tr>\n",
       "      <th>1</th>\n",
       "      <td>21699</td>\n",
       "      <td>Curling</td>\n",
       "      <td>beijing-2022</td>\n",
       "      <td>Mixed Doubles</td>\n",
       "      <td>Mixed</td>\n",
       "      <td>GOLD</td>\n",
       "      <td>GameTeam</td>\n",
       "      <td>Italy</td>\n",
       "      <td>https://olympics.com/en/athletes/amos-mosaner</td>\n",
       "      <td>Amos MOSANER</td>\n",
       "      <td>Italy</td>\n",
       "      <td>IT</td>\n",
       "      <td>ITA</td>\n",
       "    </tr>\n",
       "    <tr>\n",
       "      <th>2</th>\n",
       "      <td>21700</td>\n",
       "      <td>Curling</td>\n",
       "      <td>beijing-2022</td>\n",
       "      <td>Mixed Doubles</td>\n",
       "      <td>Mixed</td>\n",
       "      <td>SILVER</td>\n",
       "      <td>GameTeam</td>\n",
       "      <td>Norway</td>\n",
       "      <td>https://olympics.com/en/athletes/kristin-skaslien</td>\n",
       "      <td>Kristin SKASLIEN</td>\n",
       "      <td>Norway</td>\n",
       "      <td>NO</td>\n",
       "      <td>NOR</td>\n",
       "    </tr>\n",
       "    <tr>\n",
       "      <th>3</th>\n",
       "      <td>21701</td>\n",
       "      <td>Curling</td>\n",
       "      <td>beijing-2022</td>\n",
       "      <td>Mixed Doubles</td>\n",
       "      <td>Mixed</td>\n",
       "      <td>SILVER</td>\n",
       "      <td>GameTeam</td>\n",
       "      <td>Norway</td>\n",
       "      <td>https://olympics.com/en/athletes/magnus-nedreg...</td>\n",
       "      <td>Magnus NEDREGOTTEN</td>\n",
       "      <td>Norway</td>\n",
       "      <td>NO</td>\n",
       "      <td>NOR</td>\n",
       "    </tr>\n",
       "    <tr>\n",
       "      <th>4</th>\n",
       "      <td>21702</td>\n",
       "      <td>Curling</td>\n",
       "      <td>beijing-2022</td>\n",
       "      <td>Mixed Doubles</td>\n",
       "      <td>Mixed</td>\n",
       "      <td>BRONZE</td>\n",
       "      <td>GameTeam</td>\n",
       "      <td>Sweden</td>\n",
       "      <td>https://olympics.com/en/athletes/almida-de-val</td>\n",
       "      <td>Almida DE VAL</td>\n",
       "      <td>Sweden</td>\n",
       "      <td>SE</td>\n",
       "      <td>SWE</td>\n",
       "    </tr>\n",
       "  </tbody>\n",
       "</table>\n",
       "</div>"
      ],
      "text/plain": [
       "      id discipline_title     game_slug    event_title event_gender  \\\n",
       "0  21698          Curling  beijing-2022  Mixed Doubles        Mixed   \n",
       "1  21699          Curling  beijing-2022  Mixed Doubles        Mixed   \n",
       "2  21700          Curling  beijing-2022  Mixed Doubles        Mixed   \n",
       "3  21701          Curling  beijing-2022  Mixed Doubles        Mixed   \n",
       "4  21702          Curling  beijing-2022  Mixed Doubles        Mixed   \n",
       "\n",
       "  medal_type participant_type participant_title  \\\n",
       "0       GOLD         GameTeam             Italy   \n",
       "1       GOLD         GameTeam             Italy   \n",
       "2     SILVER         GameTeam            Norway   \n",
       "3     SILVER         GameTeam            Norway   \n",
       "4     BRONZE         GameTeam            Sweden   \n",
       "\n",
       "                                         athlete_url     athlete_full_name  \\\n",
       "0  https://olympics.com/en/athletes/stefania-cons...  Stefania CONSTANTINI   \n",
       "1      https://olympics.com/en/athletes/amos-mosaner          Amos MOSANER   \n",
       "2  https://olympics.com/en/athletes/kristin-skaslien      Kristin SKASLIEN   \n",
       "3  https://olympics.com/en/athletes/magnus-nedreg...    Magnus NEDREGOTTEN   \n",
       "4     https://olympics.com/en/athletes/almida-de-val         Almida DE VAL   \n",
       "\n",
       "  country_name country_code country_3_letter_code  \n",
       "0        Italy           IT                   ITA  \n",
       "1        Italy           IT                   ITA  \n",
       "2       Norway           NO                   NOR  \n",
       "3       Norway           NO                   NOR  \n",
       "4       Sweden           SE                   SWE  "
      ]
     },
     "execution_count": 28,
     "metadata": {},
     "output_type": "execute_result"
    }
   ],
   "source": [
    "olympic_medals.head()"
   ]
  },
  {
   "cell_type": "code",
   "execution_count": 29,
   "id": "3bd2915e",
   "metadata": {},
   "outputs": [
    {
     "data": {
      "text/html": [
       "<div>\n",
       "<style scoped>\n",
       "    .dataframe tbody tr th:only-of-type {\n",
       "        vertical-align: middle;\n",
       "    }\n",
       "\n",
       "    .dataframe tbody tr th {\n",
       "        vertical-align: top;\n",
       "    }\n",
       "\n",
       "    .dataframe thead th {\n",
       "        text-align: right;\n",
       "    }\n",
       "</style>\n",
       "<table border=\"1\" class=\"dataframe\">\n",
       "  <thead>\n",
       "    <tr style=\"text-align: right;\">\n",
       "      <th></th>\n",
       "      <th>id</th>\n",
       "      <th>discipline_title</th>\n",
       "      <th>game_slug</th>\n",
       "      <th>event_title</th>\n",
       "      <th>event_gender</th>\n",
       "      <th>medal_type</th>\n",
       "      <th>participant_type</th>\n",
       "      <th>participant_title</th>\n",
       "      <th>athlete_url</th>\n",
       "      <th>athlete_full_name</th>\n",
       "      <th>country_name</th>\n",
       "      <th>country_code</th>\n",
       "      <th>country_3_letter_code</th>\n",
       "    </tr>\n",
       "  </thead>\n",
       "  <tbody>\n",
       "    <tr>\n",
       "      <th>10448</th>\n",
       "      <td>32146</td>\n",
       "      <td>Speed skating</td>\n",
       "      <td>albertville-1992</td>\n",
       "      <td>500m women</td>\n",
       "      <td>Women</td>\n",
       "      <td>BRONZE</td>\n",
       "      <td>Athlete</td>\n",
       "      <td>Germany</td>\n",
       "      <td>https://olympics.com/en/athletes/christa-luding</td>\n",
       "      <td>Christa LUDING-ROTHENBURGER</td>\n",
       "      <td>Germany</td>\n",
       "      <td>DE</td>\n",
       "      <td>GER</td>\n",
       "    </tr>\n",
       "    <tr>\n",
       "      <th>10930</th>\n",
       "      <td>32628</td>\n",
       "      <td>Cycling Track</td>\n",
       "      <td>seoul-1988</td>\n",
       "      <td>sprint women</td>\n",
       "      <td>Women</td>\n",
       "      <td>SILVER</td>\n",
       "      <td>Athlete</td>\n",
       "      <td>German Democratic Republic (Germany)</td>\n",
       "      <td>https://olympics.com/en/athletes/christa-luding</td>\n",
       "      <td>Christa LUDING-ROTHENBURGER</td>\n",
       "      <td>German Democratic Republic (Germany)</td>\n",
       "      <td>DDDE</td>\n",
       "      <td>GDR</td>\n",
       "    </tr>\n",
       "    <tr>\n",
       "      <th>11445</th>\n",
       "      <td>33143</td>\n",
       "      <td>Speed skating</td>\n",
       "      <td>calgary-1988</td>\n",
       "      <td>500m women</td>\n",
       "      <td>Women</td>\n",
       "      <td>SILVER</td>\n",
       "      <td>Athlete</td>\n",
       "      <td>German Democratic Republic (Germany)</td>\n",
       "      <td>https://olympics.com/en/athletes/christa-luding</td>\n",
       "      <td>Christa LUDING-ROTHENBURGER</td>\n",
       "      <td>German Democratic Republic (Germany)</td>\n",
       "      <td>DDDE</td>\n",
       "      <td>GDR</td>\n",
       "    </tr>\n",
       "    <tr>\n",
       "      <th>11450</th>\n",
       "      <td>33148</td>\n",
       "      <td>Speed skating</td>\n",
       "      <td>calgary-1988</td>\n",
       "      <td>1000m women</td>\n",
       "      <td>Women</td>\n",
       "      <td>GOLD</td>\n",
       "      <td>Athlete</td>\n",
       "      <td>German Democratic Republic (Germany)</td>\n",
       "      <td>https://olympics.com/en/athletes/christa-luding</td>\n",
       "      <td>Christa LUDING-ROTHENBURGER</td>\n",
       "      <td>German Democratic Republic (Germany)</td>\n",
       "      <td>DDDE</td>\n",
       "      <td>GDR</td>\n",
       "    </tr>\n",
       "    <tr>\n",
       "      <th>12306</th>\n",
       "      <td>34004</td>\n",
       "      <td>Speed skating</td>\n",
       "      <td>sarajevo-1984</td>\n",
       "      <td>500m women</td>\n",
       "      <td>Women</td>\n",
       "      <td>GOLD</td>\n",
       "      <td>Athlete</td>\n",
       "      <td>German Democratic Republic (Germany)</td>\n",
       "      <td>https://olympics.com/en/athletes/christa-luding</td>\n",
       "      <td>Christa LUDING-ROTHENBURGER</td>\n",
       "      <td>German Democratic Republic (Germany)</td>\n",
       "      <td>DDDE</td>\n",
       "      <td>GDR</td>\n",
       "    </tr>\n",
       "  </tbody>\n",
       "</table>\n",
       "</div>"
      ],
      "text/plain": [
       "          id discipline_title         game_slug   event_title event_gender  \\\n",
       "10448  32146    Speed skating  albertville-1992    500m women        Women   \n",
       "10930  32628    Cycling Track        seoul-1988  sprint women        Women   \n",
       "11445  33143    Speed skating      calgary-1988    500m women        Women   \n",
       "11450  33148    Speed skating      calgary-1988   1000m women        Women   \n",
       "12306  34004    Speed skating     sarajevo-1984    500m women        Women   \n",
       "\n",
       "      medal_type participant_type                     participant_title  \\\n",
       "10448     BRONZE          Athlete                               Germany   \n",
       "10930     SILVER          Athlete  German Democratic Republic (Germany)   \n",
       "11445     SILVER          Athlete  German Democratic Republic (Germany)   \n",
       "11450       GOLD          Athlete  German Democratic Republic (Germany)   \n",
       "12306       GOLD          Athlete  German Democratic Republic (Germany)   \n",
       "\n",
       "                                           athlete_url  \\\n",
       "10448  https://olympics.com/en/athletes/christa-luding   \n",
       "10930  https://olympics.com/en/athletes/christa-luding   \n",
       "11445  https://olympics.com/en/athletes/christa-luding   \n",
       "11450  https://olympics.com/en/athletes/christa-luding   \n",
       "12306  https://olympics.com/en/athletes/christa-luding   \n",
       "\n",
       "                 athlete_full_name                          country_name  \\\n",
       "10448  Christa LUDING-ROTHENBURGER                               Germany   \n",
       "10930  Christa LUDING-ROTHENBURGER  German Democratic Republic (Germany)   \n",
       "11445  Christa LUDING-ROTHENBURGER  German Democratic Republic (Germany)   \n",
       "11450  Christa LUDING-ROTHENBURGER  German Democratic Republic (Germany)   \n",
       "12306  Christa LUDING-ROTHENBURGER  German Democratic Republic (Germany)   \n",
       "\n",
       "      country_code country_3_letter_code  \n",
       "10448           DE                   GER  \n",
       "10930         DDDE                   GDR  \n",
       "11445         DDDE                   GDR  \n",
       "11450         DDDE                   GDR  \n",
       "12306         DDDE                   GDR  "
      ]
     },
     "execution_count": 29,
     "metadata": {},
     "output_type": "execute_result"
    }
   ],
   "source": [
    "# Seuls 4 athlètes ont remporté des médailles à la fois aux JO d’hiver et d’été. Une seule d’entre eux, Christa Ludinger-Rothenburger, a remporté des médailles au cours de la même année ?\n",
    "\n",
    "# On vérifie dans le DF des médailles si Christa Ludinger-Rothenburger a remporté des médailles aux JO (attention au case sensitive)\n",
    "olympic_medals[olympic_medals['athlete_full_name'] == 'Christa LUDING-ROTHENBURGER']"
   ]
  },
  {
   "cell_type": "code",
   "execution_count": 30,
   "id": "97cd5b19",
   "metadata": {},
   "outputs": [],
   "source": [
    "# On merge olympic_hosts avec olympic_medals pour obtenir les saisons des JO où Christa Ludinger-Rothenburger a remporté des médailles\n",
    "jo_christa = pd.merge(olympic_hosts, olympic_medals, on='game_slug')"
   ]
  },
  {
   "cell_type": "code",
   "execution_count": 31,
   "id": "098515f6",
   "metadata": {},
   "outputs": [
    {
     "data": {
      "text/html": [
       "<div>\n",
       "<style scoped>\n",
       "    .dataframe tbody tr th:only-of-type {\n",
       "        vertical-align: middle;\n",
       "    }\n",
       "\n",
       "    .dataframe tbody tr th {\n",
       "        vertical-align: top;\n",
       "    }\n",
       "\n",
       "    .dataframe thead th {\n",
       "        text-align: right;\n",
       "    }\n",
       "</style>\n",
       "<table border=\"1\" class=\"dataframe\">\n",
       "  <thead>\n",
       "    <tr style=\"text-align: right;\">\n",
       "      <th></th>\n",
       "      <th>id_x</th>\n",
       "      <th>game_slug</th>\n",
       "      <th>game_end_date</th>\n",
       "      <th>game_start_date</th>\n",
       "      <th>game_location</th>\n",
       "      <th>game_name</th>\n",
       "      <th>game_season</th>\n",
       "      <th>game_year</th>\n",
       "      <th>id_y</th>\n",
       "      <th>discipline_title</th>\n",
       "      <th>event_title</th>\n",
       "      <th>event_gender</th>\n",
       "      <th>medal_type</th>\n",
       "      <th>participant_type</th>\n",
       "      <th>participant_title</th>\n",
       "      <th>athlete_url</th>\n",
       "      <th>athlete_full_name</th>\n",
       "      <th>country_name</th>\n",
       "      <th>country_code</th>\n",
       "      <th>country_3_letter_code</th>\n",
       "    </tr>\n",
       "  </thead>\n",
       "  <tbody>\n",
       "    <tr>\n",
       "      <th>8534</th>\n",
       "      <td>91</td>\n",
       "      <td>seoul-1988</td>\n",
       "      <td>1988-10-02 10:00:00</td>\n",
       "      <td>1988-09-16 22:00:00</td>\n",
       "      <td>Republic of Korea</td>\n",
       "      <td>Seoul 1988</td>\n",
       "      <td>Summer</td>\n",
       "      <td>1988</td>\n",
       "      <td>32628</td>\n",
       "      <td>Cycling Track</td>\n",
       "      <td>sprint women</td>\n",
       "      <td>Women</td>\n",
       "      <td>SILVER</td>\n",
       "      <td>Athlete</td>\n",
       "      <td>German Democratic Republic (Germany)</td>\n",
       "      <td>https://olympics.com/en/athletes/christa-luding</td>\n",
       "      <td>Christa LUDING-ROTHENBURGER</td>\n",
       "      <td>German Democratic Republic (Germany)</td>\n",
       "      <td>DDDE</td>\n",
       "      <td>GDR</td>\n",
       "    </tr>\n",
       "  </tbody>\n",
       "</table>\n",
       "</div>"
      ],
      "text/plain": [
       "      id_x   game_slug       game_end_date     game_start_date  \\\n",
       "8534    91  seoul-1988 1988-10-02 10:00:00 1988-09-16 22:00:00   \n",
       "\n",
       "          game_location   game_name game_season  game_year   id_y  \\\n",
       "8534  Republic of Korea  Seoul 1988      Summer       1988  32628   \n",
       "\n",
       "     discipline_title   event_title event_gender medal_type participant_type  \\\n",
       "8534    Cycling Track  sprint women        Women     SILVER          Athlete   \n",
       "\n",
       "                         participant_title  \\\n",
       "8534  German Democratic Republic (Germany)   \n",
       "\n",
       "                                          athlete_url  \\\n",
       "8534  https://olympics.com/en/athletes/christa-luding   \n",
       "\n",
       "                athlete_full_name                          country_name  \\\n",
       "8534  Christa LUDING-ROTHENBURGER  German Democratic Republic (Germany)   \n",
       "\n",
       "     country_code country_3_letter_code  \n",
       "8534         DDDE                   GDR  "
      ]
     },
     "execution_count": 31,
     "metadata": {},
     "output_type": "execute_result"
    }
   ],
   "source": [
    "jo_christa[jo_christa['athlete_full_name'] == 'Christa LUDING-ROTHENBURGER']"
   ]
  },
  {
   "cell_type": "markdown",
   "id": "8ca98675",
   "metadata": {},
   "source": [
    "La réponse est oui, Crista LUDING-ROTHENBURGER à remporter en 1988 : 1 médaille en été et 2 médaille en hiver"
   ]
  },
  {
   "cell_type": "markdown",
   "id": "a69277b4",
   "metadata": {},
   "source": [
    "#### 6. De 1924 à 1992, les JO d’hiver et d’été avaient lieu au cours de la même année. Désormais, ils sont organisés selon des cycles distincts avec une alternance de 2 ans ?"
   ]
  },
  {
   "cell_type": "code",
   "execution_count": 32,
   "id": "1fa26389",
   "metadata": {},
   "outputs": [
    {
     "data": {
      "text/plain": [
       "game_year\n",
       "1924    1\n",
       "1928    1\n",
       "1932    1\n",
       "1936    1\n",
       "1948    1\n",
       "1952    1\n",
       "1956    1\n",
       "1960    1\n",
       "1964    1\n",
       "1968    1\n",
       "1972    1\n",
       "1976    1\n",
       "1980    1\n",
       "1984    1\n",
       "1988    1\n",
       "1992    1\n",
       "dtype: int64"
      ]
     },
     "execution_count": 32,
     "metadata": {},
     "output_type": "execute_result"
    }
   ],
   "source": [
    "# On vérifie si les JO d'hiver et d'été ont eu lieu la même année entre 1924 et 1992\n",
    "olympic_hosts[(olympic_hosts['game_year'] >= 1924) & (olympic_hosts['game_year'] <= 1992)].groupby('game_year').size()"
   ]
  },
  {
   "cell_type": "code",
   "execution_count": 33,
   "id": "7d8c4664",
   "metadata": {},
   "outputs": [
    {
     "data": {
      "text/plain": [
       "game_year\n",
       "1996    1\n",
       "2000    1\n",
       "2004    1\n",
       "2008    1\n",
       "2012    1\n",
       "2016    1\n",
       "2020    1\n",
       "dtype: int64"
      ]
     },
     "execution_count": 33,
     "metadata": {},
     "output_type": "execute_result"
    }
   ],
   "source": [
    "# On vérifie si les JO d'hiver et d'été ont eu lieu la même année après 1992\n",
    "olympic_hosts[olympic_hosts['game_year'] > 1992].groupby('game_year').size()"
   ]
  },
  {
   "cell_type": "markdown",
   "id": "9a621bc1",
   "metadata": {},
   "source": [
    "La réponse est oui, on peut voir que de 1924 à 1992 les JO d'hiver et d'été se passe en même temps, puis après il y un seul JO par année"
   ]
  },
  {
   "cell_type": "markdown",
   "id": "87c088db",
   "metadata": {},
   "source": [
    "#### 7. Tarzan lui-même a participé aux JO. En effet, Johnny Weissmuller, ancien athlète devenu acteur et ayant interprété 12 films de Tarzan, a remporté 5 médailles d’or en natation dans les années 1920 ?"
   ]
  },
  {
   "cell_type": "code",
   "execution_count": 34,
   "id": "10537b42",
   "metadata": {},
   "outputs": [
    {
     "data": {
      "text/html": [
       "<div>\n",
       "<style scoped>\n",
       "    .dataframe tbody tr th:only-of-type {\n",
       "        vertical-align: middle;\n",
       "    }\n",
       "\n",
       "    .dataframe tbody tr th {\n",
       "        vertical-align: top;\n",
       "    }\n",
       "\n",
       "    .dataframe thead th {\n",
       "        text-align: right;\n",
       "    }\n",
       "</style>\n",
       "<table border=\"1\" class=\"dataframe\">\n",
       "  <thead>\n",
       "    <tr style=\"text-align: right;\">\n",
       "      <th></th>\n",
       "      <th>id</th>\n",
       "      <th>discipline_title</th>\n",
       "      <th>game_slug</th>\n",
       "      <th>event_title</th>\n",
       "      <th>event_gender</th>\n",
       "      <th>medal_type</th>\n",
       "      <th>participant_type</th>\n",
       "      <th>participant_title</th>\n",
       "      <th>athlete_url</th>\n",
       "      <th>athlete_full_name</th>\n",
       "      <th>country_name</th>\n",
       "      <th>country_code</th>\n",
       "      <th>country_3_letter_code</th>\n",
       "    </tr>\n",
       "  </thead>\n",
       "  <tbody>\n",
       "    <tr>\n",
       "      <th>19156</th>\n",
       "      <td>40854</td>\n",
       "      <td>Swimming</td>\n",
       "      <td>amsterdam-1928</td>\n",
       "      <td>100m freestyle men</td>\n",
       "      <td>Men</td>\n",
       "      <td>GOLD</td>\n",
       "      <td>Athlete</td>\n",
       "      <td>United States of America</td>\n",
       "      <td>https://olympics.com/en/athletes/johnny-weissm...</td>\n",
       "      <td>Johnny WEISSMULLER</td>\n",
       "      <td>United States of America</td>\n",
       "      <td>US</td>\n",
       "      <td>USA</td>\n",
       "    </tr>\n",
       "    <tr>\n",
       "      <th>19593</th>\n",
       "      <td>41291</td>\n",
       "      <td>Swimming</td>\n",
       "      <td>paris-1924</td>\n",
       "      <td>400m freestyle men</td>\n",
       "      <td>Men</td>\n",
       "      <td>GOLD</td>\n",
       "      <td>Athlete</td>\n",
       "      <td>United States of America</td>\n",
       "      <td>https://olympics.com/en/athletes/johnny-weissm...</td>\n",
       "      <td>Johnny WEISSMULLER</td>\n",
       "      <td>United States of America</td>\n",
       "      <td>US</td>\n",
       "      <td>USA</td>\n",
       "    </tr>\n",
       "    <tr>\n",
       "      <th>19605</th>\n",
       "      <td>41303</td>\n",
       "      <td>Swimming</td>\n",
       "      <td>paris-1924</td>\n",
       "      <td>100m freestyle men</td>\n",
       "      <td>Men</td>\n",
       "      <td>GOLD</td>\n",
       "      <td>Athlete</td>\n",
       "      <td>United States of America</td>\n",
       "      <td>https://olympics.com/en/athletes/johnny-weissm...</td>\n",
       "      <td>Johnny WEISSMULLER</td>\n",
       "      <td>United States of America</td>\n",
       "      <td>US</td>\n",
       "      <td>USA</td>\n",
       "    </tr>\n",
       "  </tbody>\n",
       "</table>\n",
       "</div>"
      ],
      "text/plain": [
       "          id discipline_title       game_slug         event_title  \\\n",
       "19156  40854         Swimming  amsterdam-1928  100m freestyle men   \n",
       "19593  41291         Swimming      paris-1924  400m freestyle men   \n",
       "19605  41303         Swimming      paris-1924  100m freestyle men   \n",
       "\n",
       "      event_gender medal_type participant_type         participant_title  \\\n",
       "19156          Men       GOLD          Athlete  United States of America   \n",
       "19593          Men       GOLD          Athlete  United States of America   \n",
       "19605          Men       GOLD          Athlete  United States of America   \n",
       "\n",
       "                                             athlete_url   athlete_full_name  \\\n",
       "19156  https://olympics.com/en/athletes/johnny-weissm...  Johnny WEISSMULLER   \n",
       "19593  https://olympics.com/en/athletes/johnny-weissm...  Johnny WEISSMULLER   \n",
       "19605  https://olympics.com/en/athletes/johnny-weissm...  Johnny WEISSMULLER   \n",
       "\n",
       "                   country_name country_code country_3_letter_code  \n",
       "19156  United States of America           US                   USA  \n",
       "19593  United States of America           US                   USA  \n",
       "19605  United States of America           US                   USA  "
      ]
     },
     "execution_count": 34,
     "metadata": {},
     "output_type": "execute_result"
    }
   ],
   "source": [
    "# On vérifie dans le DF des médailles si Johnny Weissmuller a remporté des médailles aux JO\n",
    "olympic_medals[olympic_medals['athlete_full_name'] == 'Johnny WEISSMULLER']"
   ]
  },
  {
   "cell_type": "code",
   "execution_count": 35,
   "id": "00390b52",
   "metadata": {},
   "outputs": [
    {
     "data": {
      "text/html": [
       "<div>\n",
       "<style scoped>\n",
       "    .dataframe tbody tr th:only-of-type {\n",
       "        vertical-align: middle;\n",
       "    }\n",
       "\n",
       "    .dataframe tbody tr th {\n",
       "        vertical-align: top;\n",
       "    }\n",
       "\n",
       "    .dataframe thead th {\n",
       "        text-align: right;\n",
       "    }\n",
       "</style>\n",
       "<table border=\"1\" class=\"dataframe\">\n",
       "  <thead>\n",
       "    <tr style=\"text-align: right;\">\n",
       "      <th></th>\n",
       "      <th>discipline_title</th>\n",
       "      <th>event_title</th>\n",
       "      <th>game_slug</th>\n",
       "      <th>participant_type</th>\n",
       "      <th>medal_type</th>\n",
       "      <th>athletes</th>\n",
       "      <th>rank_equal</th>\n",
       "      <th>rank_position</th>\n",
       "      <th>country_name</th>\n",
       "      <th>country_code</th>\n",
       "      <th>country_3_letter_code</th>\n",
       "      <th>athlete_url</th>\n",
       "      <th>athlete_full_name</th>\n",
       "      <th>value_unit</th>\n",
       "      <th>value_type</th>\n",
       "    </tr>\n",
       "  </thead>\n",
       "  <tbody>\n",
       "  </tbody>\n",
       "</table>\n",
       "</div>"
      ],
      "text/plain": [
       "Empty DataFrame\n",
       "Columns: [discipline_title, event_title, game_slug, participant_type, medal_type, athletes, rank_equal, rank_position, country_name, country_code, country_3_letter_code, athlete_url, athlete_full_name, value_unit, value_type]\n",
       "Index: []"
      ]
     },
     "execution_count": 35,
     "metadata": {},
     "output_type": "execute_result"
    }
   ],
   "source": [
    "#  On vérifie également dans le DF résultats si Johnny Weissmuller a remporté des médailles aux JO\n",
    "olympic_results[olympic_results['athlete_full_name'] == 'Johnny WEISSMULLER']"
   ]
  },
  {
   "cell_type": "markdown",
   "id": "021359a3",
   "metadata": {},
   "source": [
    "La réponse est non, Johnny WEISSMULLER a bien gagner des médailles aux JO mais seulement 3 (pas 5)"
   ]
  },
  {
   "cell_type": "markdown",
   "id": "7e71feff",
   "metadata": {},
   "source": [
    "#### 8. Les JO de Londres de 2012 ont été les 1ers JO durant lesquels tous les pays participants ont envoyé des athlètes de sexe féminin ?"
   ]
  },
  {
   "cell_type": "code",
   "execution_count": 36,
   "id": "01d423e9",
   "metadata": {},
   "outputs": [
    {
     "data": {
      "text/html": [
       "<div>\n",
       "<style scoped>\n",
       "    .dataframe tbody tr th:only-of-type {\n",
       "        vertical-align: middle;\n",
       "    }\n",
       "\n",
       "    .dataframe tbody tr th {\n",
       "        vertical-align: top;\n",
       "    }\n",
       "\n",
       "    .dataframe thead th {\n",
       "        text-align: right;\n",
       "    }\n",
       "</style>\n",
       "<table border=\"1\" class=\"dataframe\">\n",
       "  <thead>\n",
       "    <tr style=\"text-align: right;\">\n",
       "      <th></th>\n",
       "      <th>discipline_title</th>\n",
       "      <th>event_title</th>\n",
       "      <th>game_slug</th>\n",
       "      <th>participant_type</th>\n",
       "      <th>medal_type</th>\n",
       "      <th>athletes</th>\n",
       "      <th>rank_equal</th>\n",
       "      <th>rank_position</th>\n",
       "      <th>country_name</th>\n",
       "      <th>country_code</th>\n",
       "      <th>country_3_letter_code</th>\n",
       "      <th>athlete_url</th>\n",
       "      <th>athlete_full_name</th>\n",
       "      <th>value_unit</th>\n",
       "      <th>value_type</th>\n",
       "    </tr>\n",
       "  </thead>\n",
       "  <tbody>\n",
       "    <tr>\n",
       "      <th>0</th>\n",
       "      <td>Curling</td>\n",
       "      <td>Mixed Doubles</td>\n",
       "      <td>beijing-2022</td>\n",
       "      <td>GameTeam</td>\n",
       "      <td>GOLD</td>\n",
       "      <td>[('Stefania CONSTANTINI', 'https://olympics.co...</td>\n",
       "      <td>0</td>\n",
       "      <td>1</td>\n",
       "      <td>Italy</td>\n",
       "      <td>IT</td>\n",
       "      <td>ITA</td>\n",
       "      <td></td>\n",
       "      <td></td>\n",
       "      <td></td>\n",
       "      <td></td>\n",
       "    </tr>\n",
       "    <tr>\n",
       "      <th>1</th>\n",
       "      <td>Curling</td>\n",
       "      <td>Mixed Doubles</td>\n",
       "      <td>beijing-2022</td>\n",
       "      <td>GameTeam</td>\n",
       "      <td>SILVER</td>\n",
       "      <td>[('Kristin SKASLIEN', 'https://olympics.com/en...</td>\n",
       "      <td>0</td>\n",
       "      <td>2</td>\n",
       "      <td>Norway</td>\n",
       "      <td>NO</td>\n",
       "      <td>NOR</td>\n",
       "      <td></td>\n",
       "      <td></td>\n",
       "      <td></td>\n",
       "      <td></td>\n",
       "    </tr>\n",
       "    <tr>\n",
       "      <th>2</th>\n",
       "      <td>Curling</td>\n",
       "      <td>Mixed Doubles</td>\n",
       "      <td>beijing-2022</td>\n",
       "      <td>GameTeam</td>\n",
       "      <td>BRONZE</td>\n",
       "      <td>[('Almida DE VAL', 'https://olympics.com/en/at...</td>\n",
       "      <td>0</td>\n",
       "      <td>3</td>\n",
       "      <td>Sweden</td>\n",
       "      <td>SE</td>\n",
       "      <td>SWE</td>\n",
       "      <td></td>\n",
       "      <td></td>\n",
       "      <td></td>\n",
       "      <td></td>\n",
       "    </tr>\n",
       "    <tr>\n",
       "      <th>3</th>\n",
       "      <td>Curling</td>\n",
       "      <td>Mixed Doubles</td>\n",
       "      <td>beijing-2022</td>\n",
       "      <td>GameTeam</td>\n",
       "      <td>AUCUNE</td>\n",
       "      <td>[('Jennifer DODDS', 'https://olympics.com/en/a...</td>\n",
       "      <td>0</td>\n",
       "      <td>4</td>\n",
       "      <td>Great Britain</td>\n",
       "      <td>GB</td>\n",
       "      <td>GBR</td>\n",
       "      <td></td>\n",
       "      <td></td>\n",
       "      <td></td>\n",
       "      <td></td>\n",
       "    </tr>\n",
       "    <tr>\n",
       "      <th>4</th>\n",
       "      <td>Curling</td>\n",
       "      <td>Mixed Doubles</td>\n",
       "      <td>beijing-2022</td>\n",
       "      <td>GameTeam</td>\n",
       "      <td>AUCUNE</td>\n",
       "      <td>[('Rachel HOMAN', 'https://olympics.com/en/ath...</td>\n",
       "      <td>0</td>\n",
       "      <td>5</td>\n",
       "      <td>Canada</td>\n",
       "      <td>CA</td>\n",
       "      <td>CAN</td>\n",
       "      <td></td>\n",
       "      <td></td>\n",
       "      <td></td>\n",
       "      <td></td>\n",
       "    </tr>\n",
       "  </tbody>\n",
       "</table>\n",
       "</div>"
      ],
      "text/plain": [
       "  discipline_title    event_title     game_slug participant_type medal_type  \\\n",
       "0          Curling  Mixed Doubles  beijing-2022         GameTeam       GOLD   \n",
       "1          Curling  Mixed Doubles  beijing-2022         GameTeam     SILVER   \n",
       "2          Curling  Mixed Doubles  beijing-2022         GameTeam     BRONZE   \n",
       "3          Curling  Mixed Doubles  beijing-2022         GameTeam     AUCUNE   \n",
       "4          Curling  Mixed Doubles  beijing-2022         GameTeam     AUCUNE   \n",
       "\n",
       "                                            athletes  rank_equal  \\\n",
       "0  [('Stefania CONSTANTINI', 'https://olympics.co...           0   \n",
       "1  [('Kristin SKASLIEN', 'https://olympics.com/en...           0   \n",
       "2  [('Almida DE VAL', 'https://olympics.com/en/at...           0   \n",
       "3  [('Jennifer DODDS', 'https://olympics.com/en/a...           0   \n",
       "4  [('Rachel HOMAN', 'https://olympics.com/en/ath...           0   \n",
       "\n",
       "   rank_position   country_name country_code country_3_letter_code  \\\n",
       "0              1          Italy           IT                   ITA   \n",
       "1              2         Norway           NO                   NOR   \n",
       "2              3         Sweden           SE                   SWE   \n",
       "3              4  Great Britain           GB                   GBR   \n",
       "4              5         Canada           CA                   CAN   \n",
       "\n",
       "  athlete_url athlete_full_name value_unit value_type  \n",
       "0                                                      \n",
       "1                                                      \n",
       "2                                                      \n",
       "3                                                      \n",
       "4                                                      "
      ]
     },
     "execution_count": 36,
     "metadata": {},
     "output_type": "execute_result"
    }
   ],
   "source": [
    "olympic_results.head()"
   ]
  }
 ],
 "metadata": {
  "kernelspec": {
   "display_name": "Python 3 (ipykernel)",
   "language": "python",
   "name": "python3"
  },
  "language_info": {
   "codemirror_mode": {
    "name": "ipython",
    "version": 3
   },
   "file_extension": ".py",
   "mimetype": "text/x-python",
   "name": "python",
   "nbconvert_exporter": "python",
   "pygments_lexer": "ipython3",
   "version": "3.11.5"
  }
 },
 "nbformat": 4,
 "nbformat_minor": 5
}
