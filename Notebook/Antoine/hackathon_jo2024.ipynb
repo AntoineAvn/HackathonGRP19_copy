{
 "cells": [
  {
   "cell_type": "markdown",
   "id": "4ce28e7e",
   "metadata": {},
   "source": [
    "# Hackaton Prédiction - JO 2024"
   ]
  },
  {
   "cell_type": "code",
   "execution_count": 3,
   "id": "bb54e908",
   "metadata": {},
   "outputs": [],
   "source": [
    "import pandas as pd\n",
    "# import numpy as np\n",
    "# import matplotlib.pyplot as plt\n",
    "# import seaborn as sns"
   ]
  },
  {
   "cell_type": "markdown",
   "id": "e9f6478d",
   "metadata": {},
   "source": [
    "### ATHLETES - olympic_athletes.json"
   ]
  },
  {
   "cell_type": "code",
   "execution_count": 10,
   "id": "d0c8745f",
   "metadata": {},
   "outputs": [
    {
     "data": {
      "text/html": [
       "<div>\n",
       "<style scoped>\n",
       "    .dataframe tbody tr th:only-of-type {\n",
       "        vertical-align: middle;\n",
       "    }\n",
       "\n",
       "    .dataframe tbody tr th {\n",
       "        vertical-align: top;\n",
       "    }\n",
       "\n",
       "    .dataframe thead th {\n",
       "        text-align: right;\n",
       "    }\n",
       "</style>\n",
       "<table border=\"1\" class=\"dataframe\">\n",
       "  <thead>\n",
       "    <tr style=\"text-align: right;\">\n",
       "      <th></th>\n",
       "      <th>athlete_url</th>\n",
       "      <th>athlete_full_name</th>\n",
       "      <th>games_participations</th>\n",
       "      <th>first_game</th>\n",
       "      <th>athlete_year_birth</th>\n",
       "      <th>athlete_medals</th>\n",
       "      <th>bio</th>\n",
       "    </tr>\n",
       "  </thead>\n",
       "  <tbody>\n",
       "    <tr>\n",
       "      <th>0</th>\n",
       "      <td>https://olympics.com/en/athletes/cooper-woods-...</td>\n",
       "      <td>Cooper WOODS-TOPALOVIC</td>\n",
       "      <td>1</td>\n",
       "      <td>Beijing 2022</td>\n",
       "      <td>2000.0</td>\n",
       "      <td>None</td>\n",
       "      <td>None</td>\n",
       "    </tr>\n",
       "    <tr>\n",
       "      <th>1</th>\n",
       "      <td>https://olympics.com/en/athletes/elofsson</td>\n",
       "      <td>Felix ELOFSSON</td>\n",
       "      <td>2</td>\n",
       "      <td>PyeongChang 2018</td>\n",
       "      <td>1995.0</td>\n",
       "      <td>None</td>\n",
       "      <td>None</td>\n",
       "    </tr>\n",
       "    <tr>\n",
       "      <th>2</th>\n",
       "      <td>https://olympics.com/en/athletes/dylan-walczyk</td>\n",
       "      <td>Dylan WALCZYK</td>\n",
       "      <td>1</td>\n",
       "      <td>Beijing 2022</td>\n",
       "      <td>1993.0</td>\n",
       "      <td>None</td>\n",
       "      <td>None</td>\n",
       "    </tr>\n",
       "    <tr>\n",
       "      <th>3</th>\n",
       "      <td>https://olympics.com/en/athletes/olli-penttala</td>\n",
       "      <td>Olli PENTTALA</td>\n",
       "      <td>1</td>\n",
       "      <td>Beijing 2022</td>\n",
       "      <td>1995.0</td>\n",
       "      <td>None</td>\n",
       "      <td>None</td>\n",
       "    </tr>\n",
       "    <tr>\n",
       "      <th>4</th>\n",
       "      <td>https://olympics.com/en/athletes/reikherd</td>\n",
       "      <td>Dmitriy REIKHERD</td>\n",
       "      <td>1</td>\n",
       "      <td>Beijing 2022</td>\n",
       "      <td>1989.0</td>\n",
       "      <td>None</td>\n",
       "      <td>None</td>\n",
       "    </tr>\n",
       "  </tbody>\n",
       "</table>\n",
       "</div>"
      ],
      "text/plain": [
       "                                         athlete_url       athlete_full_name  \\\n",
       "0  https://olympics.com/en/athletes/cooper-woods-...  Cooper WOODS-TOPALOVIC   \n",
       "1          https://olympics.com/en/athletes/elofsson          Felix ELOFSSON   \n",
       "2     https://olympics.com/en/athletes/dylan-walczyk           Dylan WALCZYK   \n",
       "3     https://olympics.com/en/athletes/olli-penttala           Olli PENTTALA   \n",
       "4          https://olympics.com/en/athletes/reikherd        Dmitriy REIKHERD   \n",
       "\n",
       "   games_participations        first_game  athlete_year_birth athlete_medals  \\\n",
       "0                     1      Beijing 2022              2000.0           None   \n",
       "1                     2  PyeongChang 2018              1995.0           None   \n",
       "2                     1      Beijing 2022              1993.0           None   \n",
       "3                     1      Beijing 2022              1995.0           None   \n",
       "4                     1      Beijing 2022              1989.0           None   \n",
       "\n",
       "    bio  \n",
       "0  None  \n",
       "1  None  \n",
       "2  None  \n",
       "3  None  \n",
       "4  None  "
      ]
     },
     "execution_count": 10,
     "metadata": {},
     "output_type": "execute_result"
    }
   ],
   "source": [
    "# Chemin vers le fichier JSON\n",
    "json_file = './files/olympic_athletes.json'\n",
    "\n",
    "# Lire le fichier JSON\n",
    "df_json = pd.read_json(json_file)\n",
    "\n",
    "# Afficher les premières lignes du DataFrame\n",
    "df_json.head()"
   ]
  },
  {
   "cell_type": "code",
   "execution_count": 17,
   "id": "49b8a9c2",
   "metadata": {},
   "outputs": [
    {
     "name": "stdout",
     "output_type": "stream",
     "text": [
      "Il y a 75904 lignes et 7 colonnes\n"
     ]
    }
   ],
   "source": [
    "# Combien de lignes ? Combien de colonnes ?\n",
    "print('Il y a ' + str(df_json.shape[0]) + ' lignes et ' + str(df_json.shape[1]) + ' colonnes')"
   ]
  },
  {
   "cell_type": "code",
   "execution_count": 23,
   "id": "a13586c9",
   "metadata": {
    "scrolled": true
   },
   "outputs": [
    {
     "data": {
      "text/plain": [
       "athlete_url              object\n",
       "athlete_full_name        object\n",
       "games_participations      int64\n",
       "first_game               object\n",
       "athlete_year_birth      float64\n",
       "athlete_medals           object\n",
       "bio                      object\n",
       "dtype: object"
      ]
     },
     "execution_count": 23,
     "metadata": {},
     "output_type": "execute_result"
    }
   ],
   "source": [
    "# Afficher le type de données dans chaque colonne\n",
    "df_json.dtypes"
   ]
  },
  {
   "cell_type": "code",
   "execution_count": 27,
   "id": "db3e582c",
   "metadata": {},
   "outputs": [
    {
     "name": "stdout",
     "output_type": "stream",
     "text": [
      "Il y a 0 ligne(s) dupliquée(s)\n"
     ]
    }
   ],
   "source": [
    "# Y a-t'il des lignes dupliquée ? Si oui, les supprimer\n",
    "print('Il y a ' + str(df_json.duplicated().sum()) + ' ligne(s) dupliquée(s)')"
   ]
  },
  {
   "cell_type": "code",
   "execution_count": 31,
   "id": "fb8cbba1",
   "metadata": {},
   "outputs": [
    {
     "data": {
      "text/plain": [
       "athlete_url                 0\n",
       "athlete_full_name           0\n",
       "games_participations        0\n",
       "first_game                 22\n",
       "athlete_year_birth       2456\n",
       "athlete_medals          60552\n",
       "bio                     53062\n",
       "dtype: int64"
      ]
     },
     "execution_count": 31,
     "metadata": {},
     "output_type": "execute_result"
    }
   ],
   "source": [
    "# Afficher le nombre de données manquantes pour chaque colonne\n",
    "df_json.isnull().sum()"
   ]
  },
  {
   "cell_type": "markdown",
   "id": "81187b75",
   "metadata": {},
   "source": [
    "### Résultats - olympic_results.html"
   ]
  },
  {
   "cell_type": "code",
   "execution_count": 21,
   "id": "6128b946",
   "metadata": {},
   "outputs": [
    {
     "data": {
      "text/html": [
       "<div>\n",
       "<style scoped>\n",
       "    .dataframe tbody tr th:only-of-type {\n",
       "        vertical-align: middle;\n",
       "    }\n",
       "\n",
       "    .dataframe tbody tr th {\n",
       "        vertical-align: top;\n",
       "    }\n",
       "\n",
       "    .dataframe thead th {\n",
       "        text-align: right;\n",
       "    }\n",
       "</style>\n",
       "<table border=\"1\" class=\"dataframe\">\n",
       "  <thead>\n",
       "    <tr style=\"text-align: right;\">\n",
       "      <th></th>\n",
       "      <th>Unnamed: 0</th>\n",
       "      <th>discipline_title</th>\n",
       "      <th>event_title</th>\n",
       "      <th>slug_game</th>\n",
       "      <th>participant_type</th>\n",
       "      <th>medal_type</th>\n",
       "      <th>athletes</th>\n",
       "      <th>rank_equal</th>\n",
       "      <th>rank_position</th>\n",
       "      <th>country_name</th>\n",
       "      <th>country_code</th>\n",
       "      <th>country_3_letter_code</th>\n",
       "      <th>athlete_url</th>\n",
       "      <th>athlete_full_name</th>\n",
       "      <th>value_unit</th>\n",
       "      <th>value_type</th>\n",
       "    </tr>\n",
       "  </thead>\n",
       "  <tbody>\n",
       "    <tr>\n",
       "      <th>0</th>\n",
       "      <td>0</td>\n",
       "      <td>Curling</td>\n",
       "      <td>Mixed Doubles</td>\n",
       "      <td>beijing-2022</td>\n",
       "      <td>GameTeam</td>\n",
       "      <td>GOLD</td>\n",
       "      <td>[('Stefania CONSTANTINI', 'https://olympics.co...</td>\n",
       "      <td>False</td>\n",
       "      <td>1</td>\n",
       "      <td>Italy</td>\n",
       "      <td>IT</td>\n",
       "      <td>ITA</td>\n",
       "      <td>NaN</td>\n",
       "      <td>NaN</td>\n",
       "      <td>NaN</td>\n",
       "      <td>NaN</td>\n",
       "    </tr>\n",
       "    <tr>\n",
       "      <th>1</th>\n",
       "      <td>1</td>\n",
       "      <td>Curling</td>\n",
       "      <td>Mixed Doubles</td>\n",
       "      <td>beijing-2022</td>\n",
       "      <td>GameTeam</td>\n",
       "      <td>SILVER</td>\n",
       "      <td>[('Kristin SKASLIEN', 'https://olympics.com/en...</td>\n",
       "      <td>False</td>\n",
       "      <td>2</td>\n",
       "      <td>Norway</td>\n",
       "      <td>NO</td>\n",
       "      <td>NOR</td>\n",
       "      <td>NaN</td>\n",
       "      <td>NaN</td>\n",
       "      <td>NaN</td>\n",
       "      <td>NaN</td>\n",
       "    </tr>\n",
       "    <tr>\n",
       "      <th>2</th>\n",
       "      <td>2</td>\n",
       "      <td>Curling</td>\n",
       "      <td>Mixed Doubles</td>\n",
       "      <td>beijing-2022</td>\n",
       "      <td>GameTeam</td>\n",
       "      <td>BRONZE</td>\n",
       "      <td>[('Almida DE VAL', 'https://olympics.com/en/at...</td>\n",
       "      <td>False</td>\n",
       "      <td>3</td>\n",
       "      <td>Sweden</td>\n",
       "      <td>SE</td>\n",
       "      <td>SWE</td>\n",
       "      <td>NaN</td>\n",
       "      <td>NaN</td>\n",
       "      <td>NaN</td>\n",
       "      <td>NaN</td>\n",
       "    </tr>\n",
       "    <tr>\n",
       "      <th>3</th>\n",
       "      <td>3</td>\n",
       "      <td>Curling</td>\n",
       "      <td>Mixed Doubles</td>\n",
       "      <td>beijing-2022</td>\n",
       "      <td>GameTeam</td>\n",
       "      <td>NaN</td>\n",
       "      <td>[('Jennifer DODDS', 'https://olympics.com/en/a...</td>\n",
       "      <td>False</td>\n",
       "      <td>4</td>\n",
       "      <td>Great Britain</td>\n",
       "      <td>GB</td>\n",
       "      <td>GBR</td>\n",
       "      <td>NaN</td>\n",
       "      <td>NaN</td>\n",
       "      <td>NaN</td>\n",
       "      <td>NaN</td>\n",
       "    </tr>\n",
       "    <tr>\n",
       "      <th>4</th>\n",
       "      <td>4</td>\n",
       "      <td>Curling</td>\n",
       "      <td>Mixed Doubles</td>\n",
       "      <td>beijing-2022</td>\n",
       "      <td>GameTeam</td>\n",
       "      <td>NaN</td>\n",
       "      <td>[('Rachel HOMAN', 'https://olympics.com/en/ath...</td>\n",
       "      <td>False</td>\n",
       "      <td>5</td>\n",
       "      <td>Canada</td>\n",
       "      <td>CA</td>\n",
       "      <td>CAN</td>\n",
       "      <td>NaN</td>\n",
       "      <td>NaN</td>\n",
       "      <td>NaN</td>\n",
       "      <td>NaN</td>\n",
       "    </tr>\n",
       "  </tbody>\n",
       "</table>\n",
       "</div>"
      ],
      "text/plain": [
       "   Unnamed: 0 discipline_title    event_title     slug_game participant_type  \\\n",
       "0           0          Curling  Mixed Doubles  beijing-2022         GameTeam   \n",
       "1           1          Curling  Mixed Doubles  beijing-2022         GameTeam   \n",
       "2           2          Curling  Mixed Doubles  beijing-2022         GameTeam   \n",
       "3           3          Curling  Mixed Doubles  beijing-2022         GameTeam   \n",
       "4           4          Curling  Mixed Doubles  beijing-2022         GameTeam   \n",
       "\n",
       "  medal_type                                           athletes rank_equal  \\\n",
       "0       GOLD  [('Stefania CONSTANTINI', 'https://olympics.co...      False   \n",
       "1     SILVER  [('Kristin SKASLIEN', 'https://olympics.com/en...      False   \n",
       "2     BRONZE  [('Almida DE VAL', 'https://olympics.com/en/at...      False   \n",
       "3        NaN  [('Jennifer DODDS', 'https://olympics.com/en/a...      False   \n",
       "4        NaN  [('Rachel HOMAN', 'https://olympics.com/en/ath...      False   \n",
       "\n",
       "  rank_position   country_name country_code country_3_letter_code athlete_url  \\\n",
       "0             1          Italy           IT                   ITA         NaN   \n",
       "1             2         Norway           NO                   NOR         NaN   \n",
       "2             3         Sweden           SE                   SWE         NaN   \n",
       "3             4  Great Britain           GB                   GBR         NaN   \n",
       "4             5         Canada           CA                   CAN         NaN   \n",
       "\n",
       "  athlete_full_name value_unit value_type  \n",
       "0               NaN        NaN        NaN  \n",
       "1               NaN        NaN        NaN  \n",
       "2               NaN        NaN        NaN  \n",
       "3               NaN        NaN        NaN  \n",
       "4               NaN        NaN        NaN  "
      ]
     },
     "execution_count": 21,
     "metadata": {},
     "output_type": "execute_result"
    }
   ],
   "source": [
    "\n",
    "# Chemin vers le fichier HTML ou URL\n",
    "html_file = './files/olympic_results.html'\n",
    "\n",
    "# Lire les tables du fichier HTML\n",
    "dfs_html = pd.read_html(html_file)\n",
    "df_html = dfs_html[0]\n",
    "\n",
    "# Afficher la première table (si le fichier contient plusieurs tables)\n",
    "df_html.head()"
   ]
  },
  {
   "cell_type": "code",
   "execution_count": 22,
   "id": "447668fb",
   "metadata": {},
   "outputs": [
    {
     "name": "stdout",
     "output_type": "stream",
     "text": [
      "Il y a 162804 lignes et 16 colonnes\n"
     ]
    }
   ],
   "source": [
    "# Combien de lignes ? Combien de colonnes ?\n",
    "print('Il y a ' + str(df_html.shape[0]) + ' lignes et ' + str(df_html.shape[1]) + ' colonnes')"
   ]
  },
  {
   "cell_type": "code",
   "execution_count": 24,
   "id": "edabea30",
   "metadata": {
    "scrolled": true
   },
   "outputs": [
    {
     "data": {
      "text/plain": [
       "Unnamed: 0                int64\n",
       "discipline_title         object\n",
       "event_title              object\n",
       "slug_game                object\n",
       "participant_type         object\n",
       "medal_type               object\n",
       "athletes                 object\n",
       "rank_equal               object\n",
       "rank_position            object\n",
       "country_name             object\n",
       "country_code             object\n",
       "country_3_letter_code    object\n",
       "athlete_url              object\n",
       "athlete_full_name        object\n",
       "value_unit               object\n",
       "value_type               object\n",
       "dtype: object"
      ]
     },
     "execution_count": 24,
     "metadata": {},
     "output_type": "execute_result"
    }
   ],
   "source": [
    "# Afficher le type de données dans chaque colonne\n",
    "df_html.dtypes"
   ]
  },
  {
   "cell_type": "code",
   "execution_count": 28,
   "id": "66820e5c",
   "metadata": {},
   "outputs": [
    {
     "name": "stdout",
     "output_type": "stream",
     "text": [
      "Il y a 0 ligne(s) dupliquée(s)\n"
     ]
    }
   ],
   "source": [
    "# Y a-t'il des lignes dupliquée ? Si oui, les supprimer\n",
    "print('Il y a ' + str(df_html.duplicated().sum()) + ' ligne(s) dupliquée(s)')"
   ]
  },
  {
   "cell_type": "code",
   "execution_count": 32,
   "id": "d57d8f13",
   "metadata": {},
   "outputs": [
    {
     "data": {
      "text/plain": [
       "Unnamed: 0                    0\n",
       "discipline_title              0\n",
       "event_title                   0\n",
       "slug_game                     0\n",
       "participant_type              0\n",
       "medal_type               142598\n",
       "athletes                 154828\n",
       "rank_equal               130278\n",
       "rank_position              3878\n",
       "country_name                  0\n",
       "country_code               5036\n",
       "country_3_letter_code         0\n",
       "athlete_url               32813\n",
       "athlete_full_name         21158\n",
       "value_unit                84158\n",
       "value_type                72755\n",
       "dtype: int64"
      ]
     },
     "execution_count": 32,
     "metadata": {},
     "output_type": "execute_result"
    }
   ],
   "source": [
    "# Afficher le nombre de données manquantes pour chaque colonne\n",
    "df_html.isnull().sum()"
   ]
  },
  {
   "cell_type": "markdown",
   "id": "c40d5bd0",
   "metadata": {},
   "source": [
    "### Médailles - olympic_medals.xlsx"
   ]
  },
  {
   "cell_type": "code",
   "execution_count": 14,
   "id": "43f4f601",
   "metadata": {},
   "outputs": [
    {
     "data": {
      "text/html": [
       "<div>\n",
       "<style scoped>\n",
       "    .dataframe tbody tr th:only-of-type {\n",
       "        vertical-align: middle;\n",
       "    }\n",
       "\n",
       "    .dataframe tbody tr th {\n",
       "        vertical-align: top;\n",
       "    }\n",
       "\n",
       "    .dataframe thead th {\n",
       "        text-align: right;\n",
       "    }\n",
       "</style>\n",
       "<table border=\"1\" class=\"dataframe\">\n",
       "  <thead>\n",
       "    <tr style=\"text-align: right;\">\n",
       "      <th></th>\n",
       "      <th>Unnamed: 0</th>\n",
       "      <th>discipline_title</th>\n",
       "      <th>slug_game</th>\n",
       "      <th>event_title</th>\n",
       "      <th>event_gender</th>\n",
       "      <th>medal_type</th>\n",
       "      <th>participant_type</th>\n",
       "      <th>participant_title</th>\n",
       "      <th>athlete_url</th>\n",
       "      <th>athlete_full_name</th>\n",
       "      <th>country_name</th>\n",
       "      <th>country_code</th>\n",
       "      <th>country_3_letter_code</th>\n",
       "    </tr>\n",
       "  </thead>\n",
       "  <tbody>\n",
       "    <tr>\n",
       "      <th>0</th>\n",
       "      <td>0</td>\n",
       "      <td>Curling</td>\n",
       "      <td>beijing-2022</td>\n",
       "      <td>Mixed Doubles</td>\n",
       "      <td>Mixed</td>\n",
       "      <td>GOLD</td>\n",
       "      <td>GameTeam</td>\n",
       "      <td>Italy</td>\n",
       "      <td>https://olympics.com/en/athletes/stefania-cons...</td>\n",
       "      <td>Stefania CONSTANTINI</td>\n",
       "      <td>Italy</td>\n",
       "      <td>IT</td>\n",
       "      <td>ITA</td>\n",
       "    </tr>\n",
       "    <tr>\n",
       "      <th>1</th>\n",
       "      <td>1</td>\n",
       "      <td>Curling</td>\n",
       "      <td>beijing-2022</td>\n",
       "      <td>Mixed Doubles</td>\n",
       "      <td>Mixed</td>\n",
       "      <td>GOLD</td>\n",
       "      <td>GameTeam</td>\n",
       "      <td>Italy</td>\n",
       "      <td>https://olympics.com/en/athletes/amos-mosaner</td>\n",
       "      <td>Amos MOSANER</td>\n",
       "      <td>Italy</td>\n",
       "      <td>IT</td>\n",
       "      <td>ITA</td>\n",
       "    </tr>\n",
       "    <tr>\n",
       "      <th>2</th>\n",
       "      <td>2</td>\n",
       "      <td>Curling</td>\n",
       "      <td>beijing-2022</td>\n",
       "      <td>Mixed Doubles</td>\n",
       "      <td>Mixed</td>\n",
       "      <td>SILVER</td>\n",
       "      <td>GameTeam</td>\n",
       "      <td>Norway</td>\n",
       "      <td>https://olympics.com/en/athletes/kristin-skaslien</td>\n",
       "      <td>Kristin SKASLIEN</td>\n",
       "      <td>Norway</td>\n",
       "      <td>NO</td>\n",
       "      <td>NOR</td>\n",
       "    </tr>\n",
       "    <tr>\n",
       "      <th>3</th>\n",
       "      <td>3</td>\n",
       "      <td>Curling</td>\n",
       "      <td>beijing-2022</td>\n",
       "      <td>Mixed Doubles</td>\n",
       "      <td>Mixed</td>\n",
       "      <td>SILVER</td>\n",
       "      <td>GameTeam</td>\n",
       "      <td>Norway</td>\n",
       "      <td>https://olympics.com/en/athletes/magnus-nedreg...</td>\n",
       "      <td>Magnus NEDREGOTTEN</td>\n",
       "      <td>Norway</td>\n",
       "      <td>NO</td>\n",
       "      <td>NOR</td>\n",
       "    </tr>\n",
       "    <tr>\n",
       "      <th>4</th>\n",
       "      <td>4</td>\n",
       "      <td>Curling</td>\n",
       "      <td>beijing-2022</td>\n",
       "      <td>Mixed Doubles</td>\n",
       "      <td>Mixed</td>\n",
       "      <td>BRONZE</td>\n",
       "      <td>GameTeam</td>\n",
       "      <td>Sweden</td>\n",
       "      <td>https://olympics.com/en/athletes/almida-de-val</td>\n",
       "      <td>Almida DE VAL</td>\n",
       "      <td>Sweden</td>\n",
       "      <td>SE</td>\n",
       "      <td>SWE</td>\n",
       "    </tr>\n",
       "  </tbody>\n",
       "</table>\n",
       "</div>"
      ],
      "text/plain": [
       "   Unnamed: 0 discipline_title     slug_game    event_title event_gender  \\\n",
       "0           0          Curling  beijing-2022  Mixed Doubles        Mixed   \n",
       "1           1          Curling  beijing-2022  Mixed Doubles        Mixed   \n",
       "2           2          Curling  beijing-2022  Mixed Doubles        Mixed   \n",
       "3           3          Curling  beijing-2022  Mixed Doubles        Mixed   \n",
       "4           4          Curling  beijing-2022  Mixed Doubles        Mixed   \n",
       "\n",
       "  medal_type participant_type participant_title  \\\n",
       "0       GOLD         GameTeam             Italy   \n",
       "1       GOLD         GameTeam             Italy   \n",
       "2     SILVER         GameTeam            Norway   \n",
       "3     SILVER         GameTeam            Norway   \n",
       "4     BRONZE         GameTeam            Sweden   \n",
       "\n",
       "                                         athlete_url     athlete_full_name  \\\n",
       "0  https://olympics.com/en/athletes/stefania-cons...  Stefania CONSTANTINI   \n",
       "1      https://olympics.com/en/athletes/amos-mosaner          Amos MOSANER   \n",
       "2  https://olympics.com/en/athletes/kristin-skaslien      Kristin SKASLIEN   \n",
       "3  https://olympics.com/en/athletes/magnus-nedreg...    Magnus NEDREGOTTEN   \n",
       "4     https://olympics.com/en/athletes/almida-de-val         Almida DE VAL   \n",
       "\n",
       "  country_name country_code country_3_letter_code  \n",
       "0        Italy           IT                   ITA  \n",
       "1        Italy           IT                   ITA  \n",
       "2       Norway           NO                   NOR  \n",
       "3       Norway           NO                   NOR  \n",
       "4       Sweden           SE                   SWE  "
      ]
     },
     "execution_count": 14,
     "metadata": {},
     "output_type": "execute_result"
    }
   ],
   "source": [
    "# Chemin vers le fichier Excel\n",
    "excel_file = './files/olympic_medals.xlsx'\n",
    "\n",
    "# Lire le fichier Excel\n",
    "df_excel = pd.read_excel(excel_file)\n",
    "\n",
    "# Afficher les premières lignes du DataFrame\n",
    "df_excel.head()"
   ]
  },
  {
   "cell_type": "code",
   "execution_count": 19,
   "id": "90095956",
   "metadata": {},
   "outputs": [
    {
     "name": "stdout",
     "output_type": "stream",
     "text": [
      "Il y a 21697 lignes et 13 colonnes\n"
     ]
    }
   ],
   "source": [
    "# Combien de lignes ? Combien de colonnes ?\n",
    "print('Il y a ' + str(df_excel.shape[0]) + ' lignes et ' + str(df_excel.shape[1]) + ' colonnes')"
   ]
  },
  {
   "cell_type": "code",
   "execution_count": 25,
   "id": "d064fff5",
   "metadata": {
    "scrolled": true
   },
   "outputs": [
    {
     "data": {
      "text/plain": [
       "Unnamed: 0                int64\n",
       "discipline_title         object\n",
       "slug_game                object\n",
       "event_title              object\n",
       "event_gender             object\n",
       "medal_type               object\n",
       "participant_type         object\n",
       "participant_title        object\n",
       "athlete_url              object\n",
       "athlete_full_name        object\n",
       "country_name             object\n",
       "country_code             object\n",
       "country_3_letter_code    object\n",
       "dtype: object"
      ]
     },
     "execution_count": 25,
     "metadata": {},
     "output_type": "execute_result"
    }
   ],
   "source": [
    "# Afficher le type de données dans chaque colonne\n",
    "df_excel.dtypes"
   ]
  },
  {
   "cell_type": "code",
   "execution_count": 29,
   "id": "e643b4b7",
   "metadata": {},
   "outputs": [
    {
     "name": "stdout",
     "output_type": "stream",
     "text": [
      "Il y a 0 ligne(s) dupliquée(s)\n"
     ]
    }
   ],
   "source": [
    "# Y a-t'il des lignes dupliquée ? Si oui, les supprimer\n",
    "print('Il y a ' + str(df_excel.duplicated().sum()) + ' ligne(s) dupliquée(s)')"
   ]
  },
  {
   "cell_type": "code",
   "execution_count": 33,
   "id": "aa854410",
   "metadata": {},
   "outputs": [
    {
     "data": {
      "text/plain": [
       "Unnamed: 0                   0\n",
       "discipline_title             0\n",
       "slug_game                    0\n",
       "event_title                  0\n",
       "event_gender                 0\n",
       "medal_type                   0\n",
       "participant_type             0\n",
       "participant_title        15113\n",
       "athlete_url               4670\n",
       "athlete_full_name         3624\n",
       "country_name                 0\n",
       "country_code              1502\n",
       "country_3_letter_code        0\n",
       "dtype: int64"
      ]
     },
     "execution_count": 33,
     "metadata": {},
     "output_type": "execute_result"
    }
   ],
   "source": [
    "# Afficher le nombre de données manquantes pour chaque colonne\n",
    "df_excel.isnull().sum()"
   ]
  },
  {
   "cell_type": "markdown",
   "id": "f731cf2e",
   "metadata": {},
   "source": [
    "### Hôtes - olympic_hosts.xml"
   ]
  },
  {
   "cell_type": "code",
   "execution_count": 15,
   "id": "c0eb8de3",
   "metadata": {},
   "outputs": [
    {
     "data": {
      "text/html": [
       "<div>\n",
       "<style scoped>\n",
       "    .dataframe tbody tr th:only-of-type {\n",
       "        vertical-align: middle;\n",
       "    }\n",
       "\n",
       "    .dataframe tbody tr th {\n",
       "        vertical-align: top;\n",
       "    }\n",
       "\n",
       "    .dataframe thead th {\n",
       "        text-align: right;\n",
       "    }\n",
       "</style>\n",
       "<table border=\"1\" class=\"dataframe\">\n",
       "  <thead>\n",
       "    <tr style=\"text-align: right;\">\n",
       "      <th></th>\n",
       "      <th>index</th>\n",
       "      <th>game_slug</th>\n",
       "      <th>game_end_date</th>\n",
       "      <th>game_start_date</th>\n",
       "      <th>game_location</th>\n",
       "      <th>game_name</th>\n",
       "      <th>game_season</th>\n",
       "      <th>game_year</th>\n",
       "    </tr>\n",
       "  </thead>\n",
       "  <tbody>\n",
       "    <tr>\n",
       "      <th>0</th>\n",
       "      <td>0</td>\n",
       "      <td>beijing-2022</td>\n",
       "      <td>2022-02-20T12:00:00Z</td>\n",
       "      <td>2022-02-04T15:00:00Z</td>\n",
       "      <td>China</td>\n",
       "      <td>Beijing 2022</td>\n",
       "      <td>Winter</td>\n",
       "      <td>2022</td>\n",
       "    </tr>\n",
       "    <tr>\n",
       "      <th>1</th>\n",
       "      <td>1</td>\n",
       "      <td>tokyo-2020</td>\n",
       "      <td>2021-08-08T14:00:00Z</td>\n",
       "      <td>2021-07-23T11:00:00Z</td>\n",
       "      <td>Japan</td>\n",
       "      <td>Tokyo 2020</td>\n",
       "      <td>Summer</td>\n",
       "      <td>2020</td>\n",
       "    </tr>\n",
       "    <tr>\n",
       "      <th>2</th>\n",
       "      <td>2</td>\n",
       "      <td>pyeongchang-2018</td>\n",
       "      <td>2018-02-25T08:00:00Z</td>\n",
       "      <td>2018-02-08T23:00:00Z</td>\n",
       "      <td>Republic of Korea</td>\n",
       "      <td>PyeongChang 2018</td>\n",
       "      <td>Winter</td>\n",
       "      <td>2018</td>\n",
       "    </tr>\n",
       "    <tr>\n",
       "      <th>3</th>\n",
       "      <td>3</td>\n",
       "      <td>rio-2016</td>\n",
       "      <td>2016-08-21T21:00:00Z</td>\n",
       "      <td>2016-08-05T12:00:00Z</td>\n",
       "      <td>Brazil</td>\n",
       "      <td>Rio 2016</td>\n",
       "      <td>Summer</td>\n",
       "      <td>2016</td>\n",
       "    </tr>\n",
       "    <tr>\n",
       "      <th>4</th>\n",
       "      <td>4</td>\n",
       "      <td>sochi-2014</td>\n",
       "      <td>2014-02-23T16:00:00Z</td>\n",
       "      <td>2014-02-07T04:00:00Z</td>\n",
       "      <td>Russian Federation</td>\n",
       "      <td>Sochi 2014</td>\n",
       "      <td>Winter</td>\n",
       "      <td>2014</td>\n",
       "    </tr>\n",
       "  </tbody>\n",
       "</table>\n",
       "</div>"
      ],
      "text/plain": [
       "   index         game_slug         game_end_date       game_start_date  \\\n",
       "0      0      beijing-2022  2022-02-20T12:00:00Z  2022-02-04T15:00:00Z   \n",
       "1      1        tokyo-2020  2021-08-08T14:00:00Z  2021-07-23T11:00:00Z   \n",
       "2      2  pyeongchang-2018  2018-02-25T08:00:00Z  2018-02-08T23:00:00Z   \n",
       "3      3          rio-2016  2016-08-21T21:00:00Z  2016-08-05T12:00:00Z   \n",
       "4      4        sochi-2014  2014-02-23T16:00:00Z  2014-02-07T04:00:00Z   \n",
       "\n",
       "        game_location         game_name game_season  game_year  \n",
       "0               China      Beijing 2022      Winter       2022  \n",
       "1               Japan        Tokyo 2020      Summer       2020  \n",
       "2   Republic of Korea  PyeongChang 2018      Winter       2018  \n",
       "3              Brazil          Rio 2016      Summer       2016  \n",
       "4  Russian Federation        Sochi 2014      Winter       2014  "
      ]
     },
     "execution_count": 15,
     "metadata": {},
     "output_type": "execute_result"
    }
   ],
   "source": [
    "# Chemin vers le fichier XML\n",
    "xml_file = './files/olympic_hosts.xml'\n",
    "\n",
    "# Lire le fichier XML\n",
    "df_xml = pd.read_xml(xml_file)\n",
    "\n",
    "# Afficher les premières lignes du DataFrame\n",
    "df_xml.head()"
   ]
  },
  {
   "cell_type": "code",
   "execution_count": 20,
   "id": "c38c319a",
   "metadata": {},
   "outputs": [
    {
     "name": "stdout",
     "output_type": "stream",
     "text": [
      "Il y a 53 lignes et 8 colonnes\n"
     ]
    }
   ],
   "source": [
    "# Combien de lignes ? Combien de colonnes ?\n",
    "print('Il y a ' + str(df_xml.shape[0]) + ' lignes et ' + str(df_xml.shape[1]) + ' colonnes')"
   ]
  },
  {
   "cell_type": "code",
   "execution_count": 26,
   "id": "65ef6643",
   "metadata": {
    "scrolled": true
   },
   "outputs": [
    {
     "data": {
      "text/plain": [
       "index               int64\n",
       "game_slug          object\n",
       "game_end_date      object\n",
       "game_start_date    object\n",
       "game_location      object\n",
       "game_name          object\n",
       "game_season        object\n",
       "game_year           int64\n",
       "dtype: object"
      ]
     },
     "execution_count": 26,
     "metadata": {},
     "output_type": "execute_result"
    }
   ],
   "source": [
    "# Afficher le type de données dans chaque colonne\n",
    "df_xml.dtypes"
   ]
  },
  {
   "cell_type": "code",
   "execution_count": 30,
   "id": "6a406e97",
   "metadata": {},
   "outputs": [
    {
     "name": "stdout",
     "output_type": "stream",
     "text": [
      "Il y a 0 ligne(s) dupliquée(s)\n"
     ]
    }
   ],
   "source": [
    "# Y a-t'il des lignes dupliquée ? Si oui, les supprimer\n",
    "print('Il y a ' + str(df_xml.duplicated().sum()) + ' ligne(s) dupliquée(s)')"
   ]
  },
  {
   "cell_type": "code",
   "execution_count": 34,
   "id": "8f080103",
   "metadata": {},
   "outputs": [
    {
     "data": {
      "text/plain": [
       "index              0\n",
       "game_slug          0\n",
       "game_end_date      0\n",
       "game_start_date    0\n",
       "game_location      0\n",
       "game_name          0\n",
       "game_season        0\n",
       "game_year          0\n",
       "dtype: int64"
      ]
     },
     "execution_count": 34,
     "metadata": {},
     "output_type": "execute_result"
    }
   ],
   "source": [
    "# Afficher le nombre de données manquantes pour chaque colonne\n",
    "df_xml.isnull().sum()"
   ]
  }
 ],
 "metadata": {
  "kernelspec": {
   "display_name": "Python 3 (ipykernel)",
   "language": "python",
   "name": "python3"
  },
  "language_info": {
   "codemirror_mode": {
    "name": "ipython",
    "version": 3
   },
   "file_extension": ".py",
   "mimetype": "text/x-python",
   "name": "python",
   "nbconvert_exporter": "python",
   "pygments_lexer": "ipython3",
   "version": "3.11.5"
  }
 },
 "nbformat": 4,
 "nbformat_minor": 5
}
