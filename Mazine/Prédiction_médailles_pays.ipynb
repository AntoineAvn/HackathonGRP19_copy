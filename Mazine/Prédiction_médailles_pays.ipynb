{
 "cells": [
  {
   "cell_type": "code",
   "execution_count": 1,
   "metadata": {},
   "outputs": [
    {
     "name": "stdout",
     "output_type": "stream",
     "text": [
      "   Unnamed: 0 discipline_title     slug_game    event_title event_gender  \\\n",
      "0           0          Curling  beijing-2022  Mixed Doubles        Mixed   \n",
      "1           1          Curling  beijing-2022  Mixed Doubles        Mixed   \n",
      "2           2          Curling  beijing-2022  Mixed Doubles        Mixed   \n",
      "3           3          Curling  beijing-2022  Mixed Doubles        Mixed   \n",
      "4           4          Curling  beijing-2022  Mixed Doubles        Mixed   \n",
      "\n",
      "  medal_type participant_type participant_title  \\\n",
      "0       GOLD         GameTeam             Italy   \n",
      "1       GOLD         GameTeam             Italy   \n",
      "2     SILVER         GameTeam            Norway   \n",
      "3     SILVER         GameTeam            Norway   \n",
      "4     BRONZE         GameTeam            Sweden   \n",
      "\n",
      "                                         athlete_url     athlete_full_name  \\\n",
      "0  https://olympics.com/en/athletes/stefania-cons...  Stefania CONSTANTINI   \n",
      "1      https://olympics.com/en/athletes/amos-mosaner          Amos MOSANER   \n",
      "2  https://olympics.com/en/athletes/kristin-skaslien      Kristin SKASLIEN   \n",
      "3  https://olympics.com/en/athletes/magnus-nedreg...    Magnus NEDREGOTTEN   \n",
      "4     https://olympics.com/en/athletes/almida-de-val         Almida DE VAL   \n",
      "\n",
      "  country_name country_code country_3_letter_code  \n",
      "0        Italy           IT                   ITA  \n",
      "1        Italy           IT                   ITA  \n",
      "2       Norway           NO                   NOR  \n",
      "3       Norway           NO                   NOR  \n",
      "4       Sweden           SE                   SWE  \n"
     ]
    }
   ],
   "source": [
    "import pandas as pd\n",
    "\n",
    "# Charger le fichier Excel\n",
    "df = pd.read_excel('olympic_medals.xlsx')\n",
    "\n",
    "# Afficher les premières lignes pour vérifier\n",
    "print(df.head())\n"
   ]
  },
  {
   "cell_type": "code",
   "execution_count": 2,
   "metadata": {},
   "outputs": [
    {
     "name": "stdout",
     "output_type": "stream",
     "text": [
      "Index(['Unnamed: 0', 'discipline_title', 'slug_game', 'event_title',\n",
      "       'event_gender', 'medal_type', 'participant_type', 'participant_title',\n",
      "       'athlete_url', 'athlete_full_name', 'country_name', 'country_code',\n",
      "       'country_3_letter_code'],\n",
      "      dtype='object')\n",
      "        country  year  bronze  gold  silver\n",
      "0   Afghanistan  2008       1     0       0\n",
      "1   Afghanistan  2012       1     0       0\n",
      "2       Algeria  1996       1     2       0\n",
      "3       Algeria  1992       1     1       0\n",
      "4       Algeria  2008       1     0       1\n",
      "..          ...   ...     ...   ...     ...\n",
      "95      Austria  1984       1     1       1\n",
      "96      Austria  1956       4     0       0\n",
      "97      Austria  1968       3     0       2\n",
      "98      Austria  1976       1     0       0\n",
      "99      Austria  1980       1     1       3\n",
      "\n",
      "[100 rows x 5 columns]\n"
     ]
    }
   ],
   "source": [
    "# Vérifier la structure des données\n",
    "print(df.columns)\n",
    "\n",
    "# Renommer les colonnes si nécessaire pour faciliter l'accès\n",
    "df.columns = ['','discipline_title', 'slug_game', 'event_title', 'event_gender', 'medal_type', 'participant_type', 'participant_title', 'athlete_url', 'athlete_full_name', 'country_name', 'country_code', 'country_3_letter_code']\n",
    "\n",
    "\n",
    "# Créer un DataFrame avec les médailles agrégées par pays et par année\n",
    "df_medals = df.groupby(['country_name', 'slug_game', 'medal_type']).size().unstack(fill_value=0).reset_index()\n",
    "\n",
    "# Renommer les colonnes pour plus de clarté\n",
    "df_medals.columns = ['country', 'year', 'bronze', 'gold', 'silver']\n",
    "\n",
    "df_medals['year'] = df_medals['year'].apply(lambda x: int(x.split('-')[-1]))\n",
    "\n",
    "# Afficher le DataFrame préparé\n",
    "print(df_medals.head(100))\n"
   ]
  },
  {
   "cell_type": "code",
   "execution_count": 3,
   "metadata": {},
   "outputs": [
    {
     "data": {
      "text/plain": [
       "array(['Afghanistan', 'Algeria', 'Argentina', 'Armenia', 'Australasia',\n",
       "       'Australia', 'Austria', 'Azerbaijan', 'Bahamas', 'Bahrain',\n",
       "       'Barbados', 'Belarus', 'Belgium', 'Bermuda', 'Bohemia', 'Botswana',\n",
       "       'Brazil', 'Bulgaria', 'Burkina Faso', 'Burundi', 'Cameroon',\n",
       "       'Canada', 'Chile', 'Chinese Taipei', 'Colombia', 'Costa Rica',\n",
       "       'Croatia', 'Cuba', 'Cyprus', 'Czech Republic', 'Czechoslovakia',\n",
       "       \"Côte d'Ivoire\", \"Democratic People's Republic of Korea\",\n",
       "       'Denmark', 'Djibouti', 'Dominican Republic', 'Ecuador', 'Egypt',\n",
       "       'Eritrea', 'Estonia', 'Ethiopia', 'Federal Republic of Germany',\n",
       "       'Fiji', 'Finland', 'France', 'Gabon', 'Georgia',\n",
       "       'German Democratic Republic (Germany)', 'Germany', 'Ghana',\n",
       "       'Great Britain', 'Greece', 'Grenada', 'Guatemala', 'Guyana',\n",
       "       'Haiti', 'Hong Kong, China', 'Hungary', 'Iceland',\n",
       "       'Independent Olympic Athletes', 'India', 'Indonesia', 'Iraq',\n",
       "       'Ireland', 'Islamic Republic of Iran', 'Israel', 'Italy',\n",
       "       'Jamaica', 'Japan', 'Jordan', 'Kazakhstan', 'Kenya', 'Kosovo',\n",
       "       'Kuwait', 'Kyrgyzstan', 'Latvia', 'Lebanon', 'Liechtenstein',\n",
       "       'Lithuania', 'Luxembourg', 'MIX', 'Malaysia', 'Mauritius',\n",
       "       'Mexico', 'Mongolia', 'Montenegro', 'Morocco', 'Mozambique',\n",
       "       'Namibia', 'Netherlands', 'Netherlands Antilles', 'New Zealand',\n",
       "       'Niger', 'Nigeria', 'North Macedonia', 'Norway',\n",
       "       'Olympic Athletes from Russia', 'Pakistan', 'Panama', 'Paraguay',\n",
       "       \"People's Republic of China\", 'Peru', 'Philippines', 'Poland',\n",
       "       'Portugal', 'Puerto Rico', 'Qatar', 'ROC', 'Republic of Korea',\n",
       "       'Republic of Moldova', 'Romania', 'Russian Federation', 'Samoa',\n",
       "       'San Marino', 'Saudi Arabia', 'Senegal', 'Serbia',\n",
       "       'Serbia and Montenegro', 'Singapore', 'Slovakia', 'Slovenia',\n",
       "       'South Africa', 'Soviet Union', 'Spain', 'Sri Lanka', 'Sudan',\n",
       "       'Suriname', 'Sweden', 'Switzerland', 'Syrian Arab Republic',\n",
       "       'Tajikistan', 'Thailand', 'Togo', 'Tonga', 'Trinidad and Tobago',\n",
       "       'Tunisia', 'Turkey', 'Turkmenistan', 'Uganda', 'Ukraine',\n",
       "       'Unified Team', 'United Arab Emirates', 'United Arab Republic',\n",
       "       'United Republic of Tanzania', 'United States of America',\n",
       "       'Uruguay', 'Uzbekistan', 'Venezuela', 'Vietnam',\n",
       "       'Virgin Islands, US', 'West Indies Federation', 'Yugoslavia',\n",
       "       'Zambia', 'Zimbabwe'], dtype=object)"
      ]
     },
     "execution_count": 3,
     "metadata": {},
     "output_type": "execute_result"
    }
   ],
   "source": [
    "countries = df_medals['country'].unique()\n",
    "countries"
   ]
  },
  {
   "cell_type": "code",
   "execution_count": 4,
   "metadata": {},
   "outputs": [],
   "source": [
    "# Réduction du nombre de doublons\n",
    "for country in countries:\n",
    "    if 'Soviet Union' in country:\n",
    "        df_medals['country'].replace(country, 'Russian Federation', inplace=True)        \n",
    "    elif 'Olympic Athletes from Russia' in country: \n",
    "        df_medals['country'].replace(country, 'Russian Federation', inplace=True)\n",
    "    elif 'Federal Republic of Germany' in country: \n",
    "        df_medals['country'].replace(country, 'Germany', inplace=True)   \n",
    "    elif 'German Democratic Republic (Germany)' in country: \n",
    "        df_medals['country'].replace(country, 'Germany', inplace=True)  "
   ]
  },
  {
   "cell_type": "code",
   "execution_count": 5,
   "metadata": {},
   "outputs": [],
   "source": [
    "from sklearn.model_selection import train_test_split\n",
    "\n",
    "# Sélectionner les années comme caractéristiques et les médailles comme étiquettes\n",
    "features = df_medals[['year']]\n",
    "labels = df_medals[['gold', 'silver', 'bronze']]\n",
    "\n",
    "# Diviser les données en ensembles d'entraînement et de test\n",
    "X_train, X_test, y_train, y_test = train_test_split(features, labels, test_size=0.2, random_state=42)\n"
   ]
  },
  {
   "cell_type": "code",
   "execution_count": 6,
   "metadata": {},
   "outputs": [
    {
     "name": "stdout",
     "output_type": "stream",
     "text": [
      "Epoch 1/50\n",
      "36/36 [==============================] - 1s 8ms/step - loss: 5346.6953 - val_loss: 313.3078\n",
      "Epoch 2/50\n",
      "36/36 [==============================] - 0s 3ms/step - loss: 112.5106 - val_loss: 41.1694\n",
      "Epoch 3/50\n",
      "36/36 [==============================] - 0s 3ms/step - loss: 51.9457 - val_loss: 33.3584\n",
      "Epoch 4/50\n",
      "36/36 [==============================] - 0s 3ms/step - loss: 50.3706 - val_loss: 33.2123\n",
      "Epoch 5/50\n",
      "36/36 [==============================] - 0s 3ms/step - loss: 50.4726 - val_loss: 35.4108\n",
      "Epoch 6/50\n",
      "36/36 [==============================] - 0s 4ms/step - loss: 50.6502 - val_loss: 34.1416\n",
      "Epoch 7/50\n",
      "36/36 [==============================] - 0s 3ms/step - loss: 51.0702 - val_loss: 33.1708\n",
      "Epoch 8/50\n",
      "36/36 [==============================] - 0s 3ms/step - loss: 51.1647 - val_loss: 33.7720\n",
      "Epoch 9/50\n",
      "36/36 [==============================] - 0s 3ms/step - loss: 51.2933 - val_loss: 34.4256\n",
      "Epoch 10/50\n",
      "36/36 [==============================] - 0s 3ms/step - loss: 51.7175 - val_loss: 33.4247\n",
      "Epoch 11/50\n",
      "36/36 [==============================] - 0s 5ms/step - loss: 51.2111 - val_loss: 35.4673\n",
      "Epoch 12/50\n",
      "36/36 [==============================] - 0s 3ms/step - loss: 51.6094 - val_loss: 39.0077\n",
      "Epoch 13/50\n",
      "36/36 [==============================] - 0s 3ms/step - loss: 51.6869 - val_loss: 33.2302\n",
      "Epoch 14/50\n",
      "36/36 [==============================] - 0s 3ms/step - loss: 50.9396 - val_loss: 34.4286\n",
      "Epoch 15/50\n",
      "36/36 [==============================] - 0s 3ms/step - loss: 51.7267 - val_loss: 37.3014\n",
      "Epoch 16/50\n",
      "36/36 [==============================] - 0s 3ms/step - loss: 55.5765 - val_loss: 34.0638\n",
      "Epoch 17/50\n",
      "36/36 [==============================] - 0s 3ms/step - loss: 50.8424 - val_loss: 34.7463\n",
      "Epoch 18/50\n",
      "36/36 [==============================] - 0s 3ms/step - loss: 53.1992 - val_loss: 36.3783\n",
      "Epoch 19/50\n",
      "36/36 [==============================] - 0s 3ms/step - loss: 51.0644 - val_loss: 33.7145\n",
      "Epoch 20/50\n",
      "36/36 [==============================] - 0s 3ms/step - loss: 51.0738 - val_loss: 34.2921\n",
      "Epoch 21/50\n",
      "36/36 [==============================] - 0s 3ms/step - loss: 51.2569 - val_loss: 33.0114\n",
      "Epoch 22/50\n",
      "36/36 [==============================] - 0s 3ms/step - loss: 51.3641 - val_loss: 38.5142\n",
      "Epoch 23/50\n",
      "36/36 [==============================] - 0s 4ms/step - loss: 52.0817 - val_loss: 39.5025\n",
      "Epoch 24/50\n",
      "36/36 [==============================] - 0s 3ms/step - loss: 54.5167 - val_loss: 41.2964\n",
      "Epoch 25/50\n",
      "36/36 [==============================] - 0s 3ms/step - loss: 53.0443 - val_loss: 33.4731\n",
      "Epoch 26/50\n",
      "36/36 [==============================] - 0s 3ms/step - loss: 51.6854 - val_loss: 33.1628\n",
      "Epoch 27/50\n",
      "36/36 [==============================] - 0s 3ms/step - loss: 50.6391 - val_loss: 34.2582\n",
      "Epoch 28/50\n",
      "36/36 [==============================] - 0s 4ms/step - loss: 52.4033 - val_loss: 33.6733\n",
      "Epoch 29/50\n",
      "36/36 [==============================] - 0s 4ms/step - loss: 52.5808 - val_loss: 36.4752\n",
      "Epoch 30/50\n",
      "36/36 [==============================] - 0s 3ms/step - loss: 52.7988 - val_loss: 34.3630\n",
      "Epoch 31/50\n",
      "36/36 [==============================] - 0s 3ms/step - loss: 53.2583 - val_loss: 57.1906\n",
      "Epoch 32/50\n",
      "36/36 [==============================] - 0s 5ms/step - loss: 54.6790 - val_loss: 33.8292\n",
      "Epoch 33/50\n",
      "36/36 [==============================] - 0s 3ms/step - loss: 50.7968 - val_loss: 33.9941\n",
      "Epoch 34/50\n",
      "36/36 [==============================] - 0s 3ms/step - loss: 50.8396 - val_loss: 35.1568\n",
      "Epoch 35/50\n",
      "36/36 [==============================] - 0s 3ms/step - loss: 55.9440 - val_loss: 38.2481\n",
      "Epoch 36/50\n",
      "36/36 [==============================] - 0s 3ms/step - loss: 52.8283 - val_loss: 40.0744\n",
      "Epoch 37/50\n",
      "36/36 [==============================] - 0s 3ms/step - loss: 54.5579 - val_loss: 33.4533\n",
      "Epoch 38/50\n",
      "36/36 [==============================] - 0s 3ms/step - loss: 51.5889 - val_loss: 41.9190\n",
      "Epoch 39/50\n",
      "36/36 [==============================] - 0s 3ms/step - loss: 55.0780 - val_loss: 39.8853\n",
      "Epoch 40/50\n",
      "36/36 [==============================] - 0s 3ms/step - loss: 54.0225 - val_loss: 55.3638\n",
      "Epoch 41/50\n",
      "36/36 [==============================] - 0s 3ms/step - loss: 54.2658 - val_loss: 36.1386\n",
      "Epoch 42/50\n",
      "36/36 [==============================] - 0s 3ms/step - loss: 53.8079 - val_loss: 36.0231\n",
      "Epoch 43/50\n",
      "36/36 [==============================] - 0s 3ms/step - loss: 52.8123 - val_loss: 38.4698\n",
      "Epoch 44/50\n",
      "36/36 [==============================] - 0s 3ms/step - loss: 53.4254 - val_loss: 36.0241\n",
      "Epoch 45/50\n",
      "36/36 [==============================] - 0s 4ms/step - loss: 52.8921 - val_loss: 50.1192\n",
      "Epoch 46/50\n",
      "36/36 [==============================] - 0s 4ms/step - loss: 57.8962 - val_loss: 36.6360\n",
      "Epoch 47/50\n",
      "36/36 [==============================] - 0s 4ms/step - loss: 54.3481 - val_loss: 35.5414\n",
      "Epoch 48/50\n",
      "36/36 [==============================] - 0s 3ms/step - loss: 55.3938 - val_loss: 37.4633\n",
      "Epoch 49/50\n",
      "36/36 [==============================] - 0s 3ms/step - loss: 55.1008 - val_loss: 38.8818\n",
      "Epoch 50/50\n",
      "36/36 [==============================] - 0s 3ms/step - loss: 57.9694 - val_loss: 33.5664\n"
     ]
    },
    {
     "data": {
      "text/plain": [
       "<keras.callbacks.History at 0x22c8299b7f0>"
      ]
     },
     "execution_count": 6,
     "metadata": {},
     "output_type": "execute_result"
    }
   ],
   "source": [
    "import tensorflow as tf\n",
    "from tensorflow.keras.models import Sequential\n",
    "from tensorflow.keras.layers import Dense\n",
    "\n",
    "model = Sequential([\n",
    "    Dense(64, activation='relu', input_shape=(1,)),  # 1 caractéristique : 'year'\n",
    "    Dense(64, activation='relu'),\n",
    "    Dense(3)  # 3 étiquettes : 'gold', 'silver', 'bronze'\n",
    "])\n",
    "\n",
    "model.compile(optimizer='adam', loss='mean_squared_error')\n",
    "\n",
    "# Entraîner le modèle\n",
    "model.fit(X_train, y_train, epochs=50, validation_split=0.2)\n"
   ]
  },
  {
   "cell_type": "code",
   "execution_count": 7,
   "metadata": {},
   "outputs": [
    {
     "name": "stdout",
     "output_type": "stream",
     "text": [
      "1/1 [==============================] - 0s 111ms/step\n",
      "Predicted medals for 2024:\n",
      "Gold: 4.743855953216553, Silver: 2.915093421936035, Bronze: 4.45546817779541\n"
     ]
    }
   ],
   "source": [
    "import numpy as np\n",
    "\n",
    "# Prédire pour l'année 2024\n",
    "year_to_predict = np.array([[2024]])\n",
    "\n",
    "predictions = model.predict(year_to_predict)\n",
    "\n",
    "print(\"Predicted medals for 2024:\")\n",
    "print(f\"Gold: {predictions[0][0]}, Silver: {predictions[0][1]}, Bronze: {predictions[0][2]}\")\n"
   ]
  },
  {
   "cell_type": "code",
   "execution_count": 8,
   "metadata": {},
   "outputs": [
    {
     "name": "stdout",
     "output_type": "stream",
     "text": [
      "1/1 [==============================] - 0s 63ms/step\n",
      "1/1 [==============================] - 0s 25ms/step\n",
      "1/1 [==============================] - 0s 24ms/step\n",
      "1/1 [==============================] - 0s 26ms/step\n",
      "1/1 [==============================] - 0s 24ms/step\n",
      "1/1 [==============================] - 0s 24ms/step\n",
      "1/1 [==============================] - 0s 27ms/step\n",
      "1/1 [==============================] - 0s 24ms/step\n",
      "1/1 [==============================] - 0s 24ms/step\n",
      "1/1 [==============================] - 0s 27ms/step\n",
      "Predicted medals for top 10 countries:\n",
      "United States of America - Gold: 4.748608112335205, Silver: 2.918076515197754, Bronze: 4.459842681884766\n",
      "Russian Federation - Gold: 4.739121437072754, Silver: 2.912278175354004, Bronze: 4.451017379760742\n",
      "Germany - Gold: 4.748608112335205, Silver: 2.918076515197754, Bronze: 4.459842681884766\n",
      "People's Republic of China - Gold: 4.748608112335205, Silver: 2.918076515197754, Bronze: 4.459842681884766\n",
      "Great Britain - Gold: 4.748608112335205, Silver: 2.918076515197754, Bronze: 4.459842681884766\n",
      "France - Gold: 4.748608112335205, Silver: 2.918076515197754, Bronze: 4.459842681884766\n",
      "Italy - Gold: 4.748608112335205, Silver: 2.918076515197754, Bronze: 4.459842681884766\n",
      "Sweden - Gold: 4.748608112335205, Silver: 2.918076515197754, Bronze: 4.459842681884766\n",
      "Norway - Gold: 4.748608112335205, Silver: 2.918076515197754, Bronze: 4.459842681884766\n",
      "Hungary - Gold: 4.748608112335205, Silver: 2.918076515197754, Bronze: 4.459842681884766\n"
     ]
    }
   ],
   "source": [
    "# Obtenir les 10 meilleurs pays en fonction des médailles totales\n",
    "top_10_countries = df_medals.groupby('country')[['gold', 'silver', 'bronze']].sum().sort_values(by=['gold', 'silver', 'bronze'], ascending=False).head(10).index\n",
    "\n",
    "predictions_top_10 = {}\n",
    "for country in top_10_countries:\n",
    "    country_data = df_medals[df_medals['country'] == country]\n",
    "    last_year = country_data['year'].max()\n",
    "    predictions = model.predict(np.array([[last_year + 4]]))  # Prédire pour la prochaine olympiade\n",
    "\n",
    "    predictions_top_10[country] = {\n",
    "        'gold': predictions[0][0],\n",
    "        'silver': predictions[0][1],\n",
    "        'bronze': predictions[0][2]\n",
    "    }\n",
    "\n",
    "print(\"Predicted medals for top 10 countries:\")\n",
    "for country, medals in predictions_top_10.items():\n",
    "    print(f\"{country} - Gold: {medals['gold']}, Silver: {medals['silver']}, Bronze: {medals['bronze']}\")\n"
   ]
  },
  {
   "cell_type": "code",
   "execution_count": 10,
   "metadata": {},
   "outputs": [
    {
     "name": "stdout",
     "output_type": "stream",
     "text": [
      "Keras weights file (<HDF5 file \"variables.h5\" (mode r+)>) saving:\n",
      "...layers\\dense\n",
      "......vars\n",
      ".........0\n",
      ".........1\n",
      "...layers\\dense_1\n",
      "......vars\n",
      ".........0\n",
      ".........1\n",
      "...layers\\dense_2\n",
      "......vars\n",
      ".........0\n",
      ".........1\n",
      "...metrics\\mean\n",
      "......vars\n",
      ".........0\n",
      ".........1\n",
      "...optimizer\n",
      "......vars\n",
      ".........0\n",
      ".........1\n",
      ".........10\n",
      ".........11\n",
      ".........12\n",
      ".........2\n",
      ".........3\n",
      ".........4\n",
      ".........5\n",
      ".........6\n",
      ".........7\n",
      ".........8\n",
      ".........9\n",
      "...vars\n",
      "Keras model archive saving:\n",
      "File Name                                             Modified             Size\n",
      "config.json                                    2024-05-28 16:36:50         1811\n",
      "metadata.json                                  2024-05-28 16:36:50           64\n",
      "variables.h5                                   2024-05-28 16:36:50        73352\n"
     ]
    }
   ],
   "source": [
    "# Importation des bibliothèques\n",
    "import pickle\n",
    "import os\n",
    "# Création d'un dossier s'il n'existe pas\n",
    "if not os.path.exists('../models'):\n",
    "    os.mkdir('models')\n",
    "    pass\n",
    "# Sauvegarde du modèle\n",
    "pickle.dump(model, open('../models/medals_model.pkl','wb'))"
   ]
  },
  {
   "cell_type": "code",
   "execution_count": null,
   "metadata": {},
   "outputs": [],
   "source": [
    "from tensorflow.keras.models import load_model\n",
    "\n",
    "\n",
    "model.save('model_Prédiction_Top10.h5')\n",
    "model = load_model('model_Prédiction_Top10.h5')\n"
   ]
  }
 ],
 "metadata": {
  "kernelspec": {
   "display_name": "Python 3",
   "language": "python",
   "name": "python3"
  },
  "language_info": {
   "codemirror_mode": {
    "name": "ipython",
    "version": 3
   },
   "file_extension": ".py",
   "mimetype": "text/x-python",
   "name": "python",
   "nbconvert_exporter": "python",
   "pygments_lexer": "ipython3",
   "version": "3.10.6"
  }
 },
 "nbformat": 4,
 "nbformat_minor": 2
}
